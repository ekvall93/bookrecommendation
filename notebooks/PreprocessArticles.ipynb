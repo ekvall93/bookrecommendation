{
 "cells": [
  {
   "cell_type": "code",
   "execution_count": 1,
   "id": "a6ef35ea",
   "metadata": {},
   "outputs": [],
   "source": [
    "import pickle as pkl\n",
    "import pandas as pd\n",
    "import numpy as np\n",
    "from transformers import CLIPTokenizerFast\n",
    "import torch"
   ]
  },
  {
   "cell_type": "code",
   "execution_count": 2,
   "id": "6b2b1bca",
   "metadata": {},
   "outputs": [],
   "source": [
    "diva_df = pkl.load(open(\"../clipData/articleData.pkl\", \"rb\"))"
   ]
  },
  {
   "cell_type": "code",
   "execution_count": 20,
   "id": "a65b3c5d",
   "metadata": {},
   "outputs": [],
   "source": [
    "uid2name = {v:k for k_l, v_l in zip(diva_df.UidList,diva_df.NameList) for v,k in zip(k_l, v_l)} \n",
    "name2uid = {v:k for k, v in uid2name.items()}"
   ]
  },
  {
   "cell_type": "code",
   "execution_count": 21,
   "id": "0753d719",
   "metadata": {},
   "outputs": [],
   "source": [
    "pkl.dump(uid2name, open(\"../clipData/uid2name.pkl\", \"wb\"))\n",
    "pkl.dump(name2uid, open(\"../clipData/name2uid.pkl\", \"wb\"))"
   ]
  },
  {
   "cell_type": "code",
   "execution_count": 24,
   "id": "29d0af2d",
   "metadata": {},
   "outputs": [],
   "source": [
    "data = list()\n",
    "for i, row in diva_df.iterrows():\n",
    "    for uid in row.UidList:\n",
    "        data.append([uid, uid2name[uid]] + list(row.values))\n",
    "    "
   ]
  },
  {
   "cell_type": "code",
   "execution_count": 25,
   "id": "061124df",
   "metadata": {},
   "outputs": [],
   "source": [
    "df = pd.DataFrame(data, columns=[\"user_id\", \"name\"] + list(row.index))"
   ]
  },
  {
   "cell_type": "code",
   "execution_count": 26,
   "id": "a0eb233d",
   "metadata": {},
   "outputs": [],
   "source": [
    "mask = df.user_id.value_counts() > 5\n",
    "ix = df.user_id.value_counts()[mask].index\n",
    "df = df[df.user_id.isin(ix)]"
   ]
  },
  {
   "cell_type": "code",
   "execution_count": 27,
   "id": "0c8724b1",
   "metadata": {},
   "outputs": [
    {
     "data": {
      "text/plain": [
       "<AxesSubplot:>"
      ]
     },
     "execution_count": 27,
     "metadata": {},
     "output_type": "execute_result"
    },
    {
     "data": {
      "image/png": "[encoded data removed]",
      "text/plain": [
       "<Figure size 432x288 with 1 Axes>"
      ]
     },
     "metadata": {
      "needs_background": "light"
     },
     "output_type": "display_data"
    }
   ],
   "source": [
    "mask = df.user_id.value_counts()< 100\n",
    "df.user_id.value_counts()[mask].hist()"
   ]
  },
  {
   "cell_type": "code",
   "execution_count": 28,
   "id": "5a0c705f",
   "metadata": {},
   "outputs": [
    {
     "data": {
      "text/plain": [
       "<AxesSubplot:>"
      ]
     },
     "execution_count": 28,
     "metadata": {},
     "output_type": "execute_result"
    },
    {
     "data": {
      "image/png": "[encoded data removed]",
      "text/plain": [
       "<Figure size 432x288 with 1 Axes>"
      ]
     },
     "metadata": {
      "needs_background": "light"
     },
     "output_type": "display_data"
    }
   ],
   "source": [
    "mask = df.user_id.value_counts()>= 100\n",
    "df.user_id.value_counts()[mask].hist()"
   ]
  },
  {
   "cell_type": "code",
   "execution_count": 29,
   "id": "b55ee216",
   "metadata": {},
   "outputs": [],
   "source": [
    "uid2i = {uid: i for i,uid in enumerate(df.user_id.unique())}\n",
    "i2uid = {i: uid for uid, i in uid2i.items()}\n",
    "\n",
    "pkl.dump(uid2i, open(\"../clipData/uid2i.pkl\", \"wb\"))\n",
    "pkl.dump(i2uid, open(\"../clipData/i2uid.pkl\", \"wb\"))"
   ]
  },
  {
   "cell_type": "code",
   "execution_count": 30,
   "id": "d947992b",
   "metadata": {},
   "outputs": [],
   "source": [
    "df[\"i\"] = df.user_id.apply(lambda x: uid2i[x])"
   ]
  },
  {
   "cell_type": "code",
   "execution_count": 31,
   "id": "9e512c6a",
   "metadata": {},
   "outputs": [],
   "source": [
    "pct = 0.2\n",
    "np.random.seed(42)\n",
    "df_test_list = list()\n",
    "df_train_list = list()\n",
    "for user in set(df.user_id):\n",
    "    \n",
    "    df_user = df[df.user_id == user]\n",
    "\n",
    "\n",
    "    indices = list(df_user.index)\n",
    "    test_indices = np.random.choice(df_user.index,\n",
    "                                        size=int(len(df_user.index)*pct),\n",
    "                                        replace=False)\n",
    "    train_indicies = list(set(indices) - set(test_indices))\n",
    "\n",
    "    df_test_part = df_user.loc[test_indices]\n",
    "    df_train_part = df_user.loc[train_indicies]\n",
    "\n",
    "\n",
    "    assert not df_train_part.isin(df_test_part).all(1).all(), print(train_indicies, test_indices)\n",
    "        \n",
    "    \n",
    "    \n",
    "    df_test_list.append(df_test_part)\n",
    "    df_train_list.append(df_train_part)"
   ]
  },
  {
   "cell_type": "code",
   "execution_count": 32,
   "id": "9988ecc0",
   "metadata": {},
   "outputs": [],
   "source": [
    "df_train = pd.concat(df_train_list)\n",
    "df_test = pd.concat(df_test_list)"
   ]
  },
  {
   "cell_type": "code",
   "execution_count": 33,
   "id": "bdcb54b5",
   "metadata": {},
   "outputs": [],
   "source": [
    "df.to_csv(\"../clipData/whole.csv\")\n",
    "df_train.to_csv(\"../clipData/train.csv\")\n",
    "df_test.to_csv(\"../clipData/test.csv\")"
   ]
  },
  {
   "cell_type": "code",
   "execution_count": 14,
   "id": "d8e61543",
   "metadata": {},
   "outputs": [],
   "source": [
    "tokenizer = CLIPTokenizerFast.from_pretrained(\"openai/clip-vit-base-patch32\")\n"
   ]
  },
  {
   "cell_type": "code",
   "execution_count": 15,
   "id": "df31c984",
   "metadata": {},
   "outputs": [],
   "source": [
    "train_encodings = tokenizer(list(df_train.Abstract), truncation=True, padding=True)\n",
    "test_encodings = tokenizer(list(df_test.Abstract), truncation=True, padding=True)\n"
   ]
  },
  {
   "cell_type": "code",
   "execution_count": 16,
   "id": "59c48ad3",
   "metadata": {},
   "outputs": [],
   "source": [
    "train_uids = list(df_train.i)\n",
    "test_uids = list(df_test.i)\n",
    "\n",
    "train_doc_id = list(df_train.PID)\n",
    "test_doc_id = list(df_test.PID)\n",
    "\n"
   ]
  },
  {
   "cell_type": "code",
   "execution_count": 17,
   "id": "a7052f43",
   "metadata": {},
   "outputs": [],
   "source": [
    "class RankingDataset(torch.utils.data.Dataset):\n",
    "    def __init__(self, encodings1, user_id, doc_id):\n",
    "        self.encodings1 = encodings1\n",
    "        self.user_id = user_id\n",
    "        self.doc_id = doc_id\n",
    "\n",
    "    def __getitem__(self, idx):\n",
    "        item = {key: torch.tensor(val[idx]) for key, val in self.encodings1.items()}\n",
    "        item['user_id'] = torch.tensor(self.user_id[idx])\n",
    "        item['doc_id'] = torch.tensor(self.doc_id[idx])\n",
    "        return item\n",
    "\n",
    "    def __len__(self):\n",
    "        return len(self.user_id)"
   ]
  },
  {
   "cell_type": "code",
   "execution_count": 18,
   "id": "78e7225b",
   "metadata": {},
   "outputs": [],
   "source": [
    "train_dataset = RankingDataset(train_encodings, train_uids, train_doc_id)\n",
    "test_dataset = RankingDataset(test_encodings, test_uids, test_doc_id)"
   ]
  },
  {
   "cell_type": "code",
   "execution_count": 19,
   "id": "217476ad",
   "metadata": {},
   "outputs": [],
   "source": [
    "pkl.dump(train_dataset, open(\"../clipData/rankingDataset/train_dataset.pkl\", \"wb\"))\n",
    "pkl.dump(test_dataset, open(\"../clipData/rankingDataset/test_dataset.pkl\", \"wb\"))"
   ]
  },
  {
   "cell_type": "code",
   "execution_count": null,
   "id": "91921a47",
   "metadata": {},
   "outputs": [],
   "source": []
  }
 ],
 "metadata": {
  "kernelspec": {
   "display_name": "Python (recommomendationRanker)",
   "language": "python",
   "name": "recommomendationranker"
  },
  "language_info": {
   "codemirror_mode": {
    "name": "ipython",
    "version": 3
   },
   "file_extension": ".py",
   "mimetype": "text/x-python",
   "name": "python",
   "nbconvert_exporter": "python",
   "pygments_lexer": "ipython3",
   "version": "3.8.13"
  }
 },
 "nbformat": 4,
 "nbformat_minor": 5
}
