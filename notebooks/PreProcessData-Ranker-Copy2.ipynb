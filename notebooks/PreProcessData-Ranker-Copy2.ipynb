{
 "cells": [
  {
   "cell_type": "code",
   "execution_count": 1,
   "id": "f10e7a4d",
   "metadata": {},
   "outputs": [],
   "source": [
    "import pandas as pd\n",
    "import seaborn as sns\n",
    "\n",
    "from sklearn.model_selection import train_test_split\n",
    "from transformers import BertTokenizerFast\n",
    "import torch\n",
    "import pickle\n",
    "\n",
    "from tqdm import tqdm\n",
    "from itertools import combinations \n",
    "import numpy as np"
   ]
  },
  {
   "cell_type": "code",
   "execution_count": 2,
   "id": "18106da4",
   "metadata": {},
   "outputs": [],
   "source": [
    "df = pd.read_csv(\"../book_data/book.csv\")"
   ]
  },
  {
   "cell_type": "code",
   "execution_count": 3,
   "id": "219c39c4",
   "metadata": {},
   "outputs": [],
   "source": [
    "df = df.drop(columns=[\"Unnamed: 0\"])"
   ]
  },
  {
   "cell_type": "code",
   "execution_count": 4,
   "id": "dfae8c2d",
   "metadata": {},
   "outputs": [
    {
     "data": {
      "text/plain": [
       "(373919, 13)"
      ]
     },
     "execution_count": 4,
     "metadata": {},
     "output_type": "execute_result"
    }
   ],
   "source": [
    "df.shape"
   ]
  },
  {
   "cell_type": "code",
   "execution_count": 5,
   "id": "62f02328",
   "metadata": {},
   "outputs": [],
   "source": [
    "abs2id = {k:i for i, k in enumerate(set(df.Abstract))}"
   ]
  },
  {
   "cell_type": "code",
   "execution_count": 6,
   "id": "b448431b",
   "metadata": {},
   "outputs": [],
   "source": [
    "df['BookId'] = df['Abstract'].apply(lambda x : abs2id[x])"
   ]
  },
  {
   "cell_type": "code",
   "execution_count": 7,
   "id": "dd91b2be",
   "metadata": {},
   "outputs": [],
   "source": [
    "n_uid_reviews = df[\"User-ID\"].value_counts() \n",
    "counts = n_uid_reviews.values"
   ]
  },
  {
   "cell_type": "code",
   "execution_count": 8,
   "id": "0b135e77",
   "metadata": {},
   "outputs": [],
   "source": [
    "big_bins = [len(counts[counts == 1]), len(counts[(1<counts) & (counts <=10)]), \n",
    "            len(counts[10<counts])]"
   ]
  },
  {
   "cell_type": "code",
   "execution_count": 9,
   "id": "eba1b768",
   "metadata": {},
   "outputs": [
    {
     "data": {
      "text/plain": [
       "<AxesSubplot:>"
      ]
     },
     "execution_count": 9,
     "metadata": {},
     "output_type": "execute_result"
    },
    {
     "data": {
      "image/png": "[encoded data removed]",
      "text/plain": [
       "<Figure size 432x288 with 1 Axes>"
      ]
     },
     "metadata": {
      "needs_background": "light"
     },
     "output_type": "display_data"
    }
   ],
   "source": [
    "sns.barplot(x=[\"One Review\",\"2 to 10 Reviews\",\"More than 10 Reviews\"],y=big_bins, )"
   ]
  },
  {
   "cell_type": "markdown",
   "id": "5cdc7518",
   "metadata": {},
   "source": [
    "User need to do at least rate two books to do a ranker."
   ]
  },
  {
   "cell_type": "code",
   "execution_count": 10,
   "id": "9d37431f",
   "metadata": {},
   "outputs": [
    {
     "name": "stdout",
     "output_type": "stream",
     "text": [
      "(373919, 14)\n",
      "(345897, 14)\n"
     ]
    }
   ],
   "source": [
    "print(df.shape)\n",
    "df = df[df[\"User-ID\"].isin(n_uid_reviews[(n_uid_reviews >= 2)].index)]\n",
    "print(df.shape)"
   ]
  },
  {
   "cell_type": "code",
   "execution_count": 11,
   "id": "a7c3f784",
   "metadata": {},
   "outputs": [],
   "source": [
    "df = df.reset_index(drop=True)"
   ]
  },
  {
   "cell_type": "code",
   "execution_count": 12,
   "id": "086ef0ae",
   "metadata": {},
   "outputs": [
    {
     "data": {
      "text/plain": [
       "<AxesSubplot:>"
      ]
     },
     "execution_count": 12,
     "metadata": {},
     "output_type": "execute_result"
    },
    {
     "data": {
      "image/png": "[encoded data removed]",
      "text/plain": [
       "<Figure size 432x288 with 1 Axes>"
      ]
     },
     "metadata": {
      "needs_background": "light"
     },
     "output_type": "display_data"
    }
   ],
   "source": [
    "df[\"User-ID\"].value_counts().value_counts().hist()"
   ]
  },
  {
   "cell_type": "code",
   "execution_count": 13,
   "id": "b0f743f7",
   "metadata": {},
   "outputs": [
    {
     "data": {
      "text/plain": [
       "<AxesSubplot:>"
      ]
     },
     "execution_count": 13,
     "metadata": {},
     "output_type": "execute_result"
    },
    {
     "data": {
      "image/png": "[encoded data removed]",
      "text/plain": [
       "<Figure size 432x288 with 1 Axes>"
      ]
     },
     "metadata": {
      "needs_background": "light"
     },
     "output_type": "display_data"
    }
   ],
   "source": [
    "n_uid_reviews = df[\"User-ID\"].value_counts() \n",
    "df[df[\"User-ID\"].isin(n_uid_reviews[(n_uid_reviews < 50)].index)][\"User-ID\"].value_counts().hist()\n"
   ]
  },
  {
   "cell_type": "code",
   "execution_count": 14,
   "id": "eb787a25",
   "metadata": {},
   "outputs": [
    {
     "data": {
      "text/plain": [
       "<AxesSubplot:>"
      ]
     },
     "execution_count": 14,
     "metadata": {},
     "output_type": "execute_result"
    },
    {
     "data": {
      "image/png": "[encoded data removed]",
      "text/plain": [
       "<Figure size 432x288 with 1 Axes>"
      ]
     },
     "metadata": {
      "needs_background": "light"
     },
     "output_type": "display_data"
    }
   ],
   "source": [
    "n_uid_reviews = df[\"User-ID\"].value_counts() \n",
    "df[df[\"User-ID\"].isin(n_uid_reviews[(n_uid_reviews < 10)].index)][\"User-ID\"].value_counts().hist()\n"
   ]
  },
  {
   "cell_type": "code",
   "execution_count": 15,
   "id": "88d2e659",
   "metadata": {},
   "outputs": [],
   "source": [
    "#We have to create 0-(278854+1) userids for our BERT model"
   ]
  },
  {
   "cell_type": "code",
   "execution_count": 16,
   "id": "dcf1e862",
   "metadata": {},
   "outputs": [
    {
     "data": {
      "text/plain": [
       "278854"
      ]
     },
     "execution_count": 16,
     "metadata": {},
     "output_type": "execute_result"
    }
   ],
   "source": [
    "df['User-ID'].max()"
   ]
  },
  {
   "cell_type": "code",
   "execution_count": 17,
   "id": "464238dd",
   "metadata": {},
   "outputs": [],
   "source": [
    "x = df['User-ID'].value_counts() > 20\n",
    "index = x[x].index\n",
    "df = df[df['User-ID'].isin(index)]"
   ]
  },
  {
   "cell_type": "code",
   "execution_count": 18,
   "id": "99b8e07a",
   "metadata": {},
   "outputs": [],
   "source": [
    "x = df['Abstract'].value_counts() > 20\n",
    "index = x[x].index\n",
    "df = df[df['Abstract'].isin(index)]"
   ]
  },
  {
   "cell_type": "code",
   "execution_count": 19,
   "id": "0994c3ab",
   "metadata": {},
   "outputs": [
    {
     "data": {
      "text/plain": [
       "<AxesSubplot:>"
      ]
     },
     "execution_count": 19,
     "metadata": {},
     "output_type": "execute_result"
    },
    {
     "data": {
      "image/png": "[encoded data removed]",
      "text/plain": [
       "<Figure size 432x288 with 1 Axes>"
      ]
     },
     "metadata": {
      "needs_background": "light"
     },
     "output_type": "display_data"
    }
   ],
   "source": [
    "df[\"Book-Rating\"].hist()"
   ]
  },
  {
   "cell_type": "code",
   "execution_count": 20,
   "id": "4ccb2223",
   "metadata": {},
   "outputs": [],
   "source": [
    "pct = 0.1"
   ]
  },
  {
   "cell_type": "code",
   "execution_count": 34,
   "id": "d70ae49e",
   "metadata": {},
   "outputs": [],
   "source": [
    "df_test_list = list()\n",
    "df_train_list = list()\n",
    "for user in set(df[\"User-ID\"]):\n",
    "            \n",
    "    df_user = df[df[\"User-ID\"] == user]\n",
    "\n",
    "    indices = list(df_user.index)\n",
    "    test_indices = np.random.choice(df_user.index,\n",
    "                                        size=int(len(df_user.index)*pct),\n",
    "                                        replace=False)\n",
    "    train_indicies = list(set(indices) - set(test_indices))\n",
    "\n",
    "    df_test_part = df_user.loc[test_indices]\n",
    "    df_train_part = df_user.loc[train_indicies]\n",
    "    \n",
    "    \n",
    "    df_test_list.append(df_test_part)\n",
    "    df_train_list.append(df_train_part)\n",
    "\n"
   ]
  },
  {
   "cell_type": "code",
   "execution_count": 35,
   "id": "f4c60789",
   "metadata": {},
   "outputs": [],
   "source": [
    "df_test = pd.concat(df_test_list)\n",
    "df_train = pd.concat(df_train_list)"
   ]
  },
  {
   "cell_type": "code",
   "execution_count": 36,
   "id": "fc38c9a9",
   "metadata": {},
   "outputs": [],
   "source": [
    "df_test = df_test.reset_index(drop=True)\n",
    "df_train = df_train.reset_index(drop=True)"
   ]
  },
  {
   "cell_type": "code",
   "execution_count": 37,
   "id": "d9ba35c9",
   "metadata": {},
   "outputs": [],
   "source": [
    "def binIt(v):\n",
    "    if v <=2:\n",
    "        return 0 \n",
    "    elif 2 < v and v <=8:\n",
    "        return 1 \n",
    "    else:\n",
    "        return 2"
   ]
  },
  {
   "cell_type": "code",
   "execution_count": 25,
   "id": "04254ac4",
   "metadata": {},
   "outputs": [],
   "source": [
    "def binIt(v):\n",
    "    if v <=2:\n",
    "        return 0 \n",
    "    else:\n",
    "        return 1"
   ]
  },
  {
   "cell_type": "code",
   "execution_count": 26,
   "id": "31600ccf",
   "metadata": {},
   "outputs": [],
   "source": [
    "#df_train['Book-Rating'] = df_train['Book-Rating'].apply(lambda x: binIt(x))"
   ]
  },
  {
   "cell_type": "code",
   "execution_count": 27,
   "id": "10bcc9f3",
   "metadata": {},
   "outputs": [],
   "source": [
    "#df_test['Book-Rating'] = df_test['Book-Rating'].apply(lambda x: binIt(x))"
   ]
  },
  {
   "cell_type": "code",
   "execution_count": 38,
   "id": "48e694d9",
   "metadata": {},
   "outputs": [],
   "source": [
    "#df_train['Book-Rating'].hist()"
   ]
  },
  {
   "cell_type": "code",
   "execution_count": 29,
   "id": "e13b06a7",
   "metadata": {},
   "outputs": [],
   "source": [
    "#from sklearn.utils import resample\n"
   ]
  },
  {
   "cell_type": "code",
   "execution_count": 30,
   "id": "03ede43a",
   "metadata": {},
   "outputs": [],
   "source": [
    "#from imblearn.under_sampling import RandomUnderSampler\n",
    "\n",
    "#rus = RandomUnderSampler(sampling_strategy='not minority', random_state=1)\n"
   ]
  },
  {
   "cell_type": "code",
   "execution_count": 31,
   "id": "a1235683",
   "metadata": {},
   "outputs": [],
   "source": [
    "\n",
    "#df_train, balanced_labels = rus.fit_resample(df_train, df_train['Book-Rating'])\n",
    "#df_test, balanced_labels = rus.fit_resample(df_test, df_test['Book-Rating'])"
   ]
  },
  {
   "cell_type": "code",
   "execution_count": 32,
   "id": "0081d75e",
   "metadata": {},
   "outputs": [],
   "source": [
    "import pandas as pd\n",
    "def shuffle_along_axis(a, axis):\n",
    "    idx = np.random.rand(*a.shape).argsort(axis=axis)\n",
    "    return np.take_along_axis(a,idx,axis=axis)\n",
    "\n",
    "def getUserDf(df: pd.DataFrame, uid: str)->pd.DataFrame:\n",
    "    return df[df[\"User-ID\"] == uid]\n",
    "\n",
    "def getCombinationIxs(df: pd.DataFrame)->np.ndarray:\n",
    "    ix = np.array([[p[0], p[1]] for p in combinations(df.index, 2)])\n",
    "    \n",
    "    #print(ix)\n",
    "    \n",
    "    #Remove text combinations with equal rating\n",
    "    mask = df.loc[ix[:,0]]['Book-Rating'].values != df.loc[ix[:,1]]['Book-Rating'].values\n",
    "    ix = ix[mask]\n",
    "    #Shuffle to enusure to get 50/50 likelihood to guess correct\n",
    "    #ix = shuffle_along_axis(ix, 1)\n",
    "    return ix\n",
    "\n",
    "def getRankinLabels(df: pd.DataFrame, ix: np.ndarray)->np.ndarray:\n",
    "    return df.loc[ix[:,0]]['Book-Rating'].values > df.loc[ix[:,1]]['Book-Rating'].values\n",
    "\n",
    "def getRankingtext(df: pd.DataFrame, ix: np.ndarray, pos: int)->np.ndarray:\n",
    "    return df.loc[ix[:,pos]]['Abstract'].values\n",
    "\n",
    "def getBookCombId(df: pd.DataFrame, ix: np.ndarray):\n",
    "    book_id1 = df.loc[ix[:,0]]['BookId'].values\n",
    "    book_id2 = df.loc[ix[:,1]]['BookId'].values\n",
    "    return np.array([f\"{min(bid1, bid2)}_{max(bid1, bid2)}\"  for bid1, bid2 in zip (book_id1, book_id2)])\n",
    "\n",
    "def getBookId(df: pd.DataFrame, ix: np.ndarray, pos: int):\n",
    "    return df.loc[ix[:,pos]]['BookId'].values\n",
    "    \n",
    "    \n",
    "    \n",
    "def getRankingUid(df: pd.DataFrame)->pd.DataFrame:\n",
    "    return df['User-ID'].values\n",
    "\n",
    "def createRankingDf(labels: np.ndarray, texts1: np.ndarray, texts2: np.ndarray, uids:np.ndarray, \n",
    "                    bookid1:np.ndarray, bookid2:np.ndarray)->pd.DataFrame:\n",
    "    data = [[l, t1, t2, u, bid1, bid2] for l, t1, t2, u,bid1,bid2 in zip(labels, texts1, texts2, \n",
    "                                                                         uids, bookid1, bookid2)]\n",
    "    return pd.DataFrame(data, columns=['label', 'text1', 'text2', 'uid','bid1', 'bid2'])\n",
    "\n",
    "def creatRankingData(df: pd.DataFrame)->pd.DataFrame:\n",
    "\n",
    "    label_list, text1_list, text2_list, uid_list, bid1_list, bid2_list = list(), list(), list(), list(), list(), list()\n",
    "    \n",
    "    for uid in tqdm(df[\"User-ID\"].unique()):\n",
    "        #get user df\n",
    "        df_user = getUserDf(df, uid)\n",
    "        #print(df_user.shape)\n",
    "        #get combinations\n",
    "        ix = getCombinationIxs(df_user)\n",
    "        \n",
    "        #Extract values\n",
    "        label_list.append(getRankinLabels(df_user, ix))        \n",
    "        text1_list.append(getRankingtext(df_user, ix, 0))\n",
    "        text2_list.append(getRankingtext(df_user, ix, 1))\n",
    "        uid_list.append(getRankingUid(df_user))\n",
    "        bid1_list.append(getBookId(df_user, ix, 0))\n",
    "        bid2_list.append(getBookId(df_user, ix, 1))\n",
    "    \n",
    "    #Combine all users\n",
    "    labels, texts1, texts2, uids, bid1, bid2 = (np.concatenate(label_list).astype(int), np.concatenate(text1_list), \n",
    "                                    np.concatenate(text2_list), np.concatenate(uid_list),\n",
    "                                    np.concatenate(bid1_list), np.concatenate(bid2_list))\n",
    "    #Return ranking df\n",
    "    return createRankingDf(labels, texts1, texts2, uids, bid1, bid2)\n",
    "\n",
    "    \n",
    "\n"
   ]
  },
  {
   "cell_type": "code",
   "execution_count": 39,
   "id": "38fb6aeb",
   "metadata": {},
   "outputs": [
    {
     "name": "stderr",
     "output_type": "stream",
     "text": [
      "  2%|███                                                                                                                                                                 | 53/2864 [00:00<00:17, 161.27it/s]\n"
     ]
    },
    {
     "ename": "IndexError",
     "evalue": "too many indices for array: array is 1-dimensional, but 2 were indexed",
     "output_type": "error",
     "traceback": [
      "\u001b[0;31m---------------------------------------------------------------------------\u001b[0m",
      "\u001b[0;31mIndexError\u001b[0m                                Traceback (most recent call last)",
      "Input \u001b[0;32mIn [39]\u001b[0m, in \u001b[0;36m<cell line: 1>\u001b[0;34m()\u001b[0m\n\u001b[0;32m----> 1\u001b[0m df_train_ranking \u001b[38;5;241m=\u001b[39m \u001b[43mcreatRankingData\u001b[49m\u001b[43m(\u001b[49m\u001b[43mdf_train\u001b[49m\u001b[43m)\u001b[49m\n",
      "Input \u001b[0;32mIn [32]\u001b[0m, in \u001b[0;36mcreatRankingData\u001b[0;34m(df)\u001b[0m\n\u001b[1;32m     52\u001b[0m df_user \u001b[38;5;241m=\u001b[39m getUserDf(df, uid)\n\u001b[1;32m     53\u001b[0m \u001b[38;5;66;03m#print(df_user.shape)\u001b[39;00m\n\u001b[1;32m     54\u001b[0m \u001b[38;5;66;03m#get combinations\u001b[39;00m\n\u001b[0;32m---> 55\u001b[0m ix \u001b[38;5;241m=\u001b[39m \u001b[43mgetCombinationIxs\u001b[49m\u001b[43m(\u001b[49m\u001b[43mdf_user\u001b[49m\u001b[43m)\u001b[49m\n\u001b[1;32m     57\u001b[0m \u001b[38;5;66;03m#Extract values\u001b[39;00m\n\u001b[1;32m     58\u001b[0m label_list\u001b[38;5;241m.\u001b[39mappend(getRankinLabels(df_user, ix))        \n",
      "Input \u001b[0;32mIn [32]\u001b[0m, in \u001b[0;36mgetCombinationIxs\u001b[0;34m(df)\u001b[0m\n\u001b[1;32m     10\u001b[0m ix \u001b[38;5;241m=\u001b[39m np\u001b[38;5;241m.\u001b[39marray([[p[\u001b[38;5;241m0\u001b[39m], p[\u001b[38;5;241m1\u001b[39m]] \u001b[38;5;28;01mfor\u001b[39;00m p \u001b[38;5;129;01min\u001b[39;00m combinations(df\u001b[38;5;241m.\u001b[39mindex, \u001b[38;5;241m2\u001b[39m)])\n\u001b[1;32m     12\u001b[0m \u001b[38;5;66;03m#print(ix)\u001b[39;00m\n\u001b[1;32m     13\u001b[0m \n\u001b[1;32m     14\u001b[0m \u001b[38;5;66;03m#Remove text combinations with equal rating\u001b[39;00m\n\u001b[0;32m---> 15\u001b[0m mask \u001b[38;5;241m=\u001b[39m df\u001b[38;5;241m.\u001b[39mloc[\u001b[43mix\u001b[49m\u001b[43m[\u001b[49m\u001b[43m:\u001b[49m\u001b[43m,\u001b[49m\u001b[38;5;241;43m0\u001b[39;49m\u001b[43m]\u001b[49m][\u001b[38;5;124m'\u001b[39m\u001b[38;5;124mBook-Rating\u001b[39m\u001b[38;5;124m'\u001b[39m]\u001b[38;5;241m.\u001b[39mvalues \u001b[38;5;241m!=\u001b[39m df\u001b[38;5;241m.\u001b[39mloc[ix[:,\u001b[38;5;241m1\u001b[39m]][\u001b[38;5;124m'\u001b[39m\u001b[38;5;124mBook-Rating\u001b[39m\u001b[38;5;124m'\u001b[39m]\u001b[38;5;241m.\u001b[39mvalues\n\u001b[1;32m     16\u001b[0m ix \u001b[38;5;241m=\u001b[39m ix[mask]\n\u001b[1;32m     17\u001b[0m \u001b[38;5;66;03m#Shuffle to enusure to get 50/50 likelihood to guess correct\u001b[39;00m\n\u001b[1;32m     18\u001b[0m \u001b[38;5;66;03m#ix = shuffle_along_axis(ix, 1)\u001b[39;00m\n",
      "\u001b[0;31mIndexError\u001b[0m: too many indices for array: array is 1-dimensional, but 2 were indexed"
     ]
    }
   ],
   "source": [
    "df_train_ranking = creatRankingData(df_train)"
   ]
  },
  {
   "cell_type": "code",
   "execution_count": null,
   "id": "e5a7798f",
   "metadata": {},
   "outputs": [],
   "source": []
  },
  {
   "cell_type": "code",
   "execution_count": null,
   "id": "50661759",
   "metadata": {},
   "outputs": [],
   "source": []
  },
  {
   "cell_type": "code",
   "execution_count": null,
   "id": "b609f889",
   "metadata": {},
   "outputs": [],
   "source": [
    "df_ranking = df_train\n",
    "#df_test = df_test_ranking"
   ]
  },
  {
   "cell_type": "code",
   "execution_count": null,
   "id": "dcc6b8f8",
   "metadata": {},
   "outputs": [],
   "source": [
    "df_ranking"
   ]
  },
  {
   "cell_type": "code",
   "execution_count": null,
   "id": "b6cf6436",
   "metadata": {},
   "outputs": [],
   "source": [
    "#Extract data from df\n",
    "train_uids, train_labels, train_texts1 = list(df_ranking[\"User-ID\"]), list(df_ranking[\"Book-Rating\"]), list(df_ranking[\"Abstract\"])\n",
    "test_uids, test_labels, test_texts1 = list(df_test[\"User-ID\"]), list(df_test[\"Book-Rating\"]), list(df_test[\"Abstract\"])\n",
    "\n",
    "\n",
    "\n"
   ]
  },
  {
   "cell_type": "code",
   "execution_count": null,
   "id": "ab188d17",
   "metadata": {},
   "outputs": [],
   "source": [
    "tokenizer = BertTokenizerFast.from_pretrained('bert-base-uncased')"
   ]
  },
  {
   "cell_type": "code",
   "execution_count": null,
   "id": "837b637e",
   "metadata": {},
   "outputs": [],
   "source": [
    "train_encodings = tokenizer(train_texts1, truncation=True, padding=True)\n",
    "\n",
    "test_encodings = tokenizer(test_texts1, truncation=True, padding=True)\n",
    "\n"
   ]
  },
  {
   "cell_type": "code",
   "execution_count": null,
   "id": "f9222f79",
   "metadata": {},
   "outputs": [],
   "source": [
    "class RankingDataset(torch.utils.data.Dataset):\n",
    "    def __init__(self, encodings1, labels, user_id):\n",
    "        self.encodings1 = encodings1\n",
    "\n",
    "        self.labels = labels\n",
    "        self.user_id = user_id\n",
    "\n",
    "    def __getitem__(self, idx):\n",
    "        item = {key + \"_1\": torch.tensor(val[idx]) for key, val in self.encodings1.items()}\n",
    "        item['labels'] = torch.tensor(self.labels[idx])\n",
    "        item['user_id'] = torch.tensor(self.user_id[idx])\n",
    "        return item\n",
    "\n",
    "    def __len__(self):\n",
    "        return len(self.labels)\n",
    "\n",
    "train_dataset = RankingDataset(train_encodings, train_labels, train_uids)\n",
    "#val_dataset = RankingDataset(valid_encodings1, valid_encodings2, valid_labels, valid_uids)\n",
    "test_dataset = RankingDataset(test_encodings, test_labels, test_uids)"
   ]
  },
  {
   "cell_type": "code",
   "execution_count": null,
   "id": "0f04a0c9",
   "metadata": {},
   "outputs": [],
   "source": [
    "pickle.dump(train_dataset, open(\"../book_data/rankingDataset/train_dataset.pkl\", \"wb\"))\n",
    "#pickle.dump(val_dataset, open(\"../book_data/rankingDataset/val_dataset.pkl\", \"wb\"))\n",
    "pickle.dump(test_dataset, open(\"../book_data/rankingDataset/test_dataset.pkl\", \"wb\"))"
   ]
  },
  {
   "cell_type": "code",
   "execution_count": null,
   "id": "0dc4ff77",
   "metadata": {},
   "outputs": [],
   "source": []
  }
 ],
 "metadata": {
  "kernelspec": {
   "display_name": "Python (recommomendationRanker)",
   "language": "python",
   "name": "recommomendationranker"
  },
  "language_info": {
   "codemirror_mode": {
    "name": "ipython",
    "version": 3
   },
   "file_extension": ".py",
   "mimetype": "text/x-python",
   "name": "python",
   "nbconvert_exporter": "python",
   "pygments_lexer": "ipython3",
   "version": "3.8.13"
  }
 },
 "nbformat": 4,
 "nbformat_minor": 5
}
