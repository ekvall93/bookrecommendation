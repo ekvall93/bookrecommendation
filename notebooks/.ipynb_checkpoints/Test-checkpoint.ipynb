{
 "cells": [
  {
   "cell_type": "code",
   "execution_count": 1,
   "id": "6d4597cb",
   "metadata": {},
   "outputs": [],
   "source": [
    "import pandas as pd\n",
    "import torch\n",
    "from transformers import BertForRanking\n",
    "import pickle\n",
    "\n",
    "import os\n",
    "from tqdm import tqdm\n",
    "import numpy as np\n",
    "import seaborn as sns"
   ]
  },
  {
   "cell_type": "code",
   "execution_count": 2,
   "id": "acdc15b0",
   "metadata": {},
   "outputs": [],
   "source": [
    "import torch\n",
    "\n",
    "class RankingDataset(torch.utils.data.Dataset):\n",
    "    def __init__(self, encodings1, encodings2, labels, user_id):\n",
    "        self.encodings1 = encodings1\n",
    "        self.encodings2 = encodings2\n",
    "        self.labels = labels\n",
    "        self.user_id = user_id\n",
    "\n",
    "    def __getitem__(self, idx):\n",
    "        item1 = {key + \"_1\": torch.tensor(val[idx]) for key, val in self.encodings1.items()}\n",
    "        item2 = {key + \"_2\": torch.tensor(val[idx]) for key, val in self.encodings2.items()}\n",
    "        item = dict(**item1, **item2)\n",
    "        item['labels'] = torch.tensor(self.labels[idx])\n",
    "        item['user_id'] = torch.tensor(self.user_id[idx])\n",
    "        return item\n",
    "\n",
    "    def __len__(self):\n",
    "        return len(self.labels)"
   ]
  },
  {
   "cell_type": "code",
   "execution_count": 3,
   "id": "d55fc88c",
   "metadata": {},
   "outputs": [],
   "source": [
    "train_dataset = pickle.load(open(\"../book_data/rankingDataset/train_dataset.pkl\", \"rb\"))\n",
    "#val_dataset = pickle.load(open(\"../book_data/dataset/val_dataset.pkl\", \"rb\"))\n",
    "test_dataset = pickle.load(open(\"../book_data/rankingDataset/test_dataset.pkl\", \"rb\"))"
   ]
  },
  {
   "cell_type": "code",
   "execution_count": 4,
   "id": "024962ef",
   "metadata": {},
   "outputs": [
    {
     "name": "stderr",
     "output_type": "stream",
     "text": [
      "Some weights of the model checkpoint at bert-base-uncased were not used when initializing BertForRanking: ['cls.predictions.transform.dense.bias', 'cls.predictions.decoder.weight', 'cls.predictions.transform.dense.weight', 'cls.predictions.transform.LayerNorm.weight', 'cls.seq_relationship.weight', 'cls.predictions.bias', 'cls.predictions.transform.LayerNorm.bias', 'cls.seq_relationship.bias']\n",
      "- This IS expected if you are initializing BertForRanking from the checkpoint of a model trained on another task or with another architecture (e.g. initializing a BertForSequenceClassification model from a BertForPreTraining model).\n",
      "- This IS NOT expected if you are initializing BertForRanking from the checkpoint of a model that you expect to be exactly identical (initializing a BertForSequenceClassification model from a BertForSequenceClassification model).\n",
      "Some weights of BertForRanking were not initialized from the model checkpoint at bert-base-uncased and are newly initialized: ['classifier.weight', 'logit_scale', 'classifier.bias', 'user_emb.weight']\n",
      "You should probably TRAIN this model on a down-stream task to be able to use it for predictions and inference.\n"
     ]
    }
   ],
   "source": [
    "\n",
    "model = BertForRanking.from_pretrained(\"bert-base-uncased\")\n",
    "\n"
   ]
  },
  {
   "cell_type": "code",
   "execution_count": 30,
   "id": "b7494156",
   "metadata": {},
   "outputs": [
    {
     "data": {
      "text/plain": [
       "<All keys matched successfully>"
      ]
     },
     "execution_count": 30,
     "metadata": {},
     "output_type": "execute_result"
    }
   ],
   "source": [
    "model.load_state_dict(torch.load(\"../results/checkpoint-500/pytorch_model.bin\"))\n"
   ]
  },
  {
   "cell_type": "code",
   "execution_count": 31,
   "id": "04f41825",
   "metadata": {},
   "outputs": [],
   "source": [
    "\n",
    "os.environ[\"CUDA_DEVICE_ORDER\"]=\"PCI_BUS_ID\"   # see issue #152\n",
    "os.environ[\"CUDA_VISIBLE_DEVICES\"]=\"7\""
   ]
  },
  {
   "cell_type": "code",
   "execution_count": 32,
   "id": "3483f0d6",
   "metadata": {},
   "outputs": [],
   "source": [
    "model = model.cuda()"
   ]
  },
  {
   "cell_type": "code",
   "execution_count": 38,
   "id": "59768471",
   "metadata": {},
   "outputs": [],
   "source": [
    "def eval_model(dataset, model, shuffle_ix=False):\n",
    "    model.eval()\n",
    "    dataloader = torch.utils.data.DataLoader(dataset, batch_size=128)\n",
    "    \n",
    "    pred_list, real_list, uid_list = list(), list(), list()\n",
    "    \n",
    "    i=0\n",
    "    with torch.no_grad():\n",
    "        for b in tqdm(dataloader):\n",
    "            if shuffle_ix:\n",
    "                r=torch.randperm(len(b['user_id']))\n",
    "                b['user_id'] = b['user_id'][r]\n",
    "                \n",
    "            b = {k:v.cuda() for k, v in b.items()}\n",
    "            output = model(**b)\n",
    "            \n",
    "            out = output[1].reshape(output[1].shape[0] // 2, 2)\n",
    "            pred = torch.argmax(out, dim=1)\n",
    "            pred_list.append(pred.cpu().numpy())\n",
    "            real_list.append(b['labels'].cpu().numpy())\n",
    "            uid_list.append(b['user_id'].cpu().numpy())\n",
    "            \n",
    "            i+=1\n",
    "            if i> 10:\n",
    "                pass\n",
    "            break\n",
    "            \n",
    "    preds = np.concatenate(pred_list)\n",
    "    reals = np.concatenate(real_list)\n",
    "    uids = np.concatenate(uid_list)\n",
    "    \n",
    "    data = [[p, r, u] for p, r, u in zip(preds, reals, uids)]\n",
    "\n",
    "    return pd.DataFrame(data, columns = [\"pred\", \"read\", \"uid\"])\n",
    "    "
   ]
  },
  {
   "cell_type": "code",
   "execution_count": 28,
   "id": "f2cde017",
   "metadata": {},
   "outputs": [
    {
     "name": "stderr",
     "output_type": "stream",
     "text": [
      "100%|███████████████████████████████████████████████████████████████████████████████████████████████████████████████████████████████████████████████████████████████████████| 87/87 [00:50<00:00,  1.73it/s]\n"
     ]
    }
   ],
   "source": [
    "df_test_rand = eval_model(test_dataset, model, False)"
   ]
  },
  {
   "cell_type": "code",
   "execution_count": 29,
   "id": "478dad6d",
   "metadata": {},
   "outputs": [
    {
     "data": {
      "text/html": [
       "<div>\n",
       "<style scoped>\n",
       "    .dataframe tbody tr th:only-of-type {\n",
       "        vertical-align: middle;\n",
       "    }\n",
       "\n",
       "    .dataframe tbody tr th {\n",
       "        vertical-align: top;\n",
       "    }\n",
       "\n",
       "    .dataframe thead th {\n",
       "        text-align: right;\n",
       "    }\n",
       "</style>\n",
       "<table border=\"1\" class=\"dataframe\">\n",
       "  <thead>\n",
       "    <tr style=\"text-align: right;\">\n",
       "      <th></th>\n",
       "      <th>pred</th>\n",
       "      <th>read</th>\n",
       "      <th>uid</th>\n",
       "    </tr>\n",
       "  </thead>\n",
       "  <tbody>\n",
       "    <tr>\n",
       "      <th>0</th>\n",
       "      <td>1</td>\n",
       "      <td>0</td>\n",
       "      <td>49154</td>\n",
       "    </tr>\n",
       "    <tr>\n",
       "      <th>1</th>\n",
       "      <td>0</td>\n",
       "      <td>0</td>\n",
       "      <td>49154</td>\n",
       "    </tr>\n",
       "    <tr>\n",
       "      <th>2</th>\n",
       "      <td>0</td>\n",
       "      <td>0</td>\n",
       "      <td>49154</td>\n",
       "    </tr>\n",
       "    <tr>\n",
       "      <th>3</th>\n",
       "      <td>0</td>\n",
       "      <td>0</td>\n",
       "      <td>32773</td>\n",
       "    </tr>\n",
       "    <tr>\n",
       "      <th>4</th>\n",
       "      <td>0</td>\n",
       "      <td>0</td>\n",
       "      <td>32773</td>\n",
       "    </tr>\n",
       "    <tr>\n",
       "      <th>...</th>\n",
       "      <td>...</td>\n",
       "      <td>...</td>\n",
       "      <td>...</td>\n",
       "    </tr>\n",
       "    <tr>\n",
       "      <th>11041</th>\n",
       "      <td>0</td>\n",
       "      <td>1</td>\n",
       "      <td>172030</td>\n",
       "    </tr>\n",
       "    <tr>\n",
       "      <th>11042</th>\n",
       "      <td>0</td>\n",
       "      <td>1</td>\n",
       "      <td>172030</td>\n",
       "    </tr>\n",
       "    <tr>\n",
       "      <th>11043</th>\n",
       "      <td>0</td>\n",
       "      <td>1</td>\n",
       "      <td>172030</td>\n",
       "    </tr>\n",
       "    <tr>\n",
       "      <th>11044</th>\n",
       "      <td>1</td>\n",
       "      <td>0</td>\n",
       "      <td>172030</td>\n",
       "    </tr>\n",
       "    <tr>\n",
       "      <th>11045</th>\n",
       "      <td>0</td>\n",
       "      <td>1</td>\n",
       "      <td>172030</td>\n",
       "    </tr>\n",
       "  </tbody>\n",
       "</table>\n",
       "<p>11046 rows × 3 columns</p>\n",
       "</div>"
      ],
      "text/plain": [
       "       pred  read     uid\n",
       "0         1     0   49154\n",
       "1         0     0   49154\n",
       "2         0     0   49154\n",
       "3         0     0   32773\n",
       "4         0     0   32773\n",
       "...     ...   ...     ...\n",
       "11041     0     1  172030\n",
       "11042     0     1  172030\n",
       "11043     0     1  172030\n",
       "11044     1     0  172030\n",
       "11045     0     1  172030\n",
       "\n",
       "[11046 rows x 3 columns]"
      ]
     },
     "execution_count": 29,
     "metadata": {},
     "output_type": "execute_result"
    }
   ],
   "source": [
    "df_test_rand"
   ]
  },
  {
   "cell_type": "code",
   "execution_count": 20,
   "id": "59a6f0ab",
   "metadata": {},
   "outputs": [
    {
     "data": {
      "text/plain": [
       "0.5016295491580662"
      ]
     },
     "execution_count": 20,
     "metadata": {},
     "output_type": "execute_result"
    }
   ],
   "source": [
    "get_acc(df_test_rand)"
   ]
  },
  {
   "cell_type": "code",
   "execution_count": 39,
   "id": "b085cfab",
   "metadata": {},
   "outputs": [
    {
     "name": "stderr",
     "output_type": "stream",
     "text": [
      "  1%|██▏                                                                                                                                                                   | 10/774 [00:11<14:05,  1.11s/it]\n"
     ]
    }
   ],
   "source": [
    "df_test = eval_model(train_dataset, model)"
   ]
  },
  {
   "cell_type": "code",
   "execution_count": 40,
   "id": "a30b786b",
   "metadata": {},
   "outputs": [
    {
     "data": {
      "text/html": [
       "<div>\n",
       "<style scoped>\n",
       "    .dataframe tbody tr th:only-of-type {\n",
       "        vertical-align: middle;\n",
       "    }\n",
       "\n",
       "    .dataframe tbody tr th {\n",
       "        vertical-align: top;\n",
       "    }\n",
       "\n",
       "    .dataframe thead th {\n",
       "        text-align: right;\n",
       "    }\n",
       "</style>\n",
       "<table border=\"1\" class=\"dataframe\">\n",
       "  <thead>\n",
       "    <tr style=\"text-align: right;\">\n",
       "      <th></th>\n",
       "      <th>pred</th>\n",
       "      <th>read</th>\n",
       "      <th>uid</th>\n",
       "    </tr>\n",
       "  </thead>\n",
       "  <tbody>\n",
       "    <tr>\n",
       "      <th>0</th>\n",
       "      <td>0</td>\n",
       "      <td>0</td>\n",
       "      <td>49154</td>\n",
       "    </tr>\n",
       "    <tr>\n",
       "      <th>1</th>\n",
       "      <td>0</td>\n",
       "      <td>0</td>\n",
       "      <td>49154</td>\n",
       "    </tr>\n",
       "    <tr>\n",
       "      <th>2</th>\n",
       "      <td>0</td>\n",
       "      <td>0</td>\n",
       "      <td>49154</td>\n",
       "    </tr>\n",
       "    <tr>\n",
       "      <th>3</th>\n",
       "      <td>0</td>\n",
       "      <td>0</td>\n",
       "      <td>49154</td>\n",
       "    </tr>\n",
       "    <tr>\n",
       "      <th>4</th>\n",
       "      <td>0</td>\n",
       "      <td>0</td>\n",
       "      <td>49154</td>\n",
       "    </tr>\n",
       "    <tr>\n",
       "      <th>...</th>\n",
       "      <td>...</td>\n",
       "      <td>...</td>\n",
       "      <td>...</td>\n",
       "    </tr>\n",
       "    <tr>\n",
       "      <th>1403</th>\n",
       "      <td>0</td>\n",
       "      <td>0</td>\n",
       "      <td>41084</td>\n",
       "    </tr>\n",
       "    <tr>\n",
       "      <th>1404</th>\n",
       "      <td>1</td>\n",
       "      <td>0</td>\n",
       "      <td>41084</td>\n",
       "    </tr>\n",
       "    <tr>\n",
       "      <th>1405</th>\n",
       "      <td>1</td>\n",
       "      <td>0</td>\n",
       "      <td>41084</td>\n",
       "    </tr>\n",
       "    <tr>\n",
       "      <th>1406</th>\n",
       "      <td>1</td>\n",
       "      <td>0</td>\n",
       "      <td>41084</td>\n",
       "    </tr>\n",
       "    <tr>\n",
       "      <th>1407</th>\n",
       "      <td>0</td>\n",
       "      <td>0</td>\n",
       "      <td>41084</td>\n",
       "    </tr>\n",
       "  </tbody>\n",
       "</table>\n",
       "<p>1408 rows × 3 columns</p>\n",
       "</div>"
      ],
      "text/plain": [
       "      pred  read    uid\n",
       "0        0     0  49154\n",
       "1        0     0  49154\n",
       "2        0     0  49154\n",
       "3        0     0  49154\n",
       "4        0     0  49154\n",
       "...    ...   ...    ...\n",
       "1403     0     0  41084\n",
       "1404     1     0  41084\n",
       "1405     1     0  41084\n",
       "1406     1     0  41084\n",
       "1407     0     0  41084\n",
       "\n",
       "[1408 rows x 3 columns]"
      ]
     },
     "execution_count": 40,
     "metadata": {},
     "output_type": "execute_result"
    }
   ],
   "source": [
    "df_test"
   ]
  },
  {
   "cell_type": "code",
   "execution_count": 41,
   "id": "a26379b8",
   "metadata": {},
   "outputs": [
    {
     "data": {
      "text/plain": [
       "0.5063920454545454"
      ]
     },
     "execution_count": 41,
     "metadata": {},
     "output_type": "execute_result"
    }
   ],
   "source": [
    "get_acc(df_test)"
   ]
  },
  {
   "cell_type": "code",
   "execution_count": null,
   "id": "652a074a",
   "metadata": {},
   "outputs": [],
   "source": []
  },
  {
   "cell_type": "code",
   "execution_count": null,
   "id": "a94009f6",
   "metadata": {},
   "outputs": [],
   "source": []
  },
  {
   "cell_type": "code",
   "execution_count": null,
   "id": "de00eedc",
   "metadata": {},
   "outputs": [],
   "source": [
    "get_acc(df_test)"
   ]
  },
  {
   "cell_type": "code",
   "execution_count": null,
   "id": "97ad27d4",
   "metadata": {},
   "outputs": [],
   "source": []
  },
  {
   "cell_type": "code",
   "execution_count": null,
   "id": "9c6f150d",
   "metadata": {},
   "outputs": [],
   "source": [
    "df_train = eval_model(train_dataset, model)"
   ]
  },
  {
   "cell_type": "code",
   "execution_count": 19,
   "id": "0019b3e8",
   "metadata": {},
   "outputs": [],
   "source": [
    "def get_acc(df: pd.DataFrame)->float:\n",
    "    return (df.pred == df.read).sum() / df.shape[0]"
   ]
  },
  {
   "cell_type": "code",
   "execution_count": null,
   "id": "cae7a63a",
   "metadata": {},
   "outputs": [],
   "source": [
    "train_acc = (df_train.pred == df_train.read).sum() / df_train.shape[0]\n",
    "test_acc = (df_test.pred == df_test.read).sum() / df_test.shape[0]\n",
    "\n",
    "print(train_acc, test_acc)"
   ]
  },
  {
   "cell_type": "code",
   "execution_count": null,
   "id": "92015aff",
   "metadata": {},
   "outputs": [],
   "source": [
    "train_count = df_train.uid.value_counts()\n",
    "test_count = df_test.uid.value_counts()"
   ]
  },
  {
   "cell_type": "code",
   "execution_count": null,
   "id": "e2403248",
   "metadata": {},
   "outputs": [],
   "source": [
    "train_count = train_count[train_count.index.isin(test_count.index)]"
   ]
  },
  {
   "cell_type": "code",
   "execution_count": null,
   "id": "ace9ad24",
   "metadata": {},
   "outputs": [],
   "source": [
    "train_count = train_count.sort_index()\n",
    "test_count = test_count.sort_index()"
   ]
  },
  {
   "cell_type": "code",
   "execution_count": null,
   "id": "1f3b6b4c",
   "metadata": {},
   "outputs": [],
   "source": [
    "all(train_count.index == test_count.index)"
   ]
  },
  {
   "cell_type": "code",
   "execution_count": null,
   "id": "826fd9d2",
   "metadata": {},
   "outputs": [],
   "source": [
    "all_counts = pd.concat([train_count, test_count],1)"
   ]
  },
  {
   "cell_type": "code",
   "execution_count": null,
   "id": "30ddd23e",
   "metadata": {},
   "outputs": [],
   "source": [
    "all_counts = all_counts.set_axis([\"trainCount\", \"testCount\"], axis=1)"
   ]
  },
  {
   "cell_type": "code",
   "execution_count": null,
   "id": "0686a224",
   "metadata": {},
   "outputs": [],
   "source": [
    "all_counts"
   ]
  },
  {
   "cell_type": "code",
   "execution_count": null,
   "id": "b483829e",
   "metadata": {},
   "outputs": [],
   "source": [
    "items = list()\n",
    "for i, row in all_counts.iterrows():\n",
    "    acc = get_acc(df_test[df_test.uid == i])\n",
    "    item = list(row) + [acc, i]\n",
    "    items.append(item)\n"
   ]
  },
  {
   "cell_type": "code",
   "execution_count": null,
   "id": "1ca841ac",
   "metadata": {},
   "outputs": [],
   "source": [
    "result_df = pd.DataFrame(items, columns=[\"trainCount\", \"testCount\", \"acc\", \"uid\"])"
   ]
  },
  {
   "cell_type": "code",
   "execution_count": null,
   "id": "61d43b8d",
   "metadata": {},
   "outputs": [],
   "source": [
    "import matplotlib.pyplot as plt"
   ]
  },
  {
   "cell_type": "code",
   "execution_count": null,
   "id": "6c86386f",
   "metadata": {},
   "outputs": [],
   "source": [
    "plt.style.use('ggplot')\n",
    "sns.set_style(\"whitegrid\", {'axes.grid' : False})\n"
   ]
  },
  {
   "cell_type": "code",
   "execution_count": null,
   "id": "d733c5cb",
   "metadata": {},
   "outputs": [],
   "source": [
    "plt.figure(figsize=(10, 6))\n",
    "\n",
    "ax = sns.histplot(result_df.acc)\n",
    "\n",
    "ax.invert_xaxis()\n",
    "\n",
    "#plt.legend(title='', loc='upper right', labels=['Prosit Transformer', 'Prosit RNN'], prop={\"size\":14})\n",
    "\n",
    "A = ax.get_legend()\n",
    "#A.set_title('')\n",
    "\n",
    "#plt.setp(A.get_texts(), fontsize='14') # for legend text\n",
    "#plt.setp(A.get_title(), fontsize='14') # for legend title\n",
    "\n",
    "plt.xlabel(\"Accuracy\", fontsize=14)\n",
    "plt.xticks(fontsize=14)\n",
    "plt.yticks(fontsize=14)\n",
    "plt.ylabel(\"Number of Users\", fontsize=14)\n",
    "plt.tight_layout()\n",
    "\n",
    "#seaborn.histplot(data=filterDf(datafile), x=\"Angular Similarity\", hue=\"Data Set\", alpha=0.2)\n",
    "#plt.savefig('./plots/spectralAngleDist.png')"
   ]
  },
  {
   "cell_type": "code",
   "execution_count": null,
   "id": "a53782a1",
   "metadata": {},
   "outputs": [],
   "source": [
    "plt.figure(figsize=(10, 6))\n",
    "\n",
    "ax = sns.histplot(result_df[result_df.trainCount>20].acc)\n",
    "\n",
    "ax.invert_xaxis()\n",
    "\n",
    "#plt.legend(title='', loc='upper right', labels=['Prosit Transformer', 'Prosit RNN'], prop={\"size\":14})\n",
    "\n",
    "A = ax.get_legend()\n",
    "#A.set_title('')\n",
    "\n",
    "#plt.setp(A.get_texts(), fontsize='14') # for legend text\n",
    "#plt.setp(A.get_title(), fontsize='14') # for legend title\n",
    "\n",
    "plt.xlabel(\"Accuracy\", fontsize=14)\n",
    "plt.xticks(fontsize=14)\n",
    "plt.yticks(fontsize=14)\n",
    "plt.ylabel(\"Density\", fontsize=14)\n",
    "plt.tight_layout()\n",
    "\n",
    "#seaborn.histplot(data=filterDf(datafile), x=\"Angular Similarity\", hue=\"Data Set\", alpha=0.2)\n",
    "#plt.savefig('./plots/spectralAngleDist.png')"
   ]
  },
  {
   "cell_type": "code",
   "execution_count": null,
   "id": "7b0c9737",
   "metadata": {},
   "outputs": [],
   "source": []
  },
  {
   "cell_type": "code",
   "execution_count": null,
   "id": "15240f29",
   "metadata": {},
   "outputs": [],
   "source": []
  },
  {
   "cell_type": "code",
   "execution_count": null,
   "id": "e47abbdd",
   "metadata": {},
   "outputs": [],
   "source": [
    "plt.figure(figsize=(10, 6))\n",
    "ax = sns.histplot(result_df[(result_df.trainCount>10) & (result_df.testCount>5)].acc)\n",
    "\n",
    "ax.invert_xaxis()\n",
    "\n",
    "#plt.legend(title='', loc='upper right', labels=['Prosit Transformer', 'Prosit RNN'], prop={\"size\":14})\n",
    "\n",
    "A = ax.get_legend()\n",
    "#A.set_title('')\n",
    "\n",
    "#plt.setp(A.get_texts(), fontsize='14') # for legend text\n",
    "#plt.setp(A.get_title(), fontsize='14') # for legend title\n",
    "\n",
    "plt.xlabel(\"Accuracy\", fontsize=14)\n",
    "plt.xticks(fontsize=14)\n",
    "plt.yticks(fontsize=14)\n",
    "plt.ylabel(\"Number of Users\", fontsize=14)\n",
    "plt.tight_layout()\n",
    "\n",
    "#seaborn.histplot(data=filterDf(datafile), x=\"Angular Similarity\", hue=\"Data Set\", alpha=0.2)\n",
    "#plt.savefig('./plots/spectralAngleDist.png')"
   ]
  },
  {
   "cell_type": "code",
   "execution_count": null,
   "id": "30d466d0",
   "metadata": {},
   "outputs": [],
   "source": []
  },
  {
   "cell_type": "code",
   "execution_count": null,
   "id": "d27f9cc5",
   "metadata": {},
   "outputs": [],
   "source": []
  },
  {
   "cell_type": "code",
   "execution_count": null,
   "id": "902e012d",
   "metadata": {},
   "outputs": [],
   "source": []
  },
  {
   "cell_type": "code",
   "execution_count": null,
   "id": "fd6c683c",
   "metadata": {},
   "outputs": [],
   "source": [
    "ax = sns.distplot(result_df.acc, hist=False)"
   ]
  },
  {
   "cell_type": "code",
   "execution_count": null,
   "id": "404c16eb",
   "metadata": {},
   "outputs": [],
   "source": [
    "result_df"
   ]
  },
  {
   "cell_type": "code",
   "execution_count": null,
   "id": "090e45b6",
   "metadata": {},
   "outputs": [],
   "source": []
  },
  {
   "cell_type": "code",
   "execution_count": null,
   "id": "de735d0c",
   "metadata": {},
   "outputs": [],
   "source": [
    "row"
   ]
  },
  {
   "cell_type": "code",
   "execution_count": null,
   "id": "1461470b",
   "metadata": {},
   "outputs": [],
   "source": []
  },
  {
   "cell_type": "code",
   "execution_count": null,
   "id": "b6e9a706",
   "metadata": {},
   "outputs": [],
   "source": []
  },
  {
   "cell_type": "code",
   "execution_count": null,
   "id": "bcc934a6",
   "metadata": {},
   "outputs": [],
   "source": [
    "ixs_1 = train_count[train_count == 1].index"
   ]
  },
  {
   "cell_type": "code",
   "execution_count": null,
   "id": "8635466a",
   "metadata": {},
   "outputs": [],
   "source": [
    "get_acc(df_test[df_test.uid.isin(ixs_1)])"
   ]
  },
  {
   "cell_type": "code",
   "execution_count": null,
   "id": "426737e3",
   "metadata": {},
   "outputs": [],
   "source": [
    "def get_ixs(counts, l, b=None):\n",
    "    if b is not None:\n",
    "        return counts[(l <= counts) & (counts <= b)].index\n",
    "    else:\n",
    "        return counts[counts == l].index\n",
    "    \n",
    "def filerDf(df, train_ix, test_ix):\n",
    "    df = df[df.uid.isin(train_ix)]\n",
    "    df = df[df.uid.isin(test_ix)]\n",
    "    return df\n",
    "    \n",
    "def getUserAcc(df):\n",
    "    acc_list = list()\n",
    "    for uid in df_10.uid:\n",
    "        acc = get_acc(df[df.uid == uid])\n",
    "        acc_list.append(acc)\n",
    "    return acc_list\n",
    "  "
   ]
  },
  {
   "cell_type": "code",
   "execution_count": null,
   "id": "86484413",
   "metadata": {},
   "outputs": [],
   "source": [
    "train_ixs_10 = get_ixs(train_count, 5, 10) \n",
    "test_ixs_10 = get_ixs(test_count, 5, 10) \n",
    "df_10 = filerDf(df, train_ixs_10, test_ixs_10)"
   ]
  },
  {
   "cell_type": "code",
   "execution_count": null,
   "id": "ce117f75",
   "metadata": {},
   "outputs": [],
   "source": [
    "acc_list = getUserAcc(df_10)\n",
    "sns.boxplot(acc_list)"
   ]
  },
  {
   "cell_type": "code",
   "execution_count": null,
   "id": "f1703abb",
   "metadata": {},
   "outputs": [],
   "source": []
  },
  {
   "cell_type": "code",
   "execution_count": null,
   "id": "a59245ad",
   "metadata": {},
   "outputs": [],
   "source": [
    "train_ixs_10 = get_ixs(train_count, 10, 100) \n",
    "test_ixs_10 = get_ixs(test_count, 10, 100) \n",
    "df_10 = filerDf(df, train_ixs_10, test_ixs_10)\n",
    "acc_list = getUserAcc(df_10)\n",
    "sns.boxplot(acc_list)"
   ]
  },
  {
   "cell_type": "code",
   "execution_count": null,
   "id": "36bb6082",
   "metadata": {},
   "outputs": [],
   "source": [
    "train_ixs_10 = get_ixs(train_count, 100, 1000) \n",
    "test_ixs_10 = get_ixs(test_count, 1, 1000) \n",
    "df_10 = filerDf(df, train_ixs_10, test_ixs_10)\n",
    "acc_list = getUserAcc(df_10)\n",
    "sns.boxplot(acc_list)"
   ]
  },
  {
   "cell_type": "code",
   "execution_count": null,
   "id": "0c773013",
   "metadata": {},
   "outputs": [],
   "source": []
  },
  {
   "cell_type": "code",
   "execution_count": null,
   "id": "ef59a7ac",
   "metadata": {},
   "outputs": [],
   "source": []
  },
  {
   "cell_type": "code",
   "execution_count": null,
   "id": "66e9c5e3",
   "metadata": {},
   "outputs": [],
   "source": []
  },
  {
   "cell_type": "code",
   "execution_count": null,
   "id": "fdfb1315",
   "metadata": {},
   "outputs": [],
   "source": [
    "get_acc(df_10[df_10.uid == uid])"
   ]
  },
  {
   "cell_type": "code",
   "execution_count": null,
   "id": "628c570b",
   "metadata": {},
   "outputs": [],
   "source": []
  },
  {
   "cell_type": "code",
   "execution_count": null,
   "id": "0f779b2a",
   "metadata": {},
   "outputs": [],
   "source": []
  },
  {
   "cell_type": "code",
   "execution_count": null,
   "id": "029a5af7",
   "metadata": {},
   "outputs": [],
   "source": [
    "get_acc(df_test[df_test.uid.isin(ixs_10)])"
   ]
  },
  {
   "cell_type": "code",
   "execution_count": null,
   "id": "61fc4c74",
   "metadata": {},
   "outputs": [],
   "source": [
    "ixs_100 = train_count[train_count >= 2000].index"
   ]
  },
  {
   "cell_type": "code",
   "execution_count": null,
   "id": "8c9fd47d",
   "metadata": {},
   "outputs": [],
   "source": [
    "get_acc(df_test[df_test.uid.isin(ixs_100)])"
   ]
  },
  {
   "cell_type": "code",
   "execution_count": null,
   "id": "d7ccc351",
   "metadata": {},
   "outputs": [],
   "source": [
    "df_test.uid.isin(ixs_100).sum()"
   ]
  },
  {
   "cell_type": "code",
   "execution_count": null,
   "id": "b34246a1",
   "metadata": {},
   "outputs": [],
   "source": [
    "ixs_100"
   ]
  },
  {
   "cell_type": "code",
   "execution_count": null,
   "id": "4c842ebf",
   "metadata": {},
   "outputs": [],
   "source": []
  },
  {
   "cell_type": "code",
   "execution_count": null,
   "id": "12adb01f",
   "metadata": {},
   "outputs": [],
   "source": []
  },
  {
   "cell_type": "code",
   "execution_count": null,
   "id": "e18d0065",
   "metadata": {},
   "outputs": [],
   "source": []
  },
  {
   "cell_type": "code",
   "execution_count": null,
   "id": "5f5764e8",
   "metadata": {},
   "outputs": [],
   "source": [
    "val_count = df_train.uid.value_counts()"
   ]
  },
  {
   "cell_type": "code",
   "execution_count": null,
   "id": "05bc0814",
   "metadata": {},
   "outputs": [],
   "source": []
  },
  {
   "cell_type": "code",
   "execution_count": null,
   "id": "6fc7d1b4",
   "metadata": {},
   "outputs": [],
   "source": []
  },
  {
   "cell_type": "code",
   "execution_count": null,
   "id": "32fa3de1",
   "metadata": {},
   "outputs": [],
   "source": [
    "preds = np.concatenate(pred_list)\n",
    "reals = np.concatenate(real_list)\n",
    "uids = np.concatenate(uid_list)"
   ]
  },
  {
   "cell_type": "code",
   "execution_count": null,
   "id": "cf55ef15",
   "metadata": {},
   "outputs": [],
   "source": [
    "data = [[p, r, u] for p, r, u in zip(preds, reals, uids)]\n",
    "\n",
    "df = pd.DataFrame(data, columns = [\"pred\", \"read\", \"uid\"])"
   ]
  },
  {
   "cell_type": "code",
   "execution_count": null,
   "id": "2ce059c3",
   "metadata": {},
   "outputs": [],
   "source": [
    "val_count = df.uid.value_counts()"
   ]
  },
  {
   "cell_type": "code",
   "execution_count": null,
   "id": "02895328",
   "metadata": {},
   "outputs": [],
   "source": [
    "counts = (val_count == 1)\n"
   ]
  },
  {
   "cell_type": "code",
   "execution_count": null,
   "id": "46eef1c1",
   "metadata": {},
   "outputs": [],
   "source": [
    "ix = counts[counts.values].index"
   ]
  },
  {
   "cell_type": "code",
   "execution_count": null,
   "id": "fc4b8f1d",
   "metadata": {},
   "outputs": [],
   "source": []
  },
  {
   "cell_type": "code",
   "execution_count": null,
   "id": "e63db937",
   "metadata": {},
   "outputs": [],
   "source": [
    "df_1_review = df[df.uid.isin(ix)]"
   ]
  },
  {
   "cell_type": "code",
   "execution_count": null,
   "id": "42bc06bc",
   "metadata": {},
   "outputs": [],
   "source": [
    "df_1_review"
   ]
  },
  {
   "cell_type": "code",
   "execution_count": null,
   "id": "cdcd4975",
   "metadata": {},
   "outputs": [],
   "source": [
    "(df_1_review.pred == df_1_review.read).sum() / df_1_review.shape[0]"
   ]
  },
  {
   "cell_type": "code",
   "execution_count": null,
   "id": "63dcc204",
   "metadata": {},
   "outputs": [],
   "source": []
  },
  {
   "cell_type": "code",
   "execution_count": null,
   "id": "3930fbc7",
   "metadata": {},
   "outputs": [],
   "source": [
    "preds = torch.cat(pred_list)\n",
    "reals = torch.cat(real_list)"
   ]
  },
  {
   "cell_type": "code",
   "execution_count": null,
   "id": "ce09adbe",
   "metadata": {},
   "outputs": [],
   "source": [
    "(preds == reals).sum() / reals.shape[0]"
   ]
  }
 ],
 "metadata": {
  "kernelspec": {
   "display_name": "Python (recommomendationRanker)",
   "language": "python",
   "name": "recommomendationranker"
  },
  "language_info": {
   "codemirror_mode": {
    "name": "ipython",
    "version": 3
   },
   "file_extension": ".py",
   "mimetype": "text/x-python",
   "name": "python",
   "nbconvert_exporter": "python",
   "pygments_lexer": "ipython3",
   "version": "3.8.13"
  }
 },
 "nbformat": 4,
 "nbformat_minor": 5
}
