{
 "cells": [
  {
   "cell_type": "code",
   "execution_count": 7,
   "id": "6d4597cb",
   "metadata": {},
   "outputs": [],
   "source": [
    "import pandas as pd\n",
    "import torch\n",
    "from transformers import BertForRanking\n",
    "import pickle"
   ]
  },
  {
   "cell_type": "code",
   "execution_count": 8,
   "id": "acdc15b0",
   "metadata": {},
   "outputs": [],
   "source": [
    "class RankingDataset(torch.utils.data.Dataset):\n",
    "    def __init__(self, encodings1, encodings2, labels, user_id):\n",
    "        self.encodings1 = encodings1\n",
    "        self.encodings2 = encodings2\n",
    "        self.labels = labels\n",
    "        self.user_id = user_id\n",
    "\n",
    "    def __getitem__(self, idx):\n",
    "        item1 = {key + \"_1\": torch.tensor(val[idx]) for key, val in self.encodings1.items()}\n",
    "        item2 = {key + \"_2\": torch.tensor(val[idx]) for key, val in self.encodings2.items()}\n",
    "        item = dict(**item1, **item2)\n",
    "        item['labels'] = torch.tensor(self.labels[idx])\n",
    "        item['user_id'] = torch.tensor(self.user_id[idx])\n",
    "        return item\n",
    "\n",
    "    def __len__(self):\n",
    "        return len(self.labels)"
   ]
  },
  {
   "cell_type": "code",
   "execution_count": 9,
   "id": "d55fc88c",
   "metadata": {},
   "outputs": [],
   "source": [
    "#train_dataset = pickle.load(open(\"../book_data/dataset/train_dataset.pkl\", \"rb\"))\n",
    "#val_dataset = pickle.load(open(\"../book_data/dataset/val_dataset.pkl\", \"rb\"))\n",
    "test_dataset = pickle.load(open(\"../book_data/rankingDataset/test_dataset.pkl\", \"rb\"))"
   ]
  },
  {
   "cell_type": "code",
   "execution_count": 13,
   "id": "024962ef",
   "metadata": {},
   "outputs": [
    {
     "name": "stderr",
     "output_type": "stream",
     "text": [
      "Some weights of the model checkpoint at bert-base-uncased were not used when initializing BertForRanking: ['cls.seq_relationship.bias', 'cls.predictions.transform.dense.weight', 'cls.predictions.transform.dense.bias', 'cls.predictions.transform.LayerNorm.bias', 'cls.predictions.decoder.weight', 'cls.predictions.transform.LayerNorm.weight', 'cls.predictions.bias', 'cls.seq_relationship.weight']\n",
      "- This IS expected if you are initializing BertForRanking from the checkpoint of a model trained on another task or with another architecture (e.g. initializing a BertForSequenceClassification model from a BertForPreTraining model).\n",
      "- This IS NOT expected if you are initializing BertForRanking from the checkpoint of a model that you expect to be exactly identical (initializing a BertForSequenceClassification model from a BertForSequenceClassification model).\n",
      "Some weights of BertForRanking were not initialized from the model checkpoint at bert-base-uncased and are newly initialized: ['classifier.bias', 'classifier.weight', 'user_emb.weight']\n",
      "You should probably TRAIN this model on a down-stream task to be able to use it for predictions and inference.\n"
     ]
    }
   ],
   "source": [
    "\n",
    "model = BertForRanking.from_pretrained(\"bert-base-uncased\")\n",
    "\n"
   ]
  },
  {
   "cell_type": "code",
   "execution_count": 14,
   "id": "b7494156",
   "metadata": {},
   "outputs": [
    {
     "data": {
      "text/plain": [
       "<All keys matched successfully>"
      ]
     },
     "execution_count": 14,
     "metadata": {},
     "output_type": "execute_result"
    }
   ],
   "source": [
    "model.load_state_dict(torch.load(\"../results/checkpoint-12000/pytorch_model.bin\"))\n"
   ]
  },
  {
   "cell_type": "code",
   "execution_count": 15,
   "id": "fa66e1ae",
   "metadata": {},
   "outputs": [],
   "source": [
    "dataloader = torch.utils.data.DataLoader(test_dataset, batch_size=128)\n"
   ]
  },
  {
   "cell_type": "code",
   "execution_count": 16,
   "id": "04f41825",
   "metadata": {},
   "outputs": [],
   "source": [
    "import os\n",
    "os.environ[\"CUDA_DEVICE_ORDER\"]=\"PCI_BUS_ID\"   # see issue #152\n",
    "os.environ[\"CUDA_VISIBLE_DEVICES\"]=\"7\""
   ]
  },
  {
   "cell_type": "code",
   "execution_count": 17,
   "id": "3483f0d6",
   "metadata": {},
   "outputs": [],
   "source": [
    "model = model.cuda()"
   ]
  },
  {
   "cell_type": "code",
   "execution_count": 18,
   "id": "dc91481c",
   "metadata": {},
   "outputs": [],
   "source": [
    "from tqdm import tqdm"
   ]
  },
  {
   "cell_type": "code",
   "execution_count": 19,
   "id": "b5a3029e",
   "metadata": {},
   "outputs": [
    {
     "name": "stderr",
     "output_type": "stream",
     "text": [
      "100%|█████████████████████████████████████████████████████████████████████████████████████████████████████████████████████████████████████████████████████████████████████| 257/257 [03:43<00:00,  1.15it/s]\n"
     ]
    }
   ],
   "source": [
    "model.eval()\n",
    "pred_list = list()\n",
    "real_list = list()\n",
    "with torch.no_grad():\n",
    "    for b in tqdm(dataloader):\n",
    "        b = {k:v.cuda() for k, v in b.items()}\n",
    "        output = model(**b)\n",
    "        pred = torch.argmax(output[1], dim=1)\n",
    "        pred_list.append(pred)\n",
    "        real_list.append(b['labels'])\n",
    "        #print(pred)\n",
    "        #print(b['labels'])\n",
    "        #print(\"-------\")\n"
   ]
  },
  {
   "cell_type": "code",
   "execution_count": 20,
   "id": "3930fbc7",
   "metadata": {},
   "outputs": [],
   "source": [
    "preds = torch.cat(pred_list)\n",
    "reals = torch.cat(real_list)"
   ]
  },
  {
   "cell_type": "code",
   "execution_count": 21,
   "id": "ce09adbe",
   "metadata": {},
   "outputs": [
    {
     "data": {
      "text/plain": [
       "tensor(0.9122, device='cuda:0')"
      ]
     },
     "execution_count": 21,
     "metadata": {},
     "output_type": "execute_result"
    }
   ],
   "source": [
    "(preds == reals).sum() / reals.shape[0]"
   ]
  }
 ],
 "metadata": {
  "kernelspec": {
   "display_name": "Python (recommomendationRanker)",
   "language": "python",
   "name": "recommomendationranker"
  },
  "language_info": {
   "codemirror_mode": {
    "name": "ipython",
    "version": 3
   },
   "file_extension": ".py",
   "mimetype": "text/x-python",
   "name": "python",
   "nbconvert_exporter": "python",
   "pygments_lexer": "ipython3",
   "version": "3.8.13"
  }
 },
 "nbformat": 4,
 "nbformat_minor": 5
}
