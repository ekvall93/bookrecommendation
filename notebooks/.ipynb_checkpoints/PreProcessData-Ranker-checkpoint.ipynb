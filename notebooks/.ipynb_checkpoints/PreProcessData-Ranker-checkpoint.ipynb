{
 "cells": [
  {
   "cell_type": "code",
   "execution_count": null,
   "id": "f10e7a4d",
   "metadata": {},
   "outputs": [],
   "source": [
    "import pandas as pd\n",
    "import seaborn as sns\n",
    "\n",
    "from sklearn.model_selection import train_test_split\n",
    "from transformers import BertTokenizerFast\n",
    "import torch\n",
    "import pickle\n",
    "\n",
    "from tqdm import tqdm\n",
    "from itertools import combinations \n",
    "import numpy as np"
   ]
  },
  {
   "cell_type": "code",
   "execution_count": null,
   "id": "18106da4",
   "metadata": {},
   "outputs": [],
   "source": [
    "df = pd.read_csv(\"../book_data/book.csv\")"
   ]
  },
  {
   "cell_type": "code",
   "execution_count": 3,
   "id": "219c39c4",
   "metadata": {},
   "outputs": [],
   "source": [
    "df = df.drop(columns=[\"Unnamed: 0\"])"
   ]
  },
  {
   "cell_type": "code",
   "execution_count": 4,
   "id": "dd91b2be",
   "metadata": {},
   "outputs": [],
   "source": [
    "n_uid_reviews = df[\"User-ID\"].value_counts() \n",
    "counts = n_uid_reviews.values"
   ]
  },
  {
   "cell_type": "code",
   "execution_count": 5,
   "id": "0b135e77",
   "metadata": {},
   "outputs": [],
   "source": [
    "big_bins = [len(counts[counts == 1]), len(counts[(1<counts) & (counts <=10)]), \n",
    "            len(counts[10<counts])]"
   ]
  },
  {
   "cell_type": "code",
   "execution_count": 6,
   "id": "eba1b768",
   "metadata": {},
   "outputs": [
    {
     "data": {
      "text/plain": [
       "<AxesSubplot:>"
      ]
     },
     "execution_count": 6,
     "metadata": {},
     "output_type": "execute_result"
    },
    {
     "data": {
      "image/png": "[encoded data removed]",
      "text/plain": [
       "<Figure size 432x288 with 1 Axes>"
      ]
     },
     "metadata": {
      "needs_background": "light"
     },
     "output_type": "display_data"
    }
   ],
   "source": [
    "sns.barplot(x=[\"One Review\",\"2 to 10 Reviews\",\"More than 10 Reviews\"],y=big_bins, )"
   ]
  },
  {
   "cell_type": "markdown",
   "id": "5cdc7518",
   "metadata": {},
   "source": [
    "User need to do at least rate two books to do a ranker."
   ]
  },
  {
   "cell_type": "code",
   "execution_count": 7,
   "id": "9d37431f",
   "metadata": {},
   "outputs": [
    {
     "name": "stdout",
     "output_type": "stream",
     "text": [
      "(355906, 3)\n",
      "(328384, 3)\n"
     ]
    }
   ],
   "source": [
    "print(df.shape)\n",
    "df = df[df[\"User-ID\"].isin(n_uid_reviews[(n_uid_reviews >= 2)].index)]\n",
    "print(df.shape)"
   ]
  },
  {
   "cell_type": "code",
   "execution_count": 8,
   "id": "a7c3f784",
   "metadata": {},
   "outputs": [],
   "source": [
    "df = df.reset_index(drop=True)"
   ]
  },
  {
   "cell_type": "code",
   "execution_count": 9,
   "id": "8d2d3843",
   "metadata": {},
   "outputs": [
    {
     "data": {
      "text/plain": [
       "<AxesSubplot:>"
      ]
     },
     "execution_count": 9,
     "metadata": {},
     "output_type": "execute_result"
    },
    {
     "data": {
      "image/png": "[encoded data removed]",
      "text/plain": [
       "<Figure size 432x288 with 1 Axes>"
      ]
     },
     "metadata": {
      "needs_background": "light"
     },
     "output_type": "display_data"
    }
   ],
   "source": [
    "df[\"User-ID\"].value_counts().value_counts().hist()"
   ]
  },
  {
   "cell_type": "code",
   "execution_count": 10,
   "id": "eb870322",
   "metadata": {},
   "outputs": [
    {
     "data": {
      "text/plain": [
       "<AxesSubplot:>"
      ]
     },
     "execution_count": 10,
     "metadata": {},
     "output_type": "execute_result"
    },
    {
     "data": {
      "image/png": "[encoded data removed]",
      "text/plain": [
       "<Figure size 432x288 with 1 Axes>"
      ]
     },
     "metadata": {
      "needs_background": "light"
     },
     "output_type": "display_data"
    }
   ],
   "source": [
    "n_uid_reviews = df[\"User-ID\"].value_counts() \n",
    "df[df[\"User-ID\"].isin(n_uid_reviews[(n_uid_reviews < 50)].index)][\"User-ID\"].value_counts().hist()\n"
   ]
  },
  {
   "cell_type": "code",
   "execution_count": 11,
   "id": "b6524770",
   "metadata": {},
   "outputs": [
    {
     "data": {
      "text/plain": [
       "<AxesSubplot:>"
      ]
     },
     "execution_count": 11,
     "metadata": {},
     "output_type": "execute_result"
    },
    {
     "data": {
      "image/png": "[encoded data removed]",
      "text/plain": [
       "<Figure size 432x288 with 1 Axes>"
      ]
     },
     "metadata": {
      "needs_background": "light"
     },
     "output_type": "display_data"
    }
   ],
   "source": [
    "n_uid_reviews = df[\"User-ID\"].value_counts() \n",
    "df[df[\"User-ID\"].isin(n_uid_reviews[(n_uid_reviews < 10)].index)][\"User-ID\"].value_counts().hist()\n"
   ]
  },
  {
   "cell_type": "code",
   "execution_count": 12,
   "id": "76c22f6d",
   "metadata": {},
   "outputs": [],
   "source": [
    "\n",
    "def shuffle_along_axis(a, axis):\n",
    "    idx = np.random.rand(*a.shape).argsort(axis=axis)\n",
    "    return np.take_along_axis(a,idx,axis=axis)\n",
    "\n",
    "def getUserDf(df: pd.DataFrame, uid: str)->pd.DataFrame:\n",
    "    return df[df[\"User-ID\"] == uid]\n",
    "\n",
    "def getCombinationIxs(df: pd.DataFrame)->np.ndarray:\n",
    "    ix = np.array([[p[0], p[1]] for p in combinations(df.index, 2)])\n",
    "    \n",
    "    #Remove text combinations with equal rating\n",
    "    mask = df.loc[ix[:,0]]['Book-Rating'].values != df.loc[ix[:,1]]['Book-Rating'].values\n",
    "    ix = ix[mask]\n",
    "    #Shuffle to enusure to get 50/50 likelihood to guess correct\n",
    "    ix = shuffle_along_axis(ix, 1)\n",
    "    return ix\n",
    "\n",
    "def getRankinLabels(df: pd.DataFrame, ix: np.ndarray)->np.ndarray:\n",
    "    return df.loc[ix[:,0]]['Book-Rating'].values > df.loc[ix[:,1]]['Book-Rating'].values\n",
    "\n",
    "def getRankingtext(df: pd.DataFrame, ix: np.ndarray, pos: int)->np.ndarray:\n",
    "    return df.loc[ix[:,pos]]['Abstract'].values\n",
    "\n",
    "def getRankingUid(df: pd.DataFrame)->pd.DataFrame:\n",
    "    return df['User-ID'].values\n",
    "\n",
    "def createRankingDf(labels: np.ndarray, texts1: np.ndarray, texts2: np.ndarray, uids:np.ndarray)->pd.DataFrame:\n",
    "    data = [[l, t1, t2, u] for l, t1, t2, u in zip(labels, texts1, texts2, uids)]\n",
    "    return pd.DataFrame(data, columns=['label', 'text1', 'text2', 'uid'])\n"
   ]
  },
  {
   "cell_type": "code",
   "execution_count": 13,
   "id": "ce5c85e3",
   "metadata": {},
   "outputs": [],
   "source": [
    "\n",
    "def creatRankingData(df: pd.DataFrame)->pd.DataFrame:\n",
    "\n",
    "    label_list, text1_list, text2_list, uid_list = list(), list(), list(), list()\n",
    "    \n",
    "    for uid in tqdm(df[\"User-ID\"].unique()):\n",
    "        #get user df\n",
    "        df_user = getUserDf(df, uid)\n",
    "        #get combinations\n",
    "        ix = getCombinationIxs(df_user)\n",
    "        \n",
    "        #Extract values\n",
    "        label_list.append(getRankinLabels(df_user, ix))        \n",
    "        text1_list.append(getRankingtext(df_user, ix, 0))\n",
    "        text2_list.append(getRankingtext(df_user, ix, 1))\n",
    "        uid_list.append(getRankingUid(df_user))\n",
    "    \n",
    "    #Combine all users\n",
    "    labels, texts1, texts2, uids = (np.concatenate(label_list).astype(int), np.concatenate(text1_list), \n",
    "                                    np.concatenate(text2_list), np.concatenate(uid_list))\n",
    "    #Return ranking df\n",
    "    return createRankingDf(labels, texts1, texts2, uids)\n",
    "\n",
    "    \n",
    "\n"
   ]
  },
  {
   "cell_type": "code",
   "execution_count": 14,
   "id": "a590b2c0",
   "metadata": {},
   "outputs": [
    {
     "name": "stderr",
     "output_type": "stream",
     "text": [
      "100%|████████████████████████████████████████████████████████████████████████████████████████████████████████████████████████████████████████████████████████████████| 22426/22426 [01:21<00:00, 274.54it/s]\n"
     ]
    }
   ],
   "source": [
    "df_ranking = creatRankingData(df)"
   ]
  },
  {
   "cell_type": "code",
   "execution_count": 16,
   "id": "39a9cf6e",
   "metadata": {},
   "outputs": [],
   "source": [
    "#Exact same amount of rows as previous df, strange"
   ]
  },
  {
   "cell_type": "code",
   "execution_count": 15,
   "id": "653287d5",
   "metadata": {},
   "outputs": [
    {
     "data": {
      "text/plain": [
       "(328384, 4)"
      ]
     },
     "execution_count": 15,
     "metadata": {},
     "output_type": "execute_result"
    }
   ],
   "source": [
    "df_ranking.shape"
   ]
  },
  {
   "cell_type": "code",
   "execution_count": 17,
   "id": "1538c465",
   "metadata": {},
   "outputs": [],
   "source": [
    "#10% Examples in test/val split"
   ]
  },
  {
   "cell_type": "code",
   "execution_count": 18,
   "id": "7f2b41fb",
   "metadata": {},
   "outputs": [],
   "source": [
    "n_examples = int(df.shape[0] * 0.1)"
   ]
  },
  {
   "cell_type": "code",
   "execution_count": 19,
   "id": "d36889d4",
   "metadata": {},
   "outputs": [],
   "source": [
    "from typing import Tuple"
   ]
  },
  {
   "cell_type": "code",
   "execution_count": 20,
   "id": "6bdd1387",
   "metadata": {},
   "outputs": [],
   "source": [
    "def splitDf(df: pd.DataFrame)->Tuple[pd.DataFrame, pd.DataFrame]:\n",
    "    #Assure that we alawys keep one example per user in the training set!\n",
    "    df_dup = df[df[\"uid\"].duplicated()]\n",
    "    df_test = df_dup.sample(n_examples)\n",
    "    df = df.drop(index=df_test.index)\n",
    "    return df, df_test\n",
    "\n",
    "    "
   ]
  },
  {
   "cell_type": "code",
   "execution_count": 21,
   "id": "955cc9a9",
   "metadata": {},
   "outputs": [],
   "source": [
    "df_ranking, df_test = splitDf(df_ranking)"
   ]
  },
  {
   "cell_type": "code",
   "execution_count": 24,
   "id": "80328760",
   "metadata": {},
   "outputs": [],
   "source": [
    "df_ranking, df_valid = splitDf(df_ranking)"
   ]
  },
  {
   "cell_type": "code",
   "execution_count": null,
   "id": "2dfaf730",
   "metadata": {},
   "outputs": [],
   "source": []
  },
  {
   "cell_type": "code",
   "execution_count": null,
   "id": "9558c805",
   "metadata": {},
   "outputs": [],
   "source": []
  },
  {
   "cell_type": "code",
   "execution_count": 27,
   "id": "52cc337c",
   "metadata": {},
   "outputs": [
    {
     "name": "stderr",
     "output_type": "stream",
     "text": [
      "The tokenizer class you load from this checkpoint is not the same type as the class this function is called from. It may result in unexpected tokenization. \n",
      "The tokenizer class you load from this checkpoint is 'DistilBertTokenizer'. \n",
      "The class this function is called from is 'BertTokenizerFast'.\n"
     ]
    }
   ],
   "source": [
    "tokenizer = BertTokenizerFast.from_pretrained('distilbert-base-uncased')"
   ]
  },
  {
   "cell_type": "code",
   "execution_count": 28,
   "id": "b6cf6436",
   "metadata": {},
   "outputs": [],
   "source": [
    "#Extract data from df\n",
    "train_uids, train_labels, train_texts1, train_texts2 = list(df_ranking[\"uid\"]), list(df_ranking[\"label\"]), list(df_ranking[\"text1\"]), list(df_ranking[\"text2\"])\n",
    "test_uids, test_labels, test_texts1, test_texts2 = list(df_test[\"uid\"]), list(df_test[\"label\"]), list(df_test[\"text1\"]), list(df_test[\"text2\"])\n",
    "valid_uids, valid_labels, valid_texts1, valid_texts2 = list(df_valid[\"uid\"]), list(df_valid[\"label\"]),  list(df_valid[\"text1\"]), list(df_valid[\"text2\"])\n",
    "\n",
    "\n"
   ]
  },
  {
   "cell_type": "code",
   "execution_count": null,
   "id": "837b637e",
   "metadata": {},
   "outputs": [
    {
     "name": "stderr",
     "output_type": "stream",
     "text": [
      "Asking to truncate to max_length but no maximum length is provided and the model has no predefined maximum length. Default to no truncation.\n"
     ]
    }
   ],
   "source": [
    "train_encodings1, train_encodings2 = tokenizer(train_texts1, truncation=True, padding=True), tokenizer(train_texts2, truncation=True, padding=True)\n",
    "valid_encodings1, valid_encodings2 = tokenizer(valid_texts1, truncation=True, padding=True), tokenizer(valid_texts2, truncation=True, padding=True)\n",
    "test_encodings1, test_encodings2 = tokenizer(test_texts1, truncation=True, padding=True), tokenizer(test_texts2, truncation=True, padding=True)\n",
    "\n"
   ]
  },
  {
   "cell_type": "code",
   "execution_count": null,
   "id": "f9222f79",
   "metadata": {},
   "outputs": [],
   "source": [
    "class IMDbDataset(torch.utils.data.Dataset):\n",
    "    def __init__(self, encodings1, encodings2, labels, user_id):\n",
    "        self.encodings1 = encodings1\n",
    "        self.encodings2 = encodings2\n",
    "        self.labels = labels\n",
    "        self.user_id = user_id\n",
    "\n",
    "    def __getitem__(self, idx):\n",
    "        item1 = {key + \"_1\": torch.tensor(val[idx]) for key, val in self.encodings1.items()}\n",
    "        item2 = {key + \"_2\": torch.tensor(val[idx]) for key, val in self.encodings2.items()}\n",
    "        item = dict(**item1, **item2)\n",
    "        item['labels'] = torch.tensor(self.labels[idx])\n",
    "        item['user_id'] = torch.tensor(self.user_id[idx])\n",
    "        return item\n",
    "\n",
    "    def __len__(self):\n",
    "        return len(self.labels)\n",
    "\n",
    "train_dataset = IMDbDataset(train_encodings1, train_encodings2, train_labels, train_uids)\n",
    "val_dataset = IMDbDataset(valid_encodings1, valid_encodings2, valid_labels, valid_uids)\n",
    "test_dataset = IMDbDataset(test_encodings1, test_encodings2, test_labels, test_uids)"
   ]
  },
  {
   "cell_type": "code",
   "execution_count": null,
   "id": "0f04a0c9",
   "metadata": {},
   "outputs": [],
   "source": [
    "pickle.dump(train_dataset, open(\"../book_data/dataset/train_dataset.pkl\", \"wb\"))\n",
    "pickle.dump(val_dataset, open(\"../book_data/dataset/val_dataset.pkl\", \"wb\"))\n",
    "pickle.dump(test_dataset, open(\"../book_data/dataset/test_dataset.pkl\", \"wb\"))"
   ]
  },
  {
   "cell_type": "code",
   "execution_count": null,
   "id": "169f2ee1",
   "metadata": {},
   "outputs": [],
   "source": []
  }
 ],
 "metadata": {
  "kernelspec": {
   "display_name": "Python (recommomendationRanker)",
   "language": "python",
   "name": "recommomendationranker"
  },
  "language_info": {
   "codemirror_mode": {
    "name": "ipython",
    "version": 3
   },
   "file_extension": ".py",
   "mimetype": "text/x-python",
   "name": "python",
   "nbconvert_exporter": "python",
   "pygments_lexer": "ipython3",
   "version": "3.8.13"
  }
 },
 "nbformat": 4,
 "nbformat_minor": 5
}
