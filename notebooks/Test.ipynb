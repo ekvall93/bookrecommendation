{
 "cells": [
  {
   "cell_type": "code",
   "execution_count": 1,
   "id": "6d4597cb",
   "metadata": {},
   "outputs": [],
   "source": [
    "import pandas as pd\n",
    "import torch\n",
    "from transformers import BertForRanking\n",
    "import pickle\n",
    "\n",
    "import os\n",
    "from tqdm import tqdm\n",
    "import numpy as np\n",
    "import seaborn as sns"
   ]
  },
  {
   "cell_type": "code",
   "execution_count": 2,
   "id": "acdc15b0",
   "metadata": {},
   "outputs": [],
   "source": [
    "import torch\n",
    "\n",
    "class RankingDataset(torch.utils.data.Dataset):\n",
    "    def __init__(self, encodings1, encodings2, labels, user_id):\n",
    "        self.encodings1 = encodings1\n",
    "        self.encodings2 = encodings2\n",
    "        self.labels = labels\n",
    "        self.user_id = user_id\n",
    "\n",
    "    def __getitem__(self, idx):\n",
    "        item1 = {key + \"_1\": torch.tensor(val[idx]) for key, val in self.encodings1.items()}\n",
    "        item2 = {key + \"_2\": torch.tensor(val[idx]) for key, val in self.encodings2.items()}\n",
    "        item = dict(**item1, **item2)\n",
    "        item['labels'] = torch.tensor(self.labels[idx])\n",
    "        item['user_id'] = torch.tensor(self.user_id[idx])\n",
    "        return item\n",
    "\n",
    "    def __len__(self):\n",
    "        return len(self.labels)"
   ]
  },
  {
   "cell_type": "code",
   "execution_count": 46,
   "id": "d55fc88c",
   "metadata": {},
   "outputs": [],
   "source": [
    "#train_dataset = pickle.load(open(\"../book_data/rankingDataset/train_dataset.pkl\", \"rb\"))\n",
    "#val_dataset = pickle.load(open(\"../book_data/dataset/val_dataset.pkl\", \"rb\"))\n",
    "test_dataset = pickle.load(open(\"../book_data/rankingDataset/test_dataset.pkl\", \"rb\"))"
   ]
  },
  {
   "cell_type": "code",
   "execution_count": 47,
   "id": "024962ef",
   "metadata": {},
   "outputs": [
    {
     "name": "stderr",
     "output_type": "stream",
     "text": [
      "Some weights of the model checkpoint at bert-base-uncased were not used when initializing BertForRanking: ['cls.predictions.bias', 'cls.predictions.decoder.weight', 'cls.predictions.transform.dense.weight', 'cls.seq_relationship.bias', 'cls.predictions.transform.LayerNorm.weight', 'cls.predictions.transform.dense.bias', 'cls.seq_relationship.weight', 'cls.predictions.transform.LayerNorm.bias']\n",
      "- This IS expected if you are initializing BertForRanking from the checkpoint of a model trained on another task or with another architecture (e.g. initializing a BertForSequenceClassification model from a BertForPreTraining model).\n",
      "- This IS NOT expected if you are initializing BertForRanking from the checkpoint of a model that you expect to be exactly identical (initializing a BertForSequenceClassification model from a BertForSequenceClassification model).\n",
      "Some weights of BertForRanking were not initialized from the model checkpoint at bert-base-uncased and are newly initialized: ['classifier.weight', 'classifier.bias', 'logit_scale', 'user_emb.weight']\n",
      "You should probably TRAIN this model on a down-stream task to be able to use it for predictions and inference.\n"
     ]
    }
   ],
   "source": [
    "\n",
    "model = BertForRanking.from_pretrained(\"bert-base-uncased\")\n",
    "\n"
   ]
  },
  {
   "cell_type": "code",
   "execution_count": 48,
   "id": "b7494156",
   "metadata": {},
   "outputs": [
    {
     "data": {
      "text/plain": [
       "<All keys matched successfully>"
      ]
     },
     "execution_count": 48,
     "metadata": {},
     "output_type": "execute_result"
    }
   ],
   "source": [
    "model.load_state_dict(torch.load(\"../results/checkpoint-1500/pytorch_model.bin\"))\n"
   ]
  },
  {
   "cell_type": "code",
   "execution_count": 49,
   "id": "04f41825",
   "metadata": {},
   "outputs": [],
   "source": [
    "\n",
    "os.environ[\"CUDA_DEVICE_ORDER\"]=\"PCI_BUS_ID\"   # see issue #152\n",
    "os.environ[\"CUDA_VISIBLE_DEVICES\"]=\"7\""
   ]
  },
  {
   "cell_type": "code",
   "execution_count": 50,
   "id": "3483f0d6",
   "metadata": {},
   "outputs": [],
   "source": [
    "model = model.cuda()"
   ]
  },
  {
   "cell_type": "code",
   "execution_count": 60,
   "id": "59768471",
   "metadata": {},
   "outputs": [],
   "source": [
    "def eval_model(dataset, model, shuffle_ix=False):\n",
    "    model.eval()\n",
    "    dataloader = torch.utils.data.DataLoader(dataset, batch_size=128)\n",
    "    \n",
    "    pred_list, real_list, uid_list = list(), list(), list()\n",
    "    \n",
    "    i=0\n",
    "    with torch.no_grad():\n",
    "        for b in tqdm(dataloader):\n",
    "            if shuffle_ix:\n",
    "                r=torch.randperm(len(b['user_id']))\n",
    "                b['user_id'] = b['user_id'][r]\n",
    "                \n",
    "            b = {k:v.cuda() for k, v in b.items()}\n",
    "            output = model(**b)\n",
    "            \n",
    "            #print(output)\n",
    "            \n",
    "            #out = output[1].reshape(output[1].shape[0] // 2, 2)\n",
    "            out = output[1]\n",
    "            #print(out)\n",
    "            pred = torch.argmax(out, dim=1)\n",
    "            pred_list.append(pred.cpu().numpy())\n",
    "            real_list.append(b['labels'].cpu().numpy())\n",
    "            uid_list.append(b['user_id'].cpu().numpy())\n",
    "            \n",
    "            i+=1\n",
    "            if i> 10:\n",
    "                break\n",
    "            \n",
    "            \n",
    "    preds = np.concatenate(pred_list)\n",
    "    reals = np.concatenate(real_list)\n",
    "    uids = np.concatenate(uid_list)\n",
    "    \n",
    "    data = [[p, r, u] for p, r, u in zip(preds, reals, uids)]\n",
    "\n",
    "    return pd.DataFrame(data, columns = [\"pred\", \"read\", \"uid\"])\n",
    "    "
   ]
  },
  {
   "cell_type": "code",
   "execution_count": 56,
   "id": "f2cde017",
   "metadata": {},
   "outputs": [
    {
     "name": "stderr",
     "output_type": "stream",
     "text": [
      "  1%|█                                                                                                                                                                      | 1/167 [00:01<02:57,  1.07s/it]"
     ]
    },
    {
     "name": "stdout",
     "output_type": "stream",
     "text": [
      "tensor(0.2629, device='cuda:0')\n",
      "tensor(0.2629, device='cuda:0')\n",
      "tensor([[ 0.2629, -0.2123],\n",
      "        [ 0.2629,  0.2138],\n",
      "        [ 0.2629, -0.1291]], device='cuda:0')\n"
     ]
    },
    {
     "name": "stderr",
     "output_type": "stream",
     "text": [
      "\r",
      "  1%|██                                                                                                                                                                     | 2/167 [00:02<02:45,  1.00s/it]"
     ]
    },
    {
     "name": "stdout",
     "output_type": "stream",
     "text": [
      "tensor(-0.4033, device='cuda:0')\n",
      "tensor(-0.4033, device='cuda:0')\n",
      "tensor([[-0.4033, -0.4506],\n",
      "        [-0.4033,  0.4631],\n",
      "        [-0.4033, -0.0791]], device='cuda:0')\n"
     ]
    },
    {
     "name": "stderr",
     "output_type": "stream",
     "text": [
      "\r",
      "  2%|███                                                                                                                                                                    | 3/167 [00:03<02:44,  1.00s/it]"
     ]
    },
    {
     "name": "stdout",
     "output_type": "stream",
     "text": [
      "tensor(-0.0514, device='cuda:0')\n",
      "tensor(-0.2733, device='cuda:0')\n",
      "tensor([[-0.0514,  0.3476],\n",
      "        [-0.2733,  0.3476],\n",
      "        [ 0.0771, -0.0829]], device='cuda:0')\n"
     ]
    },
    {
     "name": "stderr",
     "output_type": "stream",
     "text": [
      "\r",
      "  2%|████                                                                                                                                                                   | 4/167 [00:04<02:45,  1.02s/it]"
     ]
    },
    {
     "name": "stdout",
     "output_type": "stream",
     "text": [
      "tensor(0.1294, device='cuda:0')\n",
      "tensor(0.1294, device='cuda:0')\n",
      "tensor([[ 0.1294, -0.1930],\n",
      "        [ 0.1294, -0.2438],\n",
      "        [ 0.1294, -0.1651]], device='cuda:0')\n"
     ]
    },
    {
     "name": "stderr",
     "output_type": "stream",
     "text": [
      "\r",
      "  3%|█████                                                                                                                                                                  | 5/167 [00:05<02:40,  1.01it/s]"
     ]
    },
    {
     "name": "stdout",
     "output_type": "stream",
     "text": [
      "tensor(0.0368, device='cuda:0')\n",
      "tensor(0.0368, device='cuda:0')\n",
      "tensor([[ 0.0368, -0.1423],\n",
      "        [ 0.0368,  0.1250],\n",
      "        [ 0.0368, -0.0761]], device='cuda:0')\n"
     ]
    },
    {
     "name": "stderr",
     "output_type": "stream",
     "text": [
      "\r",
      "  4%|██████                                                                                                                                                                 | 6/167 [00:06<02:40,  1.00it/s]"
     ]
    },
    {
     "name": "stdout",
     "output_type": "stream",
     "text": [
      "tensor(0.3615, device='cuda:0')\n",
      "tensor(0.3615, device='cuda:0')\n",
      "tensor([[ 0.3615, -0.3594],\n",
      "        [ 0.3615, -0.0191],\n",
      "        [ 0.3615, -0.3265]], device='cuda:0')\n"
     ]
    },
    {
     "name": "stderr",
     "output_type": "stream",
     "text": [
      "\r",
      "  4%|███████                                                                                                                                                                | 7/167 [00:07<02:41,  1.01s/it]"
     ]
    },
    {
     "name": "stdout",
     "output_type": "stream",
     "text": [
      "tensor(-0.2351, device='cuda:0')\n",
      "tensor(-0.2351, device='cuda:0')\n",
      "tensor([[-0.2351,  0.2185],\n",
      "        [-0.2351,  0.2081],\n",
      "        [-0.2351,  0.1624]], device='cuda:0')\n"
     ]
    },
    {
     "name": "stderr",
     "output_type": "stream",
     "text": [
      "\r",
      "  5%|████████                                                                                                                                                               | 8/167 [00:07<02:34,  1.03it/s]"
     ]
    },
    {
     "name": "stdout",
     "output_type": "stream",
     "text": [
      "tensor(-0.1794, device='cuda:0')\n",
      "tensor(-0.0221, device='cuda:0')\n",
      "tensor([[-1.7944e-01,  1.7380e-01],\n",
      "        [-2.2065e-02, -9.9661e-02],\n",
      "        [ 5.4570e-02, -2.9687e-05]], device='cuda:0')\n"
     ]
    },
    {
     "name": "stderr",
     "output_type": "stream",
     "text": [
      "\r",
      "  5%|█████████                                                                                                                                                              | 9/167 [00:08<02:13,  1.18it/s]"
     ]
    },
    {
     "name": "stdout",
     "output_type": "stream",
     "text": [
      "tensor(0.1386, device='cuda:0')\n",
      "tensor(0.1386, device='cuda:0')\n",
      "tensor([[ 0.1386, -0.2445],\n",
      "        [ 0.1386,  0.0824],\n",
      "        [ 0.1386, -0.1216]], device='cuda:0')\n"
     ]
    },
    {
     "name": "stderr",
     "output_type": "stream",
     "text": [
      "\r",
      "  6%|█████████▉                                                                                                                                                            | 10/167 [00:09<01:59,  1.31it/s]"
     ]
    },
    {
     "name": "stdout",
     "output_type": "stream",
     "text": [
      "tensor(0.2306, device='cuda:0')\n",
      "tensor(0.2306, device='cuda:0')\n",
      "tensor([[ 0.2306, -0.0723],\n",
      "        [ 0.2306, -0.3781],\n",
      "        [ 0.2306, -0.2188]], device='cuda:0')\n"
     ]
    },
    {
     "name": "stderr",
     "output_type": "stream",
     "text": [
      "\r",
      "  7%|██████████▉                                                                                                                                                           | 11/167 [00:09<02:05,  1.24it/s]"
     ]
    },
    {
     "name": "stdout",
     "output_type": "stream",
     "text": [
      "tensor(-0.0826, device='cuda:0')\n",
      "tensor(-0.0826, device='cuda:0')\n",
      "tensor([[-0.0826,  0.1029],\n",
      "        [-0.0826,  0.1074],\n",
      "        [-0.0826,  0.0856]], device='cuda:0')\n"
     ]
    },
    {
     "name": "stderr",
     "output_type": "stream",
     "text": [
      "\r",
      "  7%|███████████▉                                                                                                                                                          | 12/167 [00:10<02:11,  1.18it/s]"
     ]
    },
    {
     "name": "stdout",
     "output_type": "stream",
     "text": [
      "tensor(-0.3922, device='cuda:0')\n",
      "tensor(-0.3922, device='cuda:0')\n",
      "tensor([[-0.3922,  0.3483],\n",
      "        [-0.3922,  0.3934],\n",
      "        [-0.3804,  0.3729]], device='cuda:0')\n"
     ]
    },
    {
     "name": "stderr",
     "output_type": "stream",
     "text": [
      "\r",
      "  8%|████████████▉                                                                                                                                                         | 13/167 [00:11<02:18,  1.11it/s]"
     ]
    },
    {
     "name": "stdout",
     "output_type": "stream",
     "text": [
      "tensor(-0.4820, device='cuda:0')\n",
      "tensor(-0.4820, device='cuda:0')\n",
      "tensor([[-0.4820,  0.4650],\n",
      "        [-0.4820, -0.3311],\n",
      "        [-0.4820,  0.4417]], device='cuda:0')\n"
     ]
    },
    {
     "name": "stderr",
     "output_type": "stream",
     "text": [
      "\r",
      "  8%|█████████████▉                                                                                                                                                        | 14/167 [00:12<02:24,  1.06it/s]"
     ]
    },
    {
     "name": "stdout",
     "output_type": "stream",
     "text": [
      "tensor(0.1300, device='cuda:0')\n",
      "tensor(0.1300, device='cuda:0')\n",
      "tensor([[ 0.1300, -0.2688],\n",
      "        [ 0.1300,  0.3088],\n",
      "        [-0.1041,  0.0775]], device='cuda:0')\n"
     ]
    },
    {
     "name": "stderr",
     "output_type": "stream",
     "text": [
      "\r",
      "  9%|██████████████▉                                                                                                                                                       | 15/167 [00:13<02:23,  1.06it/s]"
     ]
    },
    {
     "name": "stdout",
     "output_type": "stream",
     "text": [
      "tensor(-0.2819, device='cuda:0')\n",
      "tensor(-0.2819, device='cuda:0')\n",
      "tensor([[-0.2819,  0.3139],\n",
      "        [-0.2819,  0.2015],\n",
      "        [-0.2819,  0.2872]], device='cuda:0')\n"
     ]
    },
    {
     "name": "stderr",
     "output_type": "stream",
     "text": [
      "\r",
      " 10%|███████████████▉                                                                                                                                                      | 16/167 [00:14<02:25,  1.04it/s]"
     ]
    },
    {
     "name": "stdout",
     "output_type": "stream",
     "text": [
      "tensor(0.3542, device='cuda:0')\n",
      "tensor(0.0897, device='cuda:0')\n",
      "tensor([[ 0.3542,  0.2821],\n",
      "        [ 0.0897, -0.2992],\n",
      "        [ 0.0897, -0.3711]], device='cuda:0')\n"
     ]
    },
    {
     "name": "stderr",
     "output_type": "stream",
     "text": [
      "\r",
      " 10%|████████████████▉                                                                                                                                                     | 17/167 [00:16<02:28,  1.01it/s]"
     ]
    },
    {
     "name": "stdout",
     "output_type": "stream",
     "text": [
      "tensor(-0.0794, device='cuda:0')\n",
      "tensor(-0.0119, device='cuda:0')\n",
      "tensor([[-0.0794,  0.0694],\n",
      "        [-0.0119,  0.0267],\n",
      "        [ 0.0267, -0.0947]], device='cuda:0')\n"
     ]
    },
    {
     "name": "stderr",
     "output_type": "stream",
     "text": [
      "\r",
      " 11%|█████████████████▉                                                                                                                                                    | 18/167 [00:16<02:24,  1.03it/s]"
     ]
    },
    {
     "name": "stdout",
     "output_type": "stream",
     "text": [
      "tensor(-0.1003, device='cuda:0')\n",
      "tensor(-0.1003, device='cuda:0')\n",
      "tensor([[-0.1003,  0.0918],\n",
      "        [-0.1003,  0.1547],\n",
      "        [-0.0750, -0.0473]], device='cuda:0')\n"
     ]
    },
    {
     "name": "stderr",
     "output_type": "stream",
     "text": [
      "\r",
      " 11%|██████████████████▉                                                                                                                                                   | 19/167 [00:17<02:26,  1.01it/s]"
     ]
    },
    {
     "name": "stdout",
     "output_type": "stream",
     "text": [
      "tensor(0.1562, device='cuda:0')\n",
      "tensor(0.1562, device='cuda:0')\n",
      "tensor([[ 0.1562, -0.1912],\n",
      "        [ 0.1562,  0.3144],\n",
      "        [ 0.1562, -0.2991]], device='cuda:0')\n"
     ]
    },
    {
     "name": "stderr",
     "output_type": "stream",
     "text": [
      "\r",
      " 12%|███████████████████▉                                                                                                                                                  | 20/167 [00:18<02:26,  1.00it/s]"
     ]
    },
    {
     "name": "stdout",
     "output_type": "stream",
     "text": [
      "tensor(-0.2955, device='cuda:0')\n",
      "tensor(-0.2955, device='cuda:0')\n",
      "tensor([[-0.2955,  0.1902],\n",
      "        [-0.2955,  0.0362],\n",
      "        [-0.2955,  0.1590]], device='cuda:0')\n"
     ]
    },
    {
     "name": "stderr",
     "output_type": "stream",
     "text": [
      "\r",
      " 13%|████████████████████▊                                                                                                                                                 | 21/167 [00:19<02:24,  1.01it/s]"
     ]
    },
    {
     "name": "stdout",
     "output_type": "stream",
     "text": [
      "tensor(0.2374, device='cuda:0')\n",
      "tensor(0.2374, device='cuda:0')\n",
      "tensor([[ 0.2374,  0.2153],\n",
      "        [ 0.2374,  0.0121],\n",
      "        [-0.0894,  0.2486]], device='cuda:0')\n"
     ]
    },
    {
     "name": "stderr",
     "output_type": "stream",
     "text": [
      "\r",
      " 13%|█████████████████████▊                                                                                                                                                | 22/167 [00:20<02:25,  1.01s/it]"
     ]
    },
    {
     "name": "stdout",
     "output_type": "stream",
     "text": [
      "tensor(0.2489, device='cuda:0')\n",
      "tensor(0.2489, device='cuda:0')\n",
      "tensor([[ 0.2489,  0.3195],\n",
      "        [ 0.2489,  0.2035],\n",
      "        [ 0.2489, -0.2546]], device='cuda:0')\n"
     ]
    },
    {
     "name": "stderr",
     "output_type": "stream",
     "text": [
      "\r",
      " 14%|██████████████████████▊                                                                                                                                               | 23/167 [00:21<02:23,  1.01it/s]"
     ]
    },
    {
     "name": "stdout",
     "output_type": "stream",
     "text": [
      "tensor(0.2803, device='cuda:0')\n",
      "tensor(0.2803, device='cuda:0')\n",
      "tensor([[ 0.2803, -0.3995],\n",
      "        [ 0.2803, -0.4173],\n",
      "        [ 0.2803, -0.6159]], device='cuda:0')\n"
     ]
    },
    {
     "name": "stderr",
     "output_type": "stream",
     "text": [
      "\r",
      " 14%|███████████████████████▊                                                                                                                                              | 24/167 [00:22<02:22,  1.00it/s]"
     ]
    },
    {
     "name": "stdout",
     "output_type": "stream",
     "text": [
      "tensor(-0.3979, device='cuda:0')\n",
      "tensor(-0.4220, device='cuda:0')\n",
      "tensor([[-0.3979, -0.1366],\n",
      "        [-0.4220, -0.1366],\n",
      "        [-0.0739, -0.1366]], device='cuda:0')\n"
     ]
    },
    {
     "name": "stderr",
     "output_type": "stream",
     "text": [
      "\r",
      " 15%|████████████████████████▊                                                                                                                                             | 25/167 [00:24<02:23,  1.01s/it]"
     ]
    },
    {
     "name": "stdout",
     "output_type": "stream",
     "text": [
      "tensor(0.3652, device='cuda:0')\n",
      "tensor(-0.4629, device='cuda:0')\n",
      "tensor([[ 0.3652,  0.4813],\n",
      "        [-0.4629,  0.4681],\n",
      "        [-0.4629,  0.0527]], device='cuda:0')\n"
     ]
    },
    {
     "name": "stderr",
     "output_type": "stream",
     "text": [
      "\r",
      " 16%|█████████████████████████▊                                                                                                                                            | 26/167 [00:24<02:05,  1.12it/s]"
     ]
    },
    {
     "name": "stdout",
     "output_type": "stream",
     "text": [
      "tensor(-0.1036, device='cuda:0')\n",
      "tensor(-0.3708, device='cuda:0')\n",
      "tensor([[-0.1036,  0.1885],\n",
      "        [-0.3708,  0.0773],\n",
      "        [-0.1606, -0.1302]], device='cuda:0')\n"
     ]
    },
    {
     "name": "stderr",
     "output_type": "stream",
     "text": [
      "\r",
      " 16%|██████████████████████████▊                                                                                                                                           | 27/167 [00:25<01:51,  1.25it/s]"
     ]
    },
    {
     "name": "stdout",
     "output_type": "stream",
     "text": [
      "tensor(-0.0640, device='cuda:0')\n",
      "tensor(-0.3545, device='cuda:0')\n",
      "tensor([[-0.0640, -0.0074],\n",
      "        [-0.3545, -0.3318],\n",
      "        [-0.3545,  0.1712]], device='cuda:0')\n"
     ]
    },
    {
     "name": "stderr",
     "output_type": "stream",
     "text": [
      "\r",
      " 17%|███████████████████████████▊                                                                                                                                          | 28/167 [00:25<01:47,  1.29it/s]"
     ]
    },
    {
     "name": "stdout",
     "output_type": "stream",
     "text": [
      "tensor(-0.3143, device='cuda:0')\n",
      "tensor(-0.3143, device='cuda:0')\n",
      "tensor([[-0.3143, -0.2310],\n",
      "        [-0.3143, -0.2666],\n",
      "        [-0.3143, -0.1733]], device='cuda:0')\n"
     ]
    },
    {
     "name": "stderr",
     "output_type": "stream",
     "text": [
      "\r",
      " 17%|████████████████████████████▊                                                                                                                                         | 29/167 [00:26<01:57,  1.17it/s]"
     ]
    },
    {
     "name": "stdout",
     "output_type": "stream",
     "text": [
      "tensor(0.0425, device='cuda:0')\n",
      "tensor(0.0425, device='cuda:0')\n",
      "tensor([[ 0.0425, -0.0508],\n",
      "        [ 0.0425,  0.4386],\n",
      "        [ 0.0425, -0.0398]], device='cuda:0')\n"
     ]
    },
    {
     "name": "stderr",
     "output_type": "stream",
     "text": [
      "\r",
      " 18%|█████████████████████████████▊                                                                                                                                        | 30/167 [00:27<02:02,  1.12it/s]"
     ]
    },
    {
     "name": "stdout",
     "output_type": "stream",
     "text": [
      "tensor(0.3393, device='cuda:0')\n",
      "tensor(0.3393, device='cuda:0')\n",
      "tensor([[ 0.3393, -0.4772],\n",
      "        [ 0.3393, -0.4937],\n",
      "        [ 0.3393,  0.4501]], device='cuda:0')\n"
     ]
    },
    {
     "name": "stderr",
     "output_type": "stream",
     "text": [
      "\r",
      " 19%|██████████████████████████████▊                                                                                                                                       | 31/167 [00:29<02:08,  1.06it/s]"
     ]
    },
    {
     "name": "stdout",
     "output_type": "stream",
     "text": [
      "tensor(0.1091, device='cuda:0')\n",
      "tensor(0.1091, device='cuda:0')\n",
      "tensor([[ 0.1091, -0.2177],\n",
      "        [ 0.1091, -0.1238],\n",
      "        [ 0.1091, -0.0077]], device='cuda:0')\n"
     ]
    },
    {
     "name": "stderr",
     "output_type": "stream",
     "text": [
      "\r",
      " 19%|███████████████████████████████▊                                                                                                                                      | 32/167 [00:29<02:07,  1.06it/s]"
     ]
    },
    {
     "name": "stdout",
     "output_type": "stream",
     "text": [
      "tensor(0.4653, device='cuda:0')\n",
      "tensor(0.4653, device='cuda:0')\n",
      "tensor([[ 0.4653,  0.2638],\n",
      "        [ 0.4653, -0.3759],\n",
      "        [ 0.3799,  0.2030]], device='cuda:0')\n"
     ]
    },
    {
     "name": "stderr",
     "output_type": "stream",
     "text": [
      "\r",
      " 20%|████████████████████████████████▊                                                                                                                                     | 33/167 [00:30<02:09,  1.03it/s]"
     ]
    },
    {
     "name": "stdout",
     "output_type": "stream",
     "text": [
      "tensor(0.2655, device='cuda:0')\n",
      "tensor(0.2655, device='cuda:0')\n",
      "tensor([[ 0.2655, -0.3453],\n",
      "        [ 0.2655, -0.3590],\n",
      "        [ 0.2655,  0.0721]], device='cuda:0')\n"
     ]
    },
    {
     "name": "stderr",
     "output_type": "stream",
     "text": [
      "\r",
      " 20%|█████████████████████████████████▊                                                                                                                                    | 34/167 [00:32<02:11,  1.01it/s]"
     ]
    },
    {
     "name": "stdout",
     "output_type": "stream",
     "text": [
      "tensor(0.3979, device='cuda:0')\n",
      "tensor(0.3979, device='cuda:0')\n",
      "tensor([[ 0.3979, -0.3391],\n",
      "        [ 0.3979, -0.3324],\n",
      "        [ 0.3979,  0.1132]], device='cuda:0')\n"
     ]
    },
    {
     "name": "stderr",
     "output_type": "stream",
     "text": [
      "\r",
      " 21%|██████████████████████████████████▊                                                                                                                                   | 35/167 [00:32<02:09,  1.02it/s]"
     ]
    },
    {
     "name": "stdout",
     "output_type": "stream",
     "text": [
      "tensor(0.1137, device='cuda:0')\n",
      "tensor(0.1137, device='cuda:0')\n",
      "tensor([[ 0.1137,  0.1710],\n",
      "        [ 0.1137, -0.0862],\n",
      "        [ 0.1137,  0.1413]], device='cuda:0')\n"
     ]
    },
    {
     "name": "stderr",
     "output_type": "stream",
     "text": [
      "\r",
      " 22%|███████████████████████████████████▊                                                                                                                                  | 36/167 [00:33<02:09,  1.01it/s]"
     ]
    },
    {
     "name": "stdout",
     "output_type": "stream",
     "text": [
      "tensor(-0.2738, device='cuda:0')\n",
      "tensor(-0.2738, device='cuda:0')\n",
      "tensor([[-0.2738,  0.3592],\n",
      "        [-0.2738,  0.1325],\n",
      "        [-0.2738,  0.4317]], device='cuda:0')\n"
     ]
    },
    {
     "name": "stderr",
     "output_type": "stream",
     "text": [
      "\r",
      " 22%|████████████████████████████████████▊                                                                                                                                 | 37/167 [00:35<02:10,  1.00s/it]"
     ]
    },
    {
     "name": "stdout",
     "output_type": "stream",
     "text": [
      "tensor(-0.1491, device='cuda:0')\n",
      "tensor(-0.1491, device='cuda:0')\n",
      "tensor([[-0.1491, -0.1943],\n",
      "        [-0.1491, -0.1892],\n",
      "        [-0.1491,  0.0791]], device='cuda:0')\n"
     ]
    },
    {
     "name": "stderr",
     "output_type": "stream",
     "text": [
      "\r",
      " 23%|█████████████████████████████████████▊                                                                                                                                | 38/167 [00:35<02:07,  1.01it/s]"
     ]
    },
    {
     "name": "stdout",
     "output_type": "stream",
     "text": [
      "tensor(0.2103, device='cuda:0')\n",
      "tensor(0.2103, device='cuda:0')\n",
      "tensor([[ 0.2103,  0.0346],\n",
      "        [ 0.2103, -0.1441],\n",
      "        [ 0.2103, -0.1326]], device='cuda:0')\n"
     ]
    },
    {
     "name": "stderr",
     "output_type": "stream",
     "text": [
      "\r",
      " 23%|██████████████████████████████████████▊                                                                                                                               | 39/167 [00:36<02:06,  1.01it/s]"
     ]
    },
    {
     "name": "stdout",
     "output_type": "stream",
     "text": [
      "tensor(-0.0587, device='cuda:0')\n",
      "tensor(-0.0587, device='cuda:0')\n",
      "tensor([[-0.0587, -0.0158],\n",
      "        [-0.0587, -0.1241],\n",
      "        [-0.0587,  0.0646]], device='cuda:0')\n"
     ]
    },
    {
     "name": "stderr",
     "output_type": "stream",
     "text": [
      "\r",
      " 24%|███████████████████████████████████████▊                                                                                                                              | 40/167 [00:38<02:07,  1.01s/it]"
     ]
    },
    {
     "name": "stdout",
     "output_type": "stream",
     "text": [
      "tensor(-0.2285, device='cuda:0')\n",
      "tensor(-0.2285, device='cuda:0')\n",
      "tensor([[-0.2285, -0.2490],\n",
      "        [-0.2285, -0.2215],\n",
      "        [-0.2285, -0.2281]], device='cuda:0')\n"
     ]
    },
    {
     "name": "stderr",
     "output_type": "stream",
     "text": [
      "\r",
      " 25%|████████████████████████████████████████▊                                                                                                                             | 41/167 [00:38<02:04,  1.01it/s]"
     ]
    },
    {
     "name": "stdout",
     "output_type": "stream",
     "text": [
      "tensor(0.1211, device='cuda:0')\n",
      "tensor(0.1211, device='cuda:0')\n",
      "tensor([[ 0.1211, -0.3889],\n",
      "        [ 0.1211, -0.4582],\n",
      "        [ 0.1211,  0.2374]], device='cuda:0')\n"
     ]
    },
    {
     "name": "stderr",
     "output_type": "stream",
     "text": [
      "\r",
      " 25%|█████████████████████████████████████████▋                                                                                                                            | 42/167 [00:39<02:04,  1.00it/s]"
     ]
    },
    {
     "name": "stdout",
     "output_type": "stream",
     "text": [
      "tensor(-0.0409, device='cuda:0')\n",
      "tensor(-0.0409, device='cuda:0')\n",
      "tensor([[-0.0409, -0.2692],\n",
      "        [-0.0409,  0.4004],\n",
      "        [-0.0409,  0.4199]], device='cuda:0')\n"
     ]
    },
    {
     "name": "stderr",
     "output_type": "stream",
     "text": [
      "\r",
      " 26%|██████████████████████████████████████████▋                                                                                                                           | 43/167 [00:41<02:05,  1.01s/it]"
     ]
    },
    {
     "name": "stdout",
     "output_type": "stream",
     "text": [
      "tensor(-0.1656, device='cuda:0')\n",
      "tensor(-0.1656, device='cuda:0')\n",
      "tensor([[-0.1656, -0.2282],\n",
      "        [-0.1656, -0.1972],\n",
      "        [-0.1656, -0.1787]], device='cuda:0')\n"
     ]
    },
    {
     "name": "stderr",
     "output_type": "stream",
     "text": [
      "\r",
      " 26%|███████████████████████████████████████████▋                                                                                                                          | 44/167 [00:41<01:49,  1.12it/s]"
     ]
    },
    {
     "name": "stdout",
     "output_type": "stream",
     "text": [
      "tensor(0.1090, device='cuda:0')\n",
      "tensor(0.1090, device='cuda:0')\n",
      "tensor([[ 0.1090, -0.0681],\n",
      "        [ 0.1090, -0.1713],\n",
      "        [ 0.1090, -0.3589]], device='cuda:0')\n"
     ]
    },
    {
     "name": "stderr",
     "output_type": "stream",
     "text": [
      "\r",
      " 27%|████████████████████████████████████████████▋                                                                                                                         | 45/167 [00:42<01:37,  1.26it/s]"
     ]
    },
    {
     "name": "stdout",
     "output_type": "stream",
     "text": [
      "tensor(0.1206, device='cuda:0')\n",
      "tensor(0.1206, device='cuda:0')\n",
      "tensor([[ 0.1206,  0.0167],\n",
      "        [ 0.1206, -0.1754],\n",
      "        [ 0.1206, -0.0797]], device='cuda:0')\n"
     ]
    },
    {
     "name": "stderr",
     "output_type": "stream",
     "text": [
      "\r",
      " 28%|█████████████████████████████████████████████▋                                                                                                                        | 46/167 [00:42<01:28,  1.37it/s]"
     ]
    },
    {
     "name": "stdout",
     "output_type": "stream",
     "text": [
      "tensor(-0.3918, device='cuda:0')\n",
      "tensor(-0.3918, device='cuda:0')\n",
      "tensor([[-0.3918,  0.3512],\n",
      "        [-0.3918,  0.3896],\n",
      "        [-0.3918,  0.2701]], device='cuda:0')\n"
     ]
    },
    {
     "name": "stderr",
     "output_type": "stream",
     "text": [
      "\r",
      " 28%|██████████████████████████████████████████████▋                                                                                                                       | 47/167 [00:43<01:36,  1.25it/s]"
     ]
    },
    {
     "name": "stdout",
     "output_type": "stream",
     "text": [
      "tensor(0.4260, device='cuda:0')\n",
      "tensor(0.1759, device='cuda:0')\n",
      "tensor([[ 0.4260,  0.2856],\n",
      "        [ 0.1759, -0.1092],\n",
      "        [ 0.1759, -0.1734]], device='cuda:0')\n"
     ]
    },
    {
     "name": "stderr",
     "output_type": "stream",
     "text": [
      "\r",
      " 29%|███████████████████████████████████████████████▋                                                                                                                      | 48/167 [00:44<01:42,  1.16it/s]"
     ]
    },
    {
     "name": "stdout",
     "output_type": "stream",
     "text": [
      "tensor(0.3501, device='cuda:0')\n",
      "tensor(0.3501, device='cuda:0')\n",
      "tensor([[0.3501, 0.4467],\n",
      "        [0.3501, 0.4393],\n",
      "        [0.3501, 0.4593]], device='cuda:0')\n"
     ]
    },
    {
     "name": "stderr",
     "output_type": "stream",
     "text": [
      "\r",
      " 29%|████████████████████████████████████████████████▋                                                                                                                     | 49/167 [00:45<01:46,  1.11it/s]"
     ]
    },
    {
     "name": "stdout",
     "output_type": "stream",
     "text": [
      "tensor(0.1997, device='cuda:0')\n",
      "tensor(0.1997, device='cuda:0')\n",
      "tensor([[ 0.1997,  0.1965],\n",
      "        [ 0.1997, -0.3563],\n",
      "        [ 0.1997, -0.1447]], device='cuda:0')\n"
     ]
    },
    {
     "name": "stderr",
     "output_type": "stream",
     "text": [
      "\r",
      " 30%|█████████████████████████████████████████████████▋                                                                                                                    | 50/167 [00:46<01:49,  1.06it/s]"
     ]
    },
    {
     "name": "stdout",
     "output_type": "stream",
     "text": [
      "tensor(0.3210, device='cuda:0')\n",
      "tensor(0.3210, device='cuda:0')\n",
      "tensor([[ 0.3210, -0.0440],\n",
      "        [ 0.3210,  0.0440],\n",
      "        [ 0.3210,  0.1058]], device='cuda:0')\n"
     ]
    },
    {
     "name": "stderr",
     "output_type": "stream",
     "text": [
      "\r",
      " 31%|██████████████████████████████████████████████████▋                                                                                                                   | 51/167 [00:47<01:52,  1.03it/s]"
     ]
    },
    {
     "name": "stdout",
     "output_type": "stream",
     "text": [
      "tensor(0.0222, device='cuda:0')\n",
      "tensor(0.0222, device='cuda:0')\n",
      "tensor([[0.0222, 0.0878],\n",
      "        [0.0222, 0.4556],\n",
      "        [0.0222, 0.4223]], device='cuda:0')\n"
     ]
    },
    {
     "name": "stderr",
     "output_type": "stream",
     "text": [
      "\r",
      " 31%|███████████████████████████████████████████████████▋                                                                                                                  | 52/167 [00:48<01:50,  1.04it/s]"
     ]
    },
    {
     "name": "stdout",
     "output_type": "stream",
     "text": [
      "tensor(-0.1669, device='cuda:0')\n",
      "tensor(-0.1669, device='cuda:0')\n",
      "tensor([[-0.1669, -0.2057],\n",
      "        [-0.1669,  0.0995],\n",
      "        [ 0.0422, -0.0126]], device='cuda:0')\n"
     ]
    },
    {
     "name": "stderr",
     "output_type": "stream",
     "text": [
      "\r",
      " 32%|████████████████████████████████████████████████████▋                                                                                                                 | 53/167 [00:49<01:51,  1.03it/s]"
     ]
    },
    {
     "name": "stdout",
     "output_type": "stream",
     "text": [
      "tensor(-0.1613, device='cuda:0')\n",
      "tensor(-0.1613, device='cuda:0')\n",
      "tensor([[-0.1613, -0.0545],\n",
      "        [-0.1613,  0.0391],\n",
      "        [-0.1066, -0.0314]], device='cuda:0')\n"
     ]
    },
    {
     "name": "stderr",
     "output_type": "stream",
     "text": [
      "\r",
      " 32%|█████████████████████████████████████████████████████▋                                                                                                                | 54/167 [00:50<01:52,  1.01it/s]"
     ]
    },
    {
     "name": "stdout",
     "output_type": "stream",
     "text": [
      "tensor(0.3468, device='cuda:0')\n",
      "tensor(0.3468, device='cuda:0')\n",
      "tensor([[ 0.3468,  0.0193],\n",
      "        [ 0.3468, -0.2808],\n",
      "        [ 0.3468, -0.2960]], device='cuda:0')\n"
     ]
    },
    {
     "name": "stderr",
     "output_type": "stream",
     "text": [
      "\r",
      " 33%|██████████████████████████████████████████████████████▋                                                                                                               | 55/167 [00:51<01:49,  1.02it/s]"
     ]
    },
    {
     "name": "stdout",
     "output_type": "stream",
     "text": [
      "tensor(-0.0772, device='cuda:0')\n",
      "tensor(-0.1413, device='cuda:0')\n",
      "tensor([[-0.0772, -0.0254],\n",
      "        [-0.1413,  0.1674],\n",
      "        [-0.1413,  0.1902]], device='cuda:0')\n"
     ]
    },
    {
     "name": "stderr",
     "output_type": "stream",
     "text": [
      "\r",
      " 34%|███████████████████████████████████████████████████████▋                                                                                                              | 56/167 [00:52<01:49,  1.01it/s]"
     ]
    },
    {
     "name": "stdout",
     "output_type": "stream",
     "text": [
      "tensor(0.0259, device='cuda:0')\n",
      "tensor(0.0259, device='cuda:0')\n",
      "tensor([[ 0.0259, -0.0563],\n",
      "        [ 0.0259, -0.0815],\n",
      "        [ 0.0259, -0.4013]], device='cuda:0')\n"
     ]
    },
    {
     "name": "stderr",
     "output_type": "stream",
     "text": [
      "\r",
      " 34%|████████████████████████████████████████████████████████▋                                                                                                             | 57/167 [00:53<01:50,  1.00s/it]"
     ]
    },
    {
     "name": "stdout",
     "output_type": "stream",
     "text": [
      "tensor(-0.3119, device='cuda:0')\n",
      "tensor(-0.3119, device='cuda:0')\n",
      "tensor([[-0.3119,  0.3069],\n",
      "        [-0.3119, -0.2358],\n",
      "        [-0.3119,  0.2255]], device='cuda:0')\n"
     ]
    },
    {
     "name": "stderr",
     "output_type": "stream",
     "text": [
      "\r",
      " 35%|█████████████████████████████████████████████████████████▋                                                                                                            | 58/167 [00:54<01:47,  1.01it/s]"
     ]
    },
    {
     "name": "stdout",
     "output_type": "stream",
     "text": [
      "tensor(0.0679, device='cuda:0')\n",
      "tensor(-0.0694, device='cuda:0')\n",
      "tensor([[ 0.0679, -0.0715],\n",
      "        [-0.0694, -0.0386],\n",
      "        [-0.0694,  0.0787]], device='cuda:0')\n"
     ]
    },
    {
     "name": "stderr",
     "output_type": "stream",
     "text": [
      "\r",
      " 35%|██████████████████████████████████████████████████████████▋                                                                                                           | 59/167 [00:55<01:47,  1.01it/s]"
     ]
    },
    {
     "name": "stdout",
     "output_type": "stream",
     "text": [
      "tensor(0.4654, device='cuda:0')\n",
      "tensor(0.4654, device='cuda:0')\n",
      "tensor([[ 0.4654, -0.3448],\n",
      "        [ 0.4654, -0.3158],\n",
      "        [ 0.4654,  0.4684]], device='cuda:0')\n"
     ]
    },
    {
     "name": "stderr",
     "output_type": "stream",
     "text": [
      "\r",
      " 36%|███████████████████████████████████████████████████████████▋                                                                                                          | 60/167 [00:56<01:47,  1.01s/it]"
     ]
    },
    {
     "name": "stdout",
     "output_type": "stream",
     "text": [
      "tensor(0.1625, device='cuda:0')\n",
      "tensor(-0.0043, device='cuda:0')\n",
      "tensor([[ 0.1625,  0.0550],\n",
      "        [-0.0043, -0.0765],\n",
      "        [ 0.0277, -0.0403]], device='cuda:0')\n"
     ]
    },
    {
     "name": "stderr",
     "output_type": "stream",
     "text": [
      "\r",
      " 37%|████████████████████████████████████████████████████████████▋                                                                                                         | 61/167 [00:57<01:44,  1.01it/s]"
     ]
    },
    {
     "name": "stdout",
     "output_type": "stream",
     "text": [
      "tensor(0.1449, device='cuda:0')\n",
      "tensor(0.1449, device='cuda:0')\n",
      "tensor([[ 0.1449,  0.1218],\n",
      "        [ 0.1449, -0.1322],\n",
      "        [ 0.1449,  0.0089]], device='cuda:0')\n"
     ]
    },
    {
     "name": "stderr",
     "output_type": "stream",
     "text": [
      "\r",
      " 37%|█████████████████████████████████████████████████████████████▋                                                                                                        | 62/167 [00:58<01:31,  1.15it/s]"
     ]
    },
    {
     "name": "stdout",
     "output_type": "stream",
     "text": [
      "tensor(0.0409, device='cuda:0')\n",
      "tensor(0.0409, device='cuda:0')\n",
      "tensor([[ 0.0409, -0.2926],\n",
      "        [ 0.0409, -0.2272],\n",
      "        [ 0.0409,  0.2075]], device='cuda:0')\n"
     ]
    },
    {
     "name": "stderr",
     "output_type": "stream",
     "text": [
      "\r",
      " 38%|██████████████████████████████████████████████████████████████▌                                                                                                       | 63/167 [00:58<01:21,  1.28it/s]"
     ]
    },
    {
     "name": "stdout",
     "output_type": "stream",
     "text": [
      "tensor(-0.1293, device='cuda:0')\n",
      "tensor(-0.1293, device='cuda:0')\n",
      "tensor([[-0.1293,  0.0574],\n",
      "        [-0.1293,  0.0973],\n",
      "        [-0.1089,  0.1847]], device='cuda:0')\n"
     ]
    },
    {
     "name": "stderr",
     "output_type": "stream",
     "text": [
      "\r",
      " 38%|███████████████████████████████████████████████████████████████▌                                                                                                      | 64/167 [00:59<01:18,  1.31it/s]"
     ]
    },
    {
     "name": "stdout",
     "output_type": "stream",
     "text": [
      "tensor(-0.2261, device='cuda:0')\n",
      "tensor(-0.2261, device='cuda:0')\n",
      "tensor([[-0.2261, -0.0976],\n",
      "        [-0.2261,  0.2385],\n",
      "        [-0.2261,  0.3880]], device='cuda:0')\n"
     ]
    },
    {
     "name": "stderr",
     "output_type": "stream",
     "text": [
      "\r",
      " 39%|████████████████████████████████████████████████████████████████▌                                                                                                     | 65/167 [01:00<01:26,  1.19it/s]"
     ]
    },
    {
     "name": "stdout",
     "output_type": "stream",
     "text": [
      "tensor(-0.4283, device='cuda:0')\n",
      "tensor(-0.4283, device='cuda:0')\n",
      "tensor([[-0.4283,  0.0971],\n",
      "        [-0.4283, -0.2255],\n",
      "        [-0.4283, -0.0450]], device='cuda:0')\n"
     ]
    },
    {
     "name": "stderr",
     "output_type": "stream",
     "text": [
      "\r",
      " 40%|█████████████████████████████████████████████████████████████████▌                                                                                                    | 66/167 [01:01<01:30,  1.12it/s]"
     ]
    },
    {
     "name": "stdout",
     "output_type": "stream",
     "text": [
      "tensor(-0.5698, device='cuda:0')\n",
      "tensor(-0.5698, device='cuda:0')\n",
      "tensor([[-0.5698, -0.1642],\n",
      "        [-0.5698, -0.5122],\n",
      "        [-0.5698, -0.3999]], device='cuda:0')\n"
     ]
    },
    {
     "name": "stderr",
     "output_type": "stream",
     "text": [
      "\r",
      " 40%|██████████████████████████████████████████████████████████████████▌                                                                                                   | 67/167 [01:02<01:34,  1.06it/s]"
     ]
    },
    {
     "name": "stdout",
     "output_type": "stream",
     "text": [
      "tensor(-0.4731, device='cuda:0')\n",
      "tensor(-0.4731, device='cuda:0')\n",
      "tensor([[-0.4731,  0.5124],\n",
      "        [-0.4731, -0.0790],\n",
      "        [-0.4868,  0.5124]], device='cuda:0')\n"
     ]
    },
    {
     "name": "stderr",
     "output_type": "stream",
     "text": [
      "\r",
      " 41%|███████████████████████████████████████████████████████████████████▌                                                                                                  | 68/167 [01:03<01:33,  1.06it/s]"
     ]
    },
    {
     "name": "stdout",
     "output_type": "stream",
     "text": [
      "tensor(-0.3024, device='cuda:0')\n",
      "tensor(-0.3024, device='cuda:0')\n",
      "tensor([[-0.3024,  0.0119],\n",
      "        [-0.3024,  0.4784],\n",
      "        [-0.3578,  0.4948]], device='cuda:0')\n"
     ]
    },
    {
     "name": "stderr",
     "output_type": "stream",
     "text": [
      "\r",
      " 41%|████████████████████████████████████████████████████████████████████▌                                                                                                 | 69/167 [01:04<01:34,  1.04it/s]"
     ]
    },
    {
     "name": "stdout",
     "output_type": "stream",
     "text": [
      "tensor(-0.0107, device='cuda:0')\n",
      "tensor(-0.0107, device='cuda:0')\n",
      "tensor([[-0.0107, -0.0642],\n",
      "        [-0.0107, -0.1556],\n",
      "        [-0.1290, -0.2370]], device='cuda:0')\n"
     ]
    },
    {
     "name": "stderr",
     "output_type": "stream",
     "text": [
      "\r",
      " 42%|█████████████████████████████████████████████████████████████████████▌                                                                                                | 70/167 [01:05<01:35,  1.01it/s]"
     ]
    },
    {
     "name": "stdout",
     "output_type": "stream",
     "text": [
      "tensor(-0.1241, device='cuda:0')\n",
      "tensor(-0.1241, device='cuda:0')\n",
      "tensor([[-0.1241, -0.2403],\n",
      "        [-0.1241,  0.3266],\n",
      "        [-0.1241,  0.0471]], device='cuda:0')\n"
     ]
    },
    {
     "name": "stderr",
     "output_type": "stream",
     "text": [
      "\r",
      " 43%|██████████████████████████████████████████████████████████████████████▌                                                                                               | 71/167 [01:06<01:33,  1.02it/s]"
     ]
    },
    {
     "name": "stdout",
     "output_type": "stream",
     "text": [
      "tensor(0.0857, device='cuda:0')\n",
      "tensor(0.0857, device='cuda:0')\n",
      "tensor([[ 0.0857, -0.2546],\n",
      "        [ 0.0857, -0.0619],\n",
      "        [ 0.0857, -0.0560]], device='cuda:0')\n"
     ]
    },
    {
     "name": "stderr",
     "output_type": "stream",
     "text": [
      "\r",
      " 43%|███████████████████████████████████████████████████████████████████████▌                                                                                              | 72/167 [01:07<01:33,  1.01it/s]"
     ]
    },
    {
     "name": "stdout",
     "output_type": "stream",
     "text": [
      "tensor(0.0407, device='cuda:0')\n",
      "tensor(0.0407, device='cuda:0')\n",
      "tensor([[ 0.0407,  0.0318],\n",
      "        [ 0.0407,  0.0214],\n",
      "        [-0.0723, -0.0090]], device='cuda:0')\n"
     ]
    },
    {
     "name": "stderr",
     "output_type": "stream",
     "text": [
      "\r",
      " 44%|████████████████████████████████████████████████████████████████████████▌                                                                                             | 73/167 [01:08<01:34,  1.00s/it]"
     ]
    },
    {
     "name": "stdout",
     "output_type": "stream",
     "text": [
      "tensor(-0.0317, device='cuda:0')\n",
      "tensor(-0.0317, device='cuda:0')\n",
      "tensor([[-0.0317,  0.0991],\n",
      "        [-0.0317, -0.1857],\n",
      "        [-0.0317,  0.1576]], device='cuda:0')\n"
     ]
    },
    {
     "name": "stderr",
     "output_type": "stream",
     "text": [
      "\r",
      " 44%|█████████████████████████████████████████████████████████████████████████▌                                                                                            | 74/167 [01:09<01:31,  1.01it/s]"
     ]
    },
    {
     "name": "stdout",
     "output_type": "stream",
     "text": [
      "tensor(-0.1714, device='cuda:0')\n",
      "tensor(-0.1714, device='cuda:0')\n",
      "tensor([[-0.1714,  0.0432],\n",
      "        [-0.1714,  0.0917],\n",
      "        [-0.1714,  0.2170]], device='cuda:0')\n"
     ]
    },
    {
     "name": "stderr",
     "output_type": "stream",
     "text": [
      "\r",
      " 45%|██████████████████████████████████████████████████████████████████████████▌                                                                                           | 75/167 [01:10<01:31,  1.00it/s]"
     ]
    },
    {
     "name": "stdout",
     "output_type": "stream",
     "text": [
      "tensor(0.0449, device='cuda:0')\n",
      "tensor(-0.0426, device='cuda:0')\n",
      "tensor([[ 0.0449,  0.0848],\n",
      "        [-0.0426, -0.0852],\n",
      "        [-0.0499,  0.1580]], device='cuda:0')\n"
     ]
    },
    {
     "name": "stderr",
     "output_type": "stream",
     "text": [
      "\r",
      " 46%|███████████████████████████████████████████████████████████████████████████▌                                                                                          | 76/167 [01:11<01:31,  1.01s/it]"
     ]
    },
    {
     "name": "stdout",
     "output_type": "stream",
     "text": [
      "tensor(0.1044, device='cuda:0')\n",
      "tensor(0.1044, device='cuda:0')\n",
      "tensor([[ 0.1044, -0.1392],\n",
      "        [ 0.1044,  0.1953],\n",
      "        [ 0.1044,  0.1875]], device='cuda:0')\n"
     ]
    },
    {
     "name": "stderr",
     "output_type": "stream",
     "text": [
      "\r",
      " 46%|████████████████████████████████████████████████████████████████████████████▌                                                                                         | 77/167 [01:12<01:29,  1.01it/s]"
     ]
    },
    {
     "name": "stdout",
     "output_type": "stream",
     "text": [
      "tensor(0.0813, device='cuda:0')\n",
      "tensor(0.0813, device='cuda:0')\n",
      "tensor([[ 0.0813, -0.1433],\n",
      "        [ 0.0813,  0.0088],\n",
      "        [ 0.0148,  0.0115]], device='cuda:0')\n"
     ]
    },
    {
     "name": "stderr",
     "output_type": "stream",
     "text": [
      "\r",
      " 47%|█████████████████████████████████████████████████████████████████████████████▌                                                                                        | 78/167 [01:13<01:28,  1.00it/s]"
     ]
    },
    {
     "name": "stdout",
     "output_type": "stream",
     "text": [
      "tensor(-0.1238, device='cuda:0')\n",
      "tensor(-0.1238, device='cuda:0')\n",
      "tensor([[-0.1238,  0.0715],\n",
      "        [-0.1238, -0.0305],\n",
      "        [-0.0953, -0.0022]], device='cuda:0')\n"
     ]
    },
    {
     "name": "stderr",
     "output_type": "stream",
     "text": [
      "\r",
      " 47%|██████████████████████████████████████████████████████████████████████████████▌                                                                                       | 79/167 [01:14<01:24,  1.05it/s]"
     ]
    },
    {
     "name": "stdout",
     "output_type": "stream",
     "text": [
      "tensor(-0.0133, device='cuda:0')\n",
      "tensor(0.0793, device='cuda:0')\n",
      "tensor([[-0.0133,  0.0793],\n",
      "        [ 0.0793, -0.0209],\n",
      "        [-0.0133,  0.0717]], device='cuda:0')\n"
     ]
    },
    {
     "name": "stderr",
     "output_type": "stream",
     "text": [
      "\r",
      " 48%|███████████████████████████████████████████████████████████████████████████████▌                                                                                      | 80/167 [01:15<01:13,  1.19it/s]"
     ]
    },
    {
     "name": "stdout",
     "output_type": "stream",
     "text": [
      "tensor(-0.0561, device='cuda:0')\n",
      "tensor(-0.0561, device='cuda:0')\n",
      "tensor([[-0.0561, -0.0632],\n",
      "        [-0.0561,  0.0884],\n",
      "        [ 0.1494, -0.0632]], device='cuda:0')\n"
     ]
    },
    {
     "name": "stderr",
     "output_type": "stream",
     "text": [
      "\r",
      " 49%|████████████████████████████████████████████████████████████████████████████████▌                                                                                     | 81/167 [01:15<01:05,  1.30it/s]"
     ]
    },
    {
     "name": "stdout",
     "output_type": "stream",
     "text": [
      "tensor(0.0881, device='cuda:0')\n",
      "tensor(0.0881, device='cuda:0')\n",
      "tensor([[ 0.0881,  0.3646],\n",
      "        [ 0.0881, -0.1693],\n",
      "        [ 0.0881,  0.1075]], device='cuda:0')\n"
     ]
    },
    {
     "name": "stderr",
     "output_type": "stream",
     "text": [
      "\r",
      " 49%|█████████████████████████████████████████████████████████████████████████████████▌                                                                                    | 82/167 [01:16<01:12,  1.18it/s]"
     ]
    },
    {
     "name": "stdout",
     "output_type": "stream",
     "text": [
      "tensor(0.3406, device='cuda:0')\n",
      "tensor(0.3406, device='cuda:0')\n",
      "tensor([[ 0.3406, -0.0763],\n",
      "        [ 0.3406, -0.0169],\n",
      "        [-0.2011,  0.2614]], device='cuda:0')\n"
     ]
    },
    {
     "name": "stderr",
     "output_type": "stream",
     "text": [
      "\r",
      " 50%|██████████████████████████████████████████████████████████████████████████████████▌                                                                                   | 83/167 [01:17<01:13,  1.14it/s]"
     ]
    },
    {
     "name": "stdout",
     "output_type": "stream",
     "text": [
      "tensor(0.0465, device='cuda:0')\n",
      "tensor(0.0642, device='cuda:0')\n",
      "tensor([[ 0.0465, -0.0503],\n",
      "        [ 0.0642,  0.1060],\n",
      "        [ 0.0642, -0.0520]], device='cuda:0')\n"
     ]
    },
    {
     "name": "stderr",
     "output_type": "stream",
     "text": [
      "\r",
      " 50%|███████████████████████████████████████████████████████████████████████████████████▍                                                                                  | 84/167 [01:18<01:16,  1.09it/s]"
     ]
    },
    {
     "name": "stdout",
     "output_type": "stream",
     "text": [
      "tensor(0.0025, device='cuda:0')\n",
      "tensor(0.0025, device='cuda:0')\n",
      "tensor([[ 0.0025, -0.2326],\n",
      "        [ 0.0025,  0.2154],\n",
      "        [ 0.1346, -0.1709]], device='cuda:0')\n"
     ]
    },
    {
     "name": "stderr",
     "output_type": "stream",
     "text": [
      "\r",
      " 51%|████████████████████████████████████████████████████████████████████████████████████▍                                                                                 | 85/167 [01:19<01:18,  1.05it/s]"
     ]
    },
    {
     "name": "stdout",
     "output_type": "stream",
     "text": [
      "tensor(-0.2605, device='cuda:0')\n",
      "tensor(-0.2605, device='cuda:0')\n",
      "tensor([[-0.2605, -0.0350],\n",
      "        [-0.2605, -0.0259],\n",
      "        [ 0.1335, -0.1439]], device='cuda:0')\n"
     ]
    },
    {
     "name": "stderr",
     "output_type": "stream",
     "text": [
      "\r",
      " 51%|█████████████████████████████████████████████████████████████████████████████████████▍                                                                                | 86/167 [01:20<01:17,  1.05it/s]"
     ]
    },
    {
     "name": "stdout",
     "output_type": "stream",
     "text": [
      "tensor(-0.1838, device='cuda:0')\n",
      "tensor(-0.1838, device='cuda:0')\n",
      "tensor([[-0.1838, -0.3430],\n",
      "        [-0.1838,  0.0883],\n",
      "        [-0.1838, -0.1782]], device='cuda:0')\n"
     ]
    },
    {
     "name": "stderr",
     "output_type": "stream",
     "text": [
      "\r",
      " 52%|██████████████████████████████████████████████████████████████████████████████████████▍                                                                               | 87/167 [01:21<01:17,  1.03it/s]"
     ]
    },
    {
     "name": "stdout",
     "output_type": "stream",
     "text": [
      "tensor(-0.1699, device='cuda:0')\n",
      "tensor(-0.1699, device='cuda:0')\n",
      "tensor([[-0.1699, -0.1796],\n",
      "        [-0.1699, -0.2228],\n",
      "        [-0.1796, -0.2228]], device='cuda:0')\n"
     ]
    },
    {
     "name": "stderr",
     "output_type": "stream",
     "text": [
      "\r",
      " 53%|███████████████████████████████████████████████████████████████████████████████████████▍                                                                              | 88/167 [01:22<01:18,  1.01it/s]"
     ]
    },
    {
     "name": "stdout",
     "output_type": "stream",
     "text": [
      "tensor(0.4358, device='cuda:0')\n",
      "tensor(0.4358, device='cuda:0')\n",
      "tensor([[ 0.4358, -0.2479],\n",
      "        [ 0.4358, -0.4968],\n",
      "        [ 0.4358, -0.4464]], device='cuda:0')\n"
     ]
    },
    {
     "name": "stderr",
     "output_type": "stream",
     "text": [
      "\r",
      " 53%|████████████████████████████████████████████████████████████████████████████████████████▍                                                                             | 89/167 [01:23<01:16,  1.02it/s]"
     ]
    },
    {
     "name": "stdout",
     "output_type": "stream",
     "text": [
      "tensor(-0.0643, device='cuda:0')\n",
      "tensor(-0.0643, device='cuda:0')\n",
      "tensor([[-0.0643, -0.4517],\n",
      "        [-0.0643,  0.2718],\n",
      "        [-0.0643, -0.4690]], device='cuda:0')\n"
     ]
    },
    {
     "name": "stderr",
     "output_type": "stream",
     "text": [
      "\r",
      " 54%|█████████████████████████████████████████████████████████████████████████████████████████▍                                                                            | 90/167 [01:24<01:16,  1.01it/s]"
     ]
    },
    {
     "name": "stdout",
     "output_type": "stream",
     "text": [
      "tensor(0.0505, device='cuda:0')\n",
      "tensor(0.0505, device='cuda:0')\n",
      "tensor([[ 0.0505, -0.2508],\n",
      "        [ 0.0505, -0.3771],\n",
      "        [ 0.0505,  0.0864]], device='cuda:0')\n"
     ]
    },
    {
     "name": "stderr",
     "output_type": "stream",
     "text": [
      "\r",
      " 54%|██████████████████████████████████████████████████████████████████████████████████████████▍                                                                           | 91/167 [01:25<01:16,  1.00s/it]"
     ]
    },
    {
     "name": "stdout",
     "output_type": "stream",
     "text": [
      "tensor(-0.2476, device='cuda:0')\n",
      "tensor(-0.2476, device='cuda:0')\n",
      "tensor([[-0.2476,  0.0245],\n",
      "        [-0.2476, -0.1858],\n",
      "        [-0.2476, -0.2803]], device='cuda:0')\n"
     ]
    },
    {
     "name": "stderr",
     "output_type": "stream",
     "text": [
      "\r",
      " 55%|███████████████████████████████████████████████████████████████████████████████████████████▍                                                                          | 92/167 [01:26<01:14,  1.01it/s]"
     ]
    },
    {
     "name": "stdout",
     "output_type": "stream",
     "text": [
      "tensor(0.2789, device='cuda:0')\n",
      "tensor(0.2789, device='cuda:0')\n",
      "tensor([[ 0.2789, -0.2072],\n",
      "        [ 0.2789,  0.1297],\n",
      "        [ 0.2789, -0.0663]], device='cuda:0')\n"
     ]
    },
    {
     "name": "stderr",
     "output_type": "stream",
     "text": [
      "\r",
      " 56%|████████████████████████████████████████████████████████████████████████████████████████████▍                                                                         | 93/167 [01:27<01:13,  1.01it/s]"
     ]
    },
    {
     "name": "stdout",
     "output_type": "stream",
     "text": [
      "tensor(-0.1338, device='cuda:0')\n",
      "tensor(-0.1338, device='cuda:0')\n",
      "tensor([[-0.1338, -0.2547],\n",
      "        [-0.1338, -0.3669],\n",
      "        [-0.1338, -0.3586]], device='cuda:0')\n"
     ]
    },
    {
     "name": "stderr",
     "output_type": "stream",
     "text": [
      "\r",
      " 56%|█████████████████████████████████████████████████████████████████████████████████████████████▍                                                                        | 94/167 [01:28<01:13,  1.01s/it]"
     ]
    },
    {
     "name": "stdout",
     "output_type": "stream",
     "text": [
      "tensor(0.1322, device='cuda:0')\n",
      "tensor(0.1322, device='cuda:0')\n",
      "tensor([[ 0.1322, -0.5304],\n",
      "        [ 0.1322, -0.4584],\n",
      "        [ 0.1322, -0.4605]], device='cuda:0')\n"
     ]
    },
    {
     "name": "stderr",
     "output_type": "stream",
     "text": [
      "\r",
      " 57%|██████████████████████████████████████████████████████████████████████████████████████████████▍                                                                       | 95/167 [01:29<01:11,  1.01it/s]"
     ]
    },
    {
     "name": "stdout",
     "output_type": "stream",
     "text": [
      "tensor(-0.2867, device='cuda:0')\n",
      "tensor(-0.2867, device='cuda:0')\n",
      "tensor([[-0.2867,  0.1792],\n",
      "        [-0.2867, -0.0090],\n",
      "        [ 0.1677, -0.0711]], device='cuda:0')\n"
     ]
    },
    {
     "name": "stderr",
     "output_type": "stream",
     "text": [
      "\r",
      " 57%|███████████████████████████████████████████████████████████████████████████████████████████████▍                                                                      | 96/167 [01:30<01:10,  1.00it/s]"
     ]
    },
    {
     "name": "stdout",
     "output_type": "stream",
     "text": [
      "tensor(-0.1514, device='cuda:0')\n",
      "tensor(-0.1514, device='cuda:0')\n",
      "tensor([[-0.1514, -0.2590],\n",
      "        [-0.1514,  0.1389],\n",
      "        [ 0.2784, -0.2590]], device='cuda:0')\n"
     ]
    },
    {
     "name": "stderr",
     "output_type": "stream",
     "text": [
      "\r",
      " 58%|████████████████████████████████████████████████████████████████████████████████████████████████▍                                                                     | 97/167 [01:31<01:04,  1.08it/s]"
     ]
    },
    {
     "name": "stdout",
     "output_type": "stream",
     "text": [
      "tensor(-0.0888, device='cuda:0')\n",
      "tensor(-0.0888, device='cuda:0')\n",
      "tensor([[-0.0888,  0.1960],\n",
      "        [-0.0888, -0.1464],\n",
      "        [ 0.1779,  0.1412]], device='cuda:0')\n"
     ]
    },
    {
     "name": "stderr",
     "output_type": "stream",
     "text": [
      "\r",
      " 59%|█████████████████████████████████████████████████████████████████████████████████████████████████▍                                                                    | 98/167 [01:32<00:56,  1.22it/s]"
     ]
    },
    {
     "name": "stdout",
     "output_type": "stream",
     "text": [
      "tensor(0.0348, device='cuda:0')\n",
      "tensor(-0.1961, device='cuda:0')\n",
      "tensor([[ 0.0348,  0.1809],\n",
      "        [-0.1961,  0.0743],\n",
      "        [ 0.0406, -0.1162]], device='cuda:0')\n"
     ]
    },
    {
     "name": "stderr",
     "output_type": "stream",
     "text": [
      "\r",
      " 59%|██████████████████████████████████████████████████████████████████████████████████████████████████▍                                                                   | 99/167 [01:32<00:50,  1.34it/s]"
     ]
    },
    {
     "name": "stdout",
     "output_type": "stream",
     "text": [
      "tensor(0.2686, device='cuda:0')\n",
      "tensor(-0.0435, device='cuda:0')\n",
      "tensor([[ 0.2686,  0.1626],\n",
      "        [-0.0435,  0.0413],\n",
      "        [-0.0435,  0.1626]], device='cuda:0')\n"
     ]
    },
    {
     "name": "stderr",
     "output_type": "stream",
     "text": [
      "\r",
      " 60%|██████████████████████████████████████████████████████████████████████████████████████████████████▊                                                                  | 100/167 [01:33<00:54,  1.22it/s]"
     ]
    },
    {
     "name": "stdout",
     "output_type": "stream",
     "text": [
      "tensor(-0.2056, device='cuda:0')\n",
      "tensor(-0.0557, device='cuda:0')\n",
      "tensor([[-0.2056, -0.0557],\n",
      "        [-0.0557,  0.1631],\n",
      "        [-0.1943,  0.1631]], device='cuda:0')\n"
     ]
    },
    {
     "name": "stderr",
     "output_type": "stream",
     "text": [
      "\r",
      " 60%|███████████████████████████████████████████████████████████████████████████████████████████████████▊                                                                 | 101/167 [01:34<00:58,  1.13it/s]"
     ]
    },
    {
     "name": "stdout",
     "output_type": "stream",
     "text": [
      "tensor(0.0631, device='cuda:0')\n",
      "tensor(-0.0286, device='cuda:0')\n",
      "tensor([[ 0.0631, -0.0004],\n",
      "        [-0.0286,  0.0310],\n",
      "        [-0.0286, -0.0059]], device='cuda:0')\n"
     ]
    },
    {
     "name": "stderr",
     "output_type": "stream",
     "text": [
      "\r",
      " 61%|████████████████████████████████████████████████████████████████████████████████████████████████████▊                                                                | 102/167 [01:35<00:58,  1.10it/s]"
     ]
    },
    {
     "name": "stdout",
     "output_type": "stream",
     "text": [
      "tensor(0.1152, device='cuda:0')\n",
      "tensor(0.1152, device='cuda:0')\n",
      "tensor([[ 0.1152, -0.0685],\n",
      "        [ 0.1152, -0.0218],\n",
      "        [ 0.1152,  0.1920]], device='cuda:0')\n"
     ]
    },
    {
     "name": "stderr",
     "output_type": "stream",
     "text": [
      "\r",
      " 62%|█████████████████████████████████████████████████████████████████████████████████████████████████████▊                                                               | 103/167 [01:36<00:59,  1.07it/s]"
     ]
    },
    {
     "name": "stdout",
     "output_type": "stream",
     "text": [
      "tensor(-0.3123, device='cuda:0')\n",
      "tensor(-0.3123, device='cuda:0')\n",
      "tensor([[-0.3123, -0.2974],\n",
      "        [-0.3123, -0.0969],\n",
      "        [-0.2141,  0.2925]], device='cuda:0')\n"
     ]
    },
    {
     "name": "stderr",
     "output_type": "stream",
     "text": [
      "\r",
      " 62%|██████████████████████████████████████████████████████████████████████████████████████████████████████▊                                                              | 104/167 [01:37<01:00,  1.03it/s]"
     ]
    },
    {
     "name": "stdout",
     "output_type": "stream",
     "text": [
      "tensor(-0.0322, device='cuda:0')\n",
      "tensor(-0.1182, device='cuda:0')\n",
      "tensor([[-0.0322,  0.0349],\n",
      "        [-0.1182,  0.0071],\n",
      "        [-0.1182,  0.0204]], device='cuda:0')\n"
     ]
    },
    {
     "name": "stderr",
     "output_type": "stream",
     "text": [
      "\r",
      " 63%|███████████████████████████████████████████████████████████████████████████████████████████████████████▋                                                             | 105/167 [01:38<00:59,  1.04it/s]"
     ]
    },
    {
     "name": "stdout",
     "output_type": "stream",
     "text": [
      "tensor(-0.0243, device='cuda:0')\n",
      "tensor(-0.0952, device='cuda:0')\n",
      "tensor([[-0.0243,  0.0276],\n",
      "        [-0.0952,  0.0950],\n",
      "        [-0.0952, -0.0271]], device='cuda:0')\n"
     ]
    },
    {
     "name": "stderr",
     "output_type": "stream",
     "text": [
      "\r",
      " 63%|████████████████████████████████████████████████████████████████████████████████████████████████████████▋                                                            | 106/167 [01:39<00:59,  1.03it/s]"
     ]
    },
    {
     "name": "stdout",
     "output_type": "stream",
     "text": [
      "tensor(-0.1617, device='cuda:0')\n",
      "tensor(-0.1617, device='cuda:0')\n",
      "tensor([[-0.1617, -0.2382],\n",
      "        [-0.1617,  0.0146],\n",
      "        [-0.1617, -0.0408]], device='cuda:0')\n"
     ]
    },
    {
     "name": "stderr",
     "output_type": "stream",
     "text": [
      "\r",
      " 64%|█████████████████████████████████████████████████████████████████████████████████████████████████████████▋                                                           | 107/167 [01:40<00:59,  1.01it/s]"
     ]
    },
    {
     "name": "stdout",
     "output_type": "stream",
     "text": [
      "tensor(-0.0437, device='cuda:0')\n",
      "tensor(-0.1131, device='cuda:0')\n",
      "tensor([[-0.0437, -0.1603],\n",
      "        [-0.1131, -0.0884],\n",
      "        [-0.0884, -0.3131]], device='cuda:0')\n"
     ]
    },
    {
     "name": "stderr",
     "output_type": "stream",
     "text": [
      "\r",
      " 65%|██████████████████████████████████████████████████████████████████████████████████████████████████████████▋                                                          | 108/167 [01:41<00:57,  1.02it/s]"
     ]
    },
    {
     "name": "stdout",
     "output_type": "stream",
     "text": [
      "tensor(-0.2982, device='cuda:0')\n",
      "tensor(-0.2982, device='cuda:0')\n",
      "tensor([[-0.2982, -0.0117],\n",
      "        [-0.2982, -0.1391],\n",
      "        [-0.1014,  0.4191]], device='cuda:0')\n"
     ]
    },
    {
     "name": "stderr",
     "output_type": "stream",
     "text": [
      "\r",
      " 65%|███████████████████████████████████████████████████████████████████████████████████████████████████████████▋                                                         | 109/167 [01:42<00:57,  1.01it/s]"
     ]
    },
    {
     "name": "stdout",
     "output_type": "stream",
     "text": [
      "tensor(-0.0324, device='cuda:0')\n",
      "tensor(-0.0324, device='cuda:0')\n",
      "tensor([[-0.0324, -0.0376],\n",
      "        [-0.0324, -0.0514],\n",
      "        [-0.0566,  0.0191]], device='cuda:0')\n"
     ]
    },
    {
     "name": "stderr",
     "output_type": "stream",
     "text": [
      "\r",
      " 66%|████████████████████████████████████████████████████████████████████████████████████████████████████████████▋                                                        | 110/167 [01:43<00:57,  1.01s/it]"
     ]
    },
    {
     "name": "stdout",
     "output_type": "stream",
     "text": [
      "tensor(-0.3153, device='cuda:0')\n",
      "tensor(-0.3153, device='cuda:0')\n",
      "tensor([[-0.3153, -0.1247],\n",
      "        [-0.3153,  0.1348],\n",
      "        [-0.3153,  0.2886]], device='cuda:0')\n"
     ]
    },
    {
     "name": "stderr",
     "output_type": "stream",
     "text": [
      "\r",
      " 66%|█████████████████████████████████████████████████████████████████████████████████████████████████████████████▋                                                       | 111/167 [01:44<00:55,  1.01it/s]"
     ]
    },
    {
     "name": "stdout",
     "output_type": "stream",
     "text": [
      "tensor(-0.0243, device='cuda:0')\n",
      "tensor(0.0569, device='cuda:0')\n",
      "tensor([[-0.0243, -0.0015],\n",
      "        [ 0.0569,  0.0534],\n",
      "        [ 0.0569,  0.0303]], device='cuda:0')\n"
     ]
    },
    {
     "name": "stderr",
     "output_type": "stream",
     "text": [
      "\r",
      " 67%|██████████████████████████████████████████████████████████████████████████████████████████████████████████████▋                                                      | 112/167 [01:45<00:54,  1.01it/s]"
     ]
    },
    {
     "name": "stdout",
     "output_type": "stream",
     "text": [
      "tensor(-0.3000, device='cuda:0')\n",
      "tensor(-0.3000, device='cuda:0')\n",
      "tensor([[-0.3000, -0.4184],\n",
      "        [-0.3000,  0.0200],\n",
      "        [ 0.2647, -0.0587]], device='cuda:0')\n"
     ]
    },
    {
     "name": "stderr",
     "output_type": "stream",
     "text": [
      "\r",
      " 68%|███████████████████████████████████████████████████████████████████████████████████████████████████████████████▋                                                     | 113/167 [01:46<00:54,  1.01s/it]"
     ]
    },
    {
     "name": "stdout",
     "output_type": "stream",
     "text": [
      "tensor(0.1925, device='cuda:0')\n",
      "tensor(-0.0632, device='cuda:0')\n",
      "tensor([[ 0.1925,  0.1403],\n",
      "        [-0.0632,  0.0615],\n",
      "        [-0.0632,  0.2661]], device='cuda:0')\n"
     ]
    },
    {
     "name": "stderr",
     "output_type": "stream",
     "text": [
      "\r",
      " 68%|████████████████████████████████████████████████████████████████████████████████████████████████████████████████▋                                                    | 114/167 [01:47<00:52,  1.01it/s]"
     ]
    },
    {
     "name": "stdout",
     "output_type": "stream",
     "text": [
      "tensor(0.1145, device='cuda:0')\n",
      "tensor(0.1145, device='cuda:0')\n",
      "tensor([[ 0.1145, -0.0146],\n",
      "        [ 0.1145, -0.0893],\n",
      "        [ 0.2488, -0.0603]], device='cuda:0')\n"
     ]
    },
    {
     "name": "stderr",
     "output_type": "stream",
     "text": [
      "\r",
      " 69%|█████████████████████████████████████████████████████████████████████████████████████████████████████████████████▌                                                   | 115/167 [01:48<00:49,  1.04it/s]"
     ]
    },
    {
     "name": "stdout",
     "output_type": "stream",
     "text": [
      "tensor(-0.0302, device='cuda:0')\n",
      "tensor(-0.1216, device='cuda:0')\n",
      "tensor([[-0.0302, -0.0047],\n",
      "        [-0.1216,  0.1002],\n",
      "        [-0.1216,  0.0153]], device='cuda:0')\n"
     ]
    },
    {
     "name": "stderr",
     "output_type": "stream",
     "text": [
      "\r",
      " 69%|██████████████████████████████████████████████████████████████████████████████████████████████████████████████████▌                                                  | 116/167 [01:49<00:43,  1.18it/s]"
     ]
    },
    {
     "name": "stdout",
     "output_type": "stream",
     "text": [
      "tensor(-0.1220, device='cuda:0')\n",
      "tensor(-0.1220, device='cuda:0')\n",
      "tensor([[-0.1220,  0.1651],\n",
      "        [-0.1220, -0.0777],\n",
      "        [ 0.1787, -0.0288]], device='cuda:0')\n"
     ]
    },
    {
     "name": "stderr",
     "output_type": "stream",
     "text": [
      "\r",
      " 70%|███████████████████████████████████████████████████████████████████████████████████████████████████████████████████▌                                                 | 117/167 [01:49<00:38,  1.28it/s]"
     ]
    },
    {
     "name": "stdout",
     "output_type": "stream",
     "text": [
      "tensor(0.0399, device='cuda:0')\n",
      "tensor(0.0399, device='cuda:0')\n",
      "tensor([[ 0.0399, -0.0780],\n",
      "        [ 0.0399,  0.0247],\n",
      "        [ 0.0399, -0.0656]], device='cuda:0')\n"
     ]
    },
    {
     "name": "stderr",
     "output_type": "stream",
     "text": [
      "\r",
      " 71%|████████████████████████████████████████████████████████████████████████████████████████████████████████████████████▌                                                | 118/167 [01:50<00:36,  1.33it/s]"
     ]
    },
    {
     "name": "stdout",
     "output_type": "stream",
     "text": [
      "tensor(0.0186, device='cuda:0')\n",
      "tensor(0.0186, device='cuda:0')\n",
      "tensor([[ 0.0186,  0.1064],\n",
      "        [ 0.0186, -0.0617],\n",
      "        [ 0.0186, -0.1316]], device='cuda:0')\n"
     ]
    },
    {
     "name": "stderr",
     "output_type": "stream",
     "text": [
      "\r",
      " 71%|█████████████████████████████████████████████████████████████████████████████████████████████████████████████████████▌                                               | 119/167 [01:51<00:40,  1.19it/s]"
     ]
    },
    {
     "name": "stdout",
     "output_type": "stream",
     "text": [
      "tensor(-0.0838, device='cuda:0')\n",
      "tensor(-0.0862, device='cuda:0')\n",
      "tensor([[-0.0838,  0.0410],\n",
      "        [-0.0862,  0.0410],\n",
      "        [ 0.1476,  0.0410]], device='cuda:0')\n"
     ]
    },
    {
     "name": "stderr",
     "output_type": "stream",
     "text": [
      "\r",
      " 72%|██████████████████████████████████████████████████████████████████████████████████████████████████████████████████████▌                                              | 120/167 [01:52<00:40,  1.15it/s]"
     ]
    },
    {
     "name": "stdout",
     "output_type": "stream",
     "text": [
      "tensor(0.2008, device='cuda:0')\n",
      "tensor(0.2008, device='cuda:0')\n",
      "tensor([[ 0.2008, -0.1580],\n",
      "        [ 0.2008,  0.1260],\n",
      "        [ 0.2966, -0.0156]], device='cuda:0')\n"
     ]
    },
    {
     "name": "stderr",
     "output_type": "stream",
     "text": [
      "\r",
      " 72%|███████████████████████████████████████████████████████████████████████████████████████████████████████████████████████▌                                             | 121/167 [01:53<00:41,  1.10it/s]"
     ]
    },
    {
     "name": "stdout",
     "output_type": "stream",
     "text": [
      "tensor(-0.1910, device='cuda:0')\n",
      "tensor(-0.2737, device='cuda:0')\n",
      "tensor([[-0.1910, -0.0946],\n",
      "        [-0.2737,  0.2096],\n",
      "        [-0.2737,  0.0034]], device='cuda:0')\n"
     ]
    },
    {
     "name": "stderr",
     "output_type": "stream",
     "text": [
      "\r",
      " 73%|████████████████████████████████████████████████████████████████████████████████████████████████████████████████████████▌                                            | 122/167 [01:54<00:42,  1.05it/s]"
     ]
    },
    {
     "name": "stdout",
     "output_type": "stream",
     "text": [
      "tensor(0.1588, device='cuda:0')\n",
      "tensor(0.1588, device='cuda:0')\n",
      "tensor([[ 0.1588,  0.1048],\n",
      "        [ 0.1588,  0.1986],\n",
      "        [ 0.1588, -0.0981]], device='cuda:0')\n"
     ]
    },
    {
     "name": "stderr",
     "output_type": "stream",
     "text": [
      "\r",
      " 74%|█████████████████████████████████████████████████████████████████████████████████████████████████████████████████████████▌                                           | 123/167 [01:55<00:41,  1.05it/s]"
     ]
    },
    {
     "name": "stdout",
     "output_type": "stream",
     "text": [
      "tensor(-0.2961, device='cuda:0')\n",
      "tensor(-0.2961, device='cuda:0')\n",
      "tensor([[-0.2961, -0.0359],\n",
      "        [-0.2961,  0.3416],\n",
      "        [-0.2961, -0.1901]], device='cuda:0')\n"
     ]
    },
    {
     "name": "stderr",
     "output_type": "stream",
     "text": [
      "\r",
      " 74%|██████████████████████████████████████████████████████████████████████████████████████████████████████████████████████████▌                                          | 124/167 [01:56<00:41,  1.04it/s]"
     ]
    },
    {
     "name": "stdout",
     "output_type": "stream",
     "text": [
      "tensor(-0.3838, device='cuda:0')\n",
      "tensor(-0.3838, device='cuda:0')\n",
      "tensor([[-0.3838,  0.1329],\n",
      "        [-0.3838,  0.4210],\n",
      "        [-0.3838,  0.1504]], device='cuda:0')\n"
     ]
    },
    {
     "name": "stderr",
     "output_type": "stream",
     "text": [
      "\r",
      " 75%|███████████████████████████████████████████████████████████████████████████████████████████████████████████████████████████▌                                         | 125/167 [01:57<00:41,  1.01it/s]"
     ]
    },
    {
     "name": "stdout",
     "output_type": "stream",
     "text": [
      "tensor(-0.0152, device='cuda:0')\n",
      "tensor(-0.0152, device='cuda:0')\n",
      "tensor([[-0.0152, -0.2718],\n",
      "        [-0.0152, -0.3743],\n",
      "        [-0.0152,  0.2849]], device='cuda:0')\n"
     ]
    },
    {
     "name": "stderr",
     "output_type": "stream",
     "text": [
      "\r",
      " 75%|████████████████████████████████████████████████████████████████████████████████████████████████████████████████████████████▍                                        | 126/167 [01:58<00:39,  1.03it/s]"
     ]
    },
    {
     "name": "stdout",
     "output_type": "stream",
     "text": [
      "tensor(0.0084, device='cuda:0')\n",
      "tensor(-0.2832, device='cuda:0')\n",
      "tensor([[ 0.0084,  0.3991],\n",
      "        [-0.2832,  0.0621],\n",
      "        [-0.2832,  0.1269]], device='cuda:0')\n"
     ]
    },
    {
     "name": "stderr",
     "output_type": "stream",
     "text": [
      "\r",
      " 76%|█████████████████████████████████████████████████████████████████████████████████████████████████████████████████████████████▍                                       | 127/167 [01:59<00:39,  1.01it/s]"
     ]
    },
    {
     "name": "stdout",
     "output_type": "stream",
     "text": [
      "tensor(0.0968, device='cuda:0')\n",
      "tensor(0.0968, device='cuda:0')\n",
      "tensor([[ 0.0968, -0.1035],\n",
      "        [ 0.0968, -0.1170],\n",
      "        [ 0.1747, -0.1672]], device='cuda:0')\n"
     ]
    },
    {
     "name": "stderr",
     "output_type": "stream",
     "text": [
      "\r",
      " 77%|██████████████████████████████████████████████████████████████████████████████████████████████████████████████████████████████▍                                      | 128/167 [02:00<00:39,  1.00s/it]"
     ]
    },
    {
     "name": "stdout",
     "output_type": "stream",
     "text": [
      "tensor(0.1316, device='cuda:0')\n",
      "tensor(0.1316, device='cuda:0')\n",
      "tensor([[0.1316, 0.2119],\n",
      "        [0.1316, 0.3100],\n",
      "        [0.1316, 0.2906]], device='cuda:0')\n"
     ]
    },
    {
     "name": "stderr",
     "output_type": "stream",
     "text": [
      "\r",
      " 77%|███████████████████████████████████████████████████████████████████████████████████████████████████████████████████████████████▍                                     | 129/167 [02:01<00:37,  1.01it/s]"
     ]
    },
    {
     "name": "stdout",
     "output_type": "stream",
     "text": [
      "tensor(-0.2838, device='cuda:0')\n",
      "tensor(-0.2838, device='cuda:0')\n",
      "tensor([[-0.2838,  0.0413],\n",
      "        [-0.2838, -0.0762],\n",
      "        [-0.2838,  0.2494]], device='cuda:0')\n"
     ]
    },
    {
     "name": "stderr",
     "output_type": "stream",
     "text": [
      "\r",
      " 78%|████████████████████████████████████████████████████████████████████████████████████████████████████████████████████████████████▍                                    | 130/167 [02:02<00:36,  1.01it/s]"
     ]
    },
    {
     "name": "stdout",
     "output_type": "stream",
     "text": [
      "tensor(-0.1487, device='cuda:0')\n",
      "tensor(0.1127, device='cuda:0')\n",
      "tensor([[-0.1487, -0.1409],\n",
      "        [ 0.1127,  0.1356],\n",
      "        [ 0.1127,  0.1546]], device='cuda:0')\n"
     ]
    },
    {
     "name": "stderr",
     "output_type": "stream",
     "text": [
      "\r",
      " 78%|█████████████████████████████████████████████████████████████████████████████████████████████████████████████████████████████████▍                                   | 131/167 [02:03<00:36,  1.01s/it]"
     ]
    },
    {
     "name": "stdout",
     "output_type": "stream",
     "text": [
      "tensor(-0.0717, device='cuda:0')\n",
      "tensor(-0.0717, device='cuda:0')\n",
      "tensor([[-0.0717,  0.0386],\n",
      "        [-0.0717, -0.0269],\n",
      "        [-0.0717, -0.0829]], device='cuda:0')\n"
     ]
    },
    {
     "name": "stderr",
     "output_type": "stream",
     "text": [
      "\r",
      " 79%|██████████████████████████████████████████████████████████████████████████████████████████████████████████████████████████████████▍                                  | 132/167 [02:04<00:34,  1.01it/s]"
     ]
    },
    {
     "name": "stdout",
     "output_type": "stream",
     "text": [
      "tensor(-0.0847, device='cuda:0')\n",
      "tensor(-0.0847, device='cuda:0')\n",
      "tensor([[-0.0847,  0.1739],\n",
      "        [-0.0847,  0.0178],\n",
      "        [-0.0824,  0.0002]], device='cuda:0')\n"
     ]
    },
    {
     "name": "stderr",
     "output_type": "stream",
     "text": [
      "\r",
      " 80%|███████████████████████████████████████████████████████████████████████████████████████████████████████████████████████████████████▍                                 | 133/167 [02:05<00:32,  1.03it/s]"
     ]
    },
    {
     "name": "stdout",
     "output_type": "stream",
     "text": [
      "tensor(-0.1360, device='cuda:0')\n",
      "tensor(-0.1543, device='cuda:0')\n",
      "tensor([[-0.1360, -0.1283],\n",
      "        [-0.1543,  0.0527],\n",
      "        [ 0.0527, -0.2378]], device='cuda:0')\n"
     ]
    },
    {
     "name": "stderr",
     "output_type": "stream",
     "text": [
      "\r",
      " 80%|████████████████████████████████████████████████████████████████████████████████████████████████████████████████████████████████████▍                                | 134/167 [02:05<00:27,  1.18it/s]"
     ]
    },
    {
     "name": "stdout",
     "output_type": "stream",
     "text": [
      "tensor(0.0181, device='cuda:0')\n",
      "tensor(0.0181, device='cuda:0')\n",
      "tensor([[ 0.0181, -0.2250],\n",
      "        [ 0.0181,  0.1897],\n",
      "        [ 0.0181, -0.1670]], device='cuda:0')\n"
     ]
    },
    {
     "name": "stderr",
     "output_type": "stream",
     "text": [
      "\r",
      " 81%|█████████████████████████████████████████████████████████████████████████████████████████████████████████████████████████████████████▍                               | 135/167 [02:06<00:24,  1.31it/s]"
     ]
    },
    {
     "name": "stdout",
     "output_type": "stream",
     "text": [
      "tensor(-0.0807, device='cuda:0')\n",
      "tensor(0.0832, device='cuda:0')\n",
      "tensor([[-0.0807,  0.0596],\n",
      "        [ 0.0832,  0.0732],\n",
      "        [ 0.0832,  0.0596]], device='cuda:0')\n"
     ]
    },
    {
     "name": "stderr",
     "output_type": "stream",
     "text": [
      "\r",
      " 81%|██████████████████████████████████████████████████████████████████████████████████████████████████████████████████████████████████████▎                              | 136/167 [02:07<00:24,  1.24it/s]"
     ]
    },
    {
     "name": "stdout",
     "output_type": "stream",
     "text": [
      "tensor(-0.1788, device='cuda:0')\n",
      "tensor(-0.1788, device='cuda:0')\n",
      "tensor([[-0.1788, -0.1513],\n",
      "        [-0.1788, -0.2844],\n",
      "        [ 0.1437,  0.2714]], device='cuda:0')\n"
     ]
    },
    {
     "name": "stderr",
     "output_type": "stream",
     "text": [
      "\r",
      " 82%|███████████████████████████████████████████████████████████████████████████████████████████████████████████████████████████████████████▎                             | 137/167 [02:08<00:26,  1.15it/s]"
     ]
    },
    {
     "name": "stdout",
     "output_type": "stream",
     "text": [
      "tensor(0.2259, device='cuda:0')\n",
      "tensor(-0.0807, device='cuda:0')\n",
      "tensor([[ 0.2259, -0.2148],\n",
      "        [-0.0807,  0.5063],\n",
      "        [-0.0807, -0.0993]], device='cuda:0')\n"
     ]
    },
    {
     "name": "stderr",
     "output_type": "stream",
     "text": [
      "\r",
      " 83%|████████████████████████████████████████████████████████████████████████████████████████████████████████████████████████████████████████▎                            | 138/167 [02:09<00:26,  1.08it/s]"
     ]
    },
    {
     "name": "stdout",
     "output_type": "stream",
     "text": [
      "tensor(0.0255, device='cuda:0')\n",
      "tensor(0.0255, device='cuda:0')\n",
      "tensor([[ 0.0255,  0.2352],\n",
      "        [ 0.0255, -0.1323],\n",
      "        [ 0.2352,  0.1708]], device='cuda:0')\n"
     ]
    },
    {
     "name": "stderr",
     "output_type": "stream",
     "text": [
      "\r",
      " 83%|█████████████████████████████████████████████████████████████████████████████████████████████████████████████████████████████████████████▎                           | 139/167 [02:10<00:26,  1.08it/s]"
     ]
    },
    {
     "name": "stdout",
     "output_type": "stream",
     "text": [
      "tensor(0.1458, device='cuda:0')\n",
      "tensor(0.1458, device='cuda:0')\n",
      "tensor([[ 0.1458, -0.0469],\n",
      "        [ 0.1458, -0.0277],\n",
      "        [ 0.1426, -0.1620]], device='cuda:0')\n"
     ]
    },
    {
     "name": "stderr",
     "output_type": "stream",
     "text": [
      "\r",
      " 84%|██████████████████████████████████████████████████████████████████████████████████████████████████████████████████████████████████████████▎                          | 140/167 [02:11<00:25,  1.05it/s]"
     ]
    },
    {
     "name": "stdout",
     "output_type": "stream",
     "text": [
      "tensor(-0.4168, device='cuda:0')\n",
      "tensor(-0.1092, device='cuda:0')\n",
      "tensor([[-0.4168, -0.0737],\n",
      "        [-0.1092,  0.0051],\n",
      "        [-0.1092,  0.5125]], device='cuda:0')\n"
     ]
    },
    {
     "name": "stderr",
     "output_type": "stream",
     "text": [
      "\r",
      " 84%|███████████████████████████████████████████████████████████████████████████████████████████████████████████████████████████████████████████▎                         | 141/167 [02:12<00:25,  1.02it/s]"
     ]
    },
    {
     "name": "stdout",
     "output_type": "stream",
     "text": [
      "tensor(0.3917, device='cuda:0')\n",
      "tensor(0.1856, device='cuda:0')\n",
      "tensor([[ 0.3917,  0.1856],\n",
      "        [ 0.1856,  0.4855],\n",
      "        [ 0.1856, -0.0632]], device='cuda:0')\n"
     ]
    },
    {
     "name": "stderr",
     "output_type": "stream",
     "text": [
      "\r",
      " 85%|████████████████████████████████████████████████████████████████████████████████████████████████████████████████████████████████████████████▎                        | 142/167 [02:13<00:24,  1.03it/s]"
     ]
    },
    {
     "name": "stdout",
     "output_type": "stream",
     "text": [
      "tensor(-0.2324, device='cuda:0')\n",
      "tensor(-0.2324, device='cuda:0')\n",
      "tensor([[-0.2324,  0.1227],\n",
      "        [-0.2324, -0.1196],\n",
      "        [ 0.0374,  0.0759]], device='cuda:0')\n"
     ]
    },
    {
     "name": "stderr",
     "output_type": "stream",
     "text": [
      "\r",
      " 86%|█████████████████████████████████████████████████████████████████████████████████████████████████████████████████████████████████████████████▎                       | 143/167 [02:14<00:23,  1.02it/s]"
     ]
    },
    {
     "name": "stdout",
     "output_type": "stream",
     "text": [
      "tensor(0.6266, device='cuda:0')\n",
      "tensor(0.6266, device='cuda:0')\n",
      "tensor([[ 0.6266,  0.5001],\n",
      "        [ 0.6266, -0.4768],\n",
      "        [-0.4412, -0.3000]], device='cuda:0')\n"
     ]
    },
    {
     "name": "stderr",
     "output_type": "stream",
     "text": [
      "\r",
      " 86%|██████████████████████████████████████████████████████████████████████████████████████████████████████████████████████████████████████████████▎                      | 144/167 [02:15<00:22,  1.00it/s]"
     ]
    },
    {
     "name": "stdout",
     "output_type": "stream",
     "text": [
      "tensor(0.3051, device='cuda:0')\n",
      "tensor(0.3051, device='cuda:0')\n",
      "tensor([[ 0.3051, -0.2373],\n",
      "        [ 0.3051, -0.1840],\n",
      "        [ 0.2949, -0.1143]], device='cuda:0')\n"
     ]
    },
    {
     "name": "stderr",
     "output_type": "stream",
     "text": [
      "\r",
      " 87%|███████████████████████████████████████████████████████████████████████████████████████████████████████████████████████████████████████████████▎                     | 145/167 [02:16<00:21,  1.02it/s]"
     ]
    },
    {
     "name": "stdout",
     "output_type": "stream",
     "text": [
      "tensor(0.0658, device='cuda:0')\n",
      "tensor(0.0658, device='cuda:0')\n",
      "tensor([[ 0.0658,  0.1062],\n",
      "        [ 0.0658, -0.1551],\n",
      "        [-0.1974, -0.1886]], device='cuda:0')\n"
     ]
    },
    {
     "name": "stderr",
     "output_type": "stream",
     "text": [
      "\r",
      " 87%|████████████████████████████████████████████████████████████████████████████████████████████████████████████████████████████████████████████████▎                    | 146/167 [02:17<00:20,  1.01it/s]"
     ]
    },
    {
     "name": "stdout",
     "output_type": "stream",
     "text": [
      "tensor(0.1162, device='cuda:0')\n",
      "tensor(0.1162, device='cuda:0')\n",
      "tensor([[ 0.1162, -0.0423],\n",
      "        [ 0.1162,  0.0172],\n",
      "        [-0.0370,  0.0378]], device='cuda:0')\n"
     ]
    },
    {
     "name": "stderr",
     "output_type": "stream",
     "text": [
      "\r",
      " 88%|█████████████████████████████████████████████████████████████████████████████████████████████████████████████████████████████████████████████████▏                   | 147/167 [02:18<00:20,  1.01s/it]"
     ]
    },
    {
     "name": "stdout",
     "output_type": "stream",
     "text": [
      "tensor(-0.3183, device='cuda:0')\n",
      "tensor(-0.3183, device='cuda:0')\n",
      "tensor([[-0.3183, -0.2841],\n",
      "        [-0.3183, -0.1870],\n",
      "        [-0.3183, -0.3062]], device='cuda:0')\n"
     ]
    },
    {
     "name": "stderr",
     "output_type": "stream",
     "text": [
      "\r",
      " 89%|██████████████████████████████████████████████████████████████████████████████████████████████████████████████████████████████████████████████████▏                  | 148/167 [02:19<00:18,  1.01it/s]"
     ]
    },
    {
     "name": "stdout",
     "output_type": "stream",
     "text": [
      "tensor(0.1216, device='cuda:0')\n",
      "tensor(0.1216, device='cuda:0')\n",
      "tensor([[ 0.1216, -0.1676],\n",
      "        [ 0.1216, -0.2006],\n",
      "        [-0.1676, -0.2006]], device='cuda:0')\n"
     ]
    },
    {
     "name": "stderr",
     "output_type": "stream",
     "text": [
      "\r",
      " 89%|███████████████████████████████████████████████████████████████████████████████████████████████████████████████████████████████████████████████████▏                 | 149/167 [02:20<00:17,  1.01it/s]"
     ]
    },
    {
     "name": "stdout",
     "output_type": "stream",
     "text": [
      "tensor(0.0919, device='cuda:0')\n",
      "tensor(0.0919, device='cuda:0')\n",
      "tensor([[ 0.0919,  0.1148],\n",
      "        [ 0.0919,  0.2122],\n",
      "        [ 0.0994, -0.0310]], device='cuda:0')\n"
     ]
    },
    {
     "name": "stderr",
     "output_type": "stream",
     "text": [
      "\r",
      " 90%|████████████████████████████████████████████████████████████████████████████████████████████████████████████████████████████████████████████████████▏                | 150/167 [02:21<00:17,  1.01s/it]"
     ]
    },
    {
     "name": "stdout",
     "output_type": "stream",
     "text": [
      "tensor(0.3136, device='cuda:0')\n",
      "tensor(0.3136, device='cuda:0')\n",
      "tensor([[ 0.3136, -0.3359],\n",
      "        [ 0.3136, -0.0966],\n",
      "        [ 0.3136,  0.0976]], device='cuda:0')\n"
     ]
    },
    {
     "name": "stderr",
     "output_type": "stream",
     "text": [
      "\r",
      " 90%|█████████████████████████████████████████████████████████████████████████████████████████████████████████████████████████████████████████████████████▏               | 151/167 [02:21<00:14,  1.10it/s]"
     ]
    },
    {
     "name": "stdout",
     "output_type": "stream",
     "text": [
      "tensor(0.5583, device='cuda:0')\n",
      "tensor(0.5583, device='cuda:0')\n",
      "tensor([[ 0.5583, -0.6474],\n",
      "        [ 0.5583, -0.5870],\n",
      "        [-0.3332, -0.6474]], device='cuda:0')\n"
     ]
    },
    {
     "name": "stderr",
     "output_type": "stream",
     "text": [
      "\r",
      " 91%|██████████████████████████████████████████████████████████████████████████████████████████████████████████████████████████████████████████████████████▏              | 152/167 [02:22<00:12,  1.24it/s]"
     ]
    },
    {
     "name": "stdout",
     "output_type": "stream",
     "text": [
      "tensor(-0.2705, device='cuda:0')\n",
      "tensor(-0.2506, device='cuda:0')\n",
      "tensor([[-0.2705, -0.3209],\n",
      "        [-0.2506,  0.1309],\n",
      "        [-0.1544,  0.1309]], device='cuda:0')\n"
     ]
    },
    {
     "name": "stderr",
     "output_type": "stream",
     "text": [
      "\r",
      " 92%|███████████████████████████████████████████████████████████████████████████████████████████████████████████████████████████████████████████████████████▏             | 153/167 [02:23<00:11,  1.27it/s]"
     ]
    },
    {
     "name": "stdout",
     "output_type": "stream",
     "text": [
      "tensor(0.1195, device='cuda:0')\n",
      "tensor(0.1195, device='cuda:0')\n",
      "tensor([[ 0.1195, -0.2000],\n",
      "        [ 0.1195,  0.0937],\n",
      "        [ 0.1195, -0.1877]], device='cuda:0')\n"
     ]
    },
    {
     "name": "stderr",
     "output_type": "stream",
     "text": [
      "\r",
      " 92%|████████████████████████████████████████████████████████████████████████████████████████████████████████████████████████████████████████████████████████▏            | 154/167 [02:24<00:10,  1.19it/s]"
     ]
    },
    {
     "name": "stdout",
     "output_type": "stream",
     "text": [
      "tensor(0.1637, device='cuda:0')\n",
      "tensor(0.1637, device='cuda:0')\n",
      "tensor([[ 0.1637, -0.0584],\n",
      "        [ 0.1637, -0.2883],\n",
      "        [-0.2109, -0.0584]], device='cuda:0')\n"
     ]
    },
    {
     "name": "stderr",
     "output_type": "stream",
     "text": [
      "\r",
      " 93%|█████████████████████████████████████████████████████████████████████████████████████████████████████████████████████████████████████████████████████████▏           | 155/167 [02:25<00:10,  1.12it/s]"
     ]
    },
    {
     "name": "stdout",
     "output_type": "stream",
     "text": [
      "tensor(-0.0301, device='cuda:0')\n",
      "tensor(-0.4715, device='cuda:0')\n",
      "tensor([[-0.0301,  0.1524],\n",
      "        [-0.4715, -0.5903],\n",
      "        [-0.5903,  0.5050]], device='cuda:0')\n"
     ]
    },
    {
     "name": "stderr",
     "output_type": "stream",
     "text": [
      "\r",
      " 93%|██████████████████████████████████████████████████████████████████████████████████████████████████████████████████████████████████████████████████████████▏          | 156/167 [02:26<00:10,  1.07it/s]"
     ]
    },
    {
     "name": "stdout",
     "output_type": "stream",
     "text": [
      "tensor(0.0817, device='cuda:0')\n",
      "tensor(0.0817, device='cuda:0')\n",
      "tensor([[ 0.0817, -0.1750],\n",
      "        [ 0.0817, -0.0673],\n",
      "        [ 0.0817,  0.0381]], device='cuda:0')\n"
     ]
    },
    {
     "name": "stderr",
     "output_type": "stream",
     "text": [
      "\r",
      " 94%|███████████████████████████████████████████████████████████████████████████████████████████████████████████████████████████████████████████████████████████          | 157/167 [02:27<00:09,  1.06it/s]"
     ]
    },
    {
     "name": "stdout",
     "output_type": "stream",
     "text": [
      "tensor(-0.0081, device='cuda:0')\n",
      "tensor(-0.0081, device='cuda:0')\n",
      "tensor([[-0.0081, -0.1389],\n",
      "        [-0.0081,  0.0263],\n",
      "        [-0.1424, -0.1482]], device='cuda:0')\n"
     ]
    },
    {
     "name": "stderr",
     "output_type": "stream",
     "text": [
      "\r",
      " 95%|████████████████████████████████████████████████████████████████████████████████████████████████████████████████████████████████████████████████████████████         | 158/167 [02:28<00:08,  1.06it/s]"
     ]
    },
    {
     "name": "stdout",
     "output_type": "stream",
     "text": [
      "tensor(0.3126, device='cuda:0')\n",
      "tensor(0.3126, device='cuda:0')\n",
      "tensor([[ 0.3126, -0.1220],\n",
      "        [ 0.3126, -0.2968],\n",
      "        [ 0.3126, -0.0551]], device='cuda:0')\n"
     ]
    },
    {
     "name": "stderr",
     "output_type": "stream",
     "text": [
      "\r",
      " 95%|█████████████████████████████████████████████████████████████████████████████████████████████████████████████████████████████████████████████████████████████        | 159/167 [02:29<00:07,  1.02it/s]"
     ]
    },
    {
     "name": "stdout",
     "output_type": "stream",
     "text": [
      "tensor(-0.0025, device='cuda:0')\n",
      "tensor(-0.0025, device='cuda:0')\n",
      "tensor([[-0.0025, -0.3915],\n",
      "        [-0.0025,  0.4333],\n",
      "        [ 0.1625, -0.3772]], device='cuda:0')\n"
     ]
    },
    {
     "name": "stderr",
     "output_type": "stream",
     "text": [
      "\r",
      " 96%|██████████████████████████████████████████████████████████████████████████████████████████████████████████████████████████████████████████████████████████████       | 160/167 [02:30<00:06,  1.03it/s]"
     ]
    },
    {
     "name": "stdout",
     "output_type": "stream",
     "text": [
      "tensor(-0.3474, device='cuda:0')\n",
      "tensor(-0.3474, device='cuda:0')\n",
      "tensor([[-0.3474,  0.2439],\n",
      "        [-0.3474, -0.0979],\n",
      "        [-0.3474, -0.1508]], device='cuda:0')\n"
     ]
    },
    {
     "name": "stderr",
     "output_type": "stream",
     "text": [
      "\r",
      " 96%|███████████████████████████████████████████████████████████████████████████████████████████████████████████████████████████████████████████████████████████████      | 161/167 [02:31<00:05,  1.02it/s]"
     ]
    },
    {
     "name": "stdout",
     "output_type": "stream",
     "text": [
      "tensor(0.2232, device='cuda:0')\n",
      "tensor(0.2232, device='cuda:0')\n",
      "tensor([[ 0.2232, -0.1896],\n",
      "        [ 0.2232,  0.0979],\n",
      "        [ 0.2232, -0.1581]], device='cuda:0')\n"
     ]
    },
    {
     "name": "stderr",
     "output_type": "stream",
     "text": [
      "\r",
      " 97%|████████████████████████████████████████████████████████████████████████████████████████████████████████████████████████████████████████████████████████████████     | 162/167 [02:32<00:05,  1.00s/it]"
     ]
    },
    {
     "name": "stdout",
     "output_type": "stream",
     "text": [
      "tensor(-0.2945, device='cuda:0')\n",
      "tensor(-0.2945, device='cuda:0')\n",
      "tensor([[-0.2945,  0.1219],\n",
      "        [-0.2945, -0.2338],\n",
      "        [-0.2945,  0.1757]], device='cuda:0')\n"
     ]
    },
    {
     "name": "stderr",
     "output_type": "stream",
     "text": [
      "\r",
      " 98%|█████████████████████████████████████████████████████████████████████████████████████████████████████████████████████████████████████████████████████████████████    | 163/167 [02:33<00:03,  1.01it/s]"
     ]
    },
    {
     "name": "stdout",
     "output_type": "stream",
     "text": [
      "tensor(0.0046, device='cuda:0')\n",
      "tensor(0.0046, device='cuda:0')\n",
      "tensor([[ 0.0046, -0.1243],\n",
      "        [ 0.0046,  0.1245],\n",
      "        [ 0.0046, -0.0348]], device='cuda:0')\n"
     ]
    },
    {
     "name": "stderr",
     "output_type": "stream",
     "text": [
      "\r",
      " 98%|██████████████████████████████████████████████████████████████████████████████████████████████████████████████████████████████████████████████████████████████████   | 164/167 [02:34<00:02,  1.01it/s]"
     ]
    },
    {
     "name": "stdout",
     "output_type": "stream",
     "text": [
      "tensor(-0.3459, device='cuda:0')\n",
      "tensor(-0.3459, device='cuda:0')\n",
      "tensor([[-0.3459, -0.2319],\n",
      "        [-0.3459, -0.1248],\n",
      "        [-0.3459, -0.3254]], device='cuda:0')\n"
     ]
    },
    {
     "name": "stderr",
     "output_type": "stream",
     "text": [
      "\r",
      " 99%|███████████████████████████████████████████████████████████████████████████████████████████████████████████████████████████████████████████████████████████████████  | 165/167 [02:35<00:02,  1.01s/it]"
     ]
    },
    {
     "name": "stdout",
     "output_type": "stream",
     "text": [
      "tensor(-0.1453, device='cuda:0')\n",
      "tensor(-0.1484, device='cuda:0')\n",
      "tensor([[-0.1453,  0.0352],\n",
      "        [-0.1484,  0.2388],\n",
      "        [-0.1484, -0.1272]], device='cuda:0')\n"
     ]
    },
    {
     "name": "stderr",
     "output_type": "stream",
     "text": [
      "100%|█████████████████████████████████████████████████████████████████████████████████████████████████████████████████████████████████████████████████████████████████████| 167/167 [02:36<00:00,  1.07it/s]"
     ]
    },
    {
     "name": "stdout",
     "output_type": "stream",
     "text": [
      "tensor(-0.4462, device='cuda:0')\n",
      "tensor(0.2846, device='cuda:0')\n",
      "tensor([[-0.4462,  0.5072],\n",
      "        [ 0.2846, -0.1538],\n",
      "        [ 0.2846, -0.4484]], device='cuda:0')\n",
      "tensor(-0.1242, device='cuda:0')\n",
      "tensor(-0.1242, device='cuda:0')\n",
      "tensor([[-0.1242, -0.3340],\n",
      "        [-0.1242,  0.2511],\n",
      "        [-0.1242, -0.2509]], device='cuda:0')\n"
     ]
    },
    {
     "name": "stderr",
     "output_type": "stream",
     "text": [
      "\n"
     ]
    }
   ],
   "source": [
    "df_test_rand = eval_model(test_dataset, model)"
   ]
  },
  {
   "cell_type": "code",
   "execution_count": 57,
   "id": "bba8f8b8",
   "metadata": {},
   "outputs": [
    {
     "data": {
      "text/html": [
       "<div>\n",
       "<style scoped>\n",
       "    .dataframe tbody tr th:only-of-type {\n",
       "        vertical-align: middle;\n",
       "    }\n",
       "\n",
       "    .dataframe tbody tr th {\n",
       "        vertical-align: top;\n",
       "    }\n",
       "\n",
       "    .dataframe thead th {\n",
       "        text-align: right;\n",
       "    }\n",
       "</style>\n",
       "<table border=\"1\" class=\"dataframe\">\n",
       "  <thead>\n",
       "    <tr style=\"text-align: right;\">\n",
       "      <th></th>\n",
       "      <th>pred</th>\n",
       "      <th>read</th>\n",
       "      <th>uid</th>\n",
       "    </tr>\n",
       "  </thead>\n",
       "  <tbody>\n",
       "    <tr>\n",
       "      <th>0</th>\n",
       "      <td>0</td>\n",
       "      <td>1</td>\n",
       "      <td>49154</td>\n",
       "    </tr>\n",
       "    <tr>\n",
       "      <th>1</th>\n",
       "      <td>0</td>\n",
       "      <td>1</td>\n",
       "      <td>49154</td>\n",
       "    </tr>\n",
       "    <tr>\n",
       "      <th>2</th>\n",
       "      <td>0</td>\n",
       "      <td>1</td>\n",
       "      <td>49154</td>\n",
       "    </tr>\n",
       "    <tr>\n",
       "      <th>3</th>\n",
       "      <td>0</td>\n",
       "      <td>1</td>\n",
       "      <td>49154</td>\n",
       "    </tr>\n",
       "    <tr>\n",
       "      <th>4</th>\n",
       "      <td>0</td>\n",
       "      <td>1</td>\n",
       "      <td>49154</td>\n",
       "    </tr>\n",
       "    <tr>\n",
       "      <th>...</th>\n",
       "      <td>...</td>\n",
       "      <td>...</td>\n",
       "      <td>...</td>\n",
       "    </tr>\n",
       "    <tr>\n",
       "      <th>21257</th>\n",
       "      <td>0</td>\n",
       "      <td>0</td>\n",
       "      <td>172030</td>\n",
       "    </tr>\n",
       "    <tr>\n",
       "      <th>21258</th>\n",
       "      <td>0</td>\n",
       "      <td>0</td>\n",
       "      <td>172030</td>\n",
       "    </tr>\n",
       "    <tr>\n",
       "      <th>21259</th>\n",
       "      <td>1</td>\n",
       "      <td>0</td>\n",
       "      <td>172030</td>\n",
       "    </tr>\n",
       "    <tr>\n",
       "      <th>21260</th>\n",
       "      <td>0</td>\n",
       "      <td>0</td>\n",
       "      <td>172030</td>\n",
       "    </tr>\n",
       "    <tr>\n",
       "      <th>21261</th>\n",
       "      <td>0</td>\n",
       "      <td>0</td>\n",
       "      <td>172030</td>\n",
       "    </tr>\n",
       "  </tbody>\n",
       "</table>\n",
       "<p>21262 rows × 3 columns</p>\n",
       "</div>"
      ],
      "text/plain": [
       "       pred  read     uid\n",
       "0         0     1   49154\n",
       "1         0     1   49154\n",
       "2         0     1   49154\n",
       "3         0     1   49154\n",
       "4         0     1   49154\n",
       "...     ...   ...     ...\n",
       "21257     0     0  172030\n",
       "21258     0     0  172030\n",
       "21259     1     0  172030\n",
       "21260     0     0  172030\n",
       "21261     0     0  172030\n",
       "\n",
       "[21262 rows x 3 columns]"
      ]
     },
     "execution_count": 57,
     "metadata": {},
     "output_type": "execute_result"
    }
   ],
   "source": [
    "df_test_rand"
   ]
  },
  {
   "cell_type": "code",
   "execution_count": 59,
   "id": "59a6f0ab",
   "metadata": {},
   "outputs": [
    {
     "data": {
      "text/plain": [
       "0.45466089737559967"
      ]
     },
     "execution_count": 59,
     "metadata": {},
     "output_type": "execute_result"
    }
   ],
   "source": [
    "get_acc(df_test_rand)"
   ]
  },
  {
   "cell_type": "code",
   "execution_count": 61,
   "id": "b085cfab",
   "metadata": {},
   "outputs": [
    {
     "name": "stderr",
     "output_type": "stream",
     "text": [
      "  0%|▏                                                                                                                                                                      | 1/774 [00:00<12:34,  1.03it/s]"
     ]
    },
    {
     "name": "stdout",
     "output_type": "stream",
     "text": [
      "tensor(-0.3393, device='cuda:0')\n",
      "tensor(-0.2880, device='cuda:0')\n",
      "tensor([[-0.3393,  0.2629],\n",
      "        [-0.2880,  0.4195],\n",
      "        [-0.2880,  0.4509]], device='cuda:0')\n"
     ]
    },
    {
     "name": "stderr",
     "output_type": "stream",
     "text": [
      "\r",
      "  0%|▍                                                                                                                                                                      | 2/774 [00:01<12:53,  1.00s/it]"
     ]
    },
    {
     "name": "stdout",
     "output_type": "stream",
     "text": [
      "tensor(0.1354, device='cuda:0')\n",
      "tensor(0.1426, device='cuda:0')\n",
      "tensor([[ 0.1354,  0.0239],\n",
      "        [ 0.1426,  0.1169],\n",
      "        [ 0.1426, -0.0152]], device='cuda:0')\n"
     ]
    },
    {
     "name": "stderr",
     "output_type": "stream",
     "text": [
      "\r",
      "  0%|▋                                                                                                                                                                      | 3/774 [00:03<13:05,  1.02s/it]"
     ]
    },
    {
     "name": "stdout",
     "output_type": "stream",
     "text": [
      "tensor(0.2506, device='cuda:0')\n",
      "tensor(0.1030, device='cuda:0')\n",
      "tensor([[ 0.2506, -0.1976],\n",
      "        [ 0.1030, -0.0861],\n",
      "        [ 0.2459, -0.0780]], device='cuda:0')\n"
     ]
    },
    {
     "name": "stderr",
     "output_type": "stream",
     "text": [
      "\r",
      "  1%|▊                                                                                                                                                                      | 4/774 [00:03<12:42,  1.01it/s]"
     ]
    },
    {
     "name": "stdout",
     "output_type": "stream",
     "text": [
      "tensor(-0.1151, device='cuda:0')\n",
      "tensor(-0.1151, device='cuda:0')\n",
      "tensor([[-0.1151,  0.2021],\n",
      "        [-0.1151, -0.1324],\n",
      "        [ 0.2694, -0.0183]], device='cuda:0')\n"
     ]
    },
    {
     "name": "stderr",
     "output_type": "stream",
     "text": [
      "\r",
      "  1%|█                                                                                                                                                                      | 5/774 [00:04<12:44,  1.01it/s]"
     ]
    },
    {
     "name": "stdout",
     "output_type": "stream",
     "text": [
      "tensor(0.1700, device='cuda:0')\n",
      "tensor(-0.0678, device='cuda:0')\n",
      "tensor([[ 0.1700, -0.4538],\n",
      "        [-0.0678, -0.2842],\n",
      "        [-0.0678, -0.3206]], device='cuda:0')\n"
     ]
    },
    {
     "name": "stderr",
     "output_type": "stream",
     "text": [
      "\r",
      "  1%|█▎                                                                                                                                                                     | 6/774 [00:06<12:53,  1.01s/it]"
     ]
    },
    {
     "name": "stdout",
     "output_type": "stream",
     "text": [
      "tensor(0.3819, device='cuda:0')\n",
      "tensor(0.3819, device='cuda:0')\n",
      "tensor([[ 0.3819, -0.4283],\n",
      "        [ 0.3819, -0.0475],\n",
      "        [ 0.3819, -0.4513]], device='cuda:0')\n"
     ]
    },
    {
     "name": "stderr",
     "output_type": "stream",
     "text": [
      "\r",
      "  1%|█▌                                                                                                                                                                     | 7/774 [00:06<12:36,  1.01it/s]"
     ]
    },
    {
     "name": "stdout",
     "output_type": "stream",
     "text": [
      "tensor(0.6578, device='cuda:0')\n",
      "tensor(0.6578, device='cuda:0')\n",
      "tensor([[ 0.6578, -0.4413],\n",
      "        [ 0.6578, -0.5314],\n",
      "        [ 0.6578, -0.3664]], device='cuda:0')\n"
     ]
    },
    {
     "name": "stderr",
     "output_type": "stream",
     "text": [
      "\r",
      "  1%|█▋                                                                                                                                                                     | 8/774 [00:07<12:39,  1.01it/s]"
     ]
    },
    {
     "name": "stdout",
     "output_type": "stream",
     "text": [
      "tensor(0.2009, device='cuda:0')\n",
      "tensor(-0.1851, device='cuda:0')\n",
      "tensor([[ 0.2009,  0.1206],\n",
      "        [-0.1851,  0.6220],\n",
      "        [ 0.2009,  0.4652]], device='cuda:0')\n"
     ]
    },
    {
     "name": "stderr",
     "output_type": "stream",
     "text": [
      "\r",
      "  1%|█▉                                                                                                                                                                     | 9/774 [00:09<12:50,  1.01s/it]"
     ]
    },
    {
     "name": "stdout",
     "output_type": "stream",
     "text": [
      "tensor(0.3275, device='cuda:0')\n",
      "tensor(0.3275, device='cuda:0')\n",
      "tensor([[ 0.3275,  0.3824],\n",
      "        [ 0.3275, -0.3459],\n",
      "        [ 0.3275,  0.0048]], device='cuda:0')\n"
     ]
    },
    {
     "name": "stderr",
     "output_type": "stream",
     "text": [
      "\r",
      "  1%|██▏                                                                                                                                                                   | 10/774 [00:09<12:32,  1.01it/s]"
     ]
    },
    {
     "name": "stdout",
     "output_type": "stream",
     "text": [
      "tensor(0.2613, device='cuda:0')\n",
      "tensor(0.4599, device='cuda:0')\n",
      "tensor([[ 0.2613, -0.2175],\n",
      "        [ 0.4599, -0.2717],\n",
      "        [ 0.4599,  0.0909]], device='cuda:0')\n"
     ]
    },
    {
     "name": "stderr",
     "output_type": "stream",
     "text": [
      "\r",
      "  1%|██▏                                                                                                                                                                   | 10/774 [00:10<13:55,  1.09s/it]"
     ]
    },
    {
     "name": "stdout",
     "output_type": "stream",
     "text": [
      "tensor(0.3066, device='cuda:0')\n",
      "tensor(0.3542, device='cuda:0')\n",
      "tensor([[ 0.3066, -0.1900],\n",
      "        [ 0.3542, -0.2466],\n",
      "        [ 0.3542, -0.2247]], device='cuda:0')\n"
     ]
    },
    {
     "name": "stderr",
     "output_type": "stream",
     "text": [
      "\n"
     ]
    }
   ],
   "source": [
    "df_test = eval_model(train_dataset, model, True)"
   ]
  },
  {
   "cell_type": "code",
   "execution_count": 62,
   "id": "a30b786b",
   "metadata": {},
   "outputs": [
    {
     "data": {
      "text/html": [
       "<div>\n",
       "<style scoped>\n",
       "    .dataframe tbody tr th:only-of-type {\n",
       "        vertical-align: middle;\n",
       "    }\n",
       "\n",
       "    .dataframe tbody tr th {\n",
       "        vertical-align: top;\n",
       "    }\n",
       "\n",
       "    .dataframe thead th {\n",
       "        text-align: right;\n",
       "    }\n",
       "</style>\n",
       "<table border=\"1\" class=\"dataframe\">\n",
       "  <thead>\n",
       "    <tr style=\"text-align: right;\">\n",
       "      <th></th>\n",
       "      <th>pred</th>\n",
       "      <th>read</th>\n",
       "      <th>uid</th>\n",
       "    </tr>\n",
       "  </thead>\n",
       "  <tbody>\n",
       "    <tr>\n",
       "      <th>0</th>\n",
       "      <td>1</td>\n",
       "      <td>0</td>\n",
       "      <td>49154</td>\n",
       "    </tr>\n",
       "    <tr>\n",
       "      <th>1</th>\n",
       "      <td>1</td>\n",
       "      <td>0</td>\n",
       "      <td>32773</td>\n",
       "    </tr>\n",
       "    <tr>\n",
       "      <th>2</th>\n",
       "      <td>1</td>\n",
       "      <td>0</td>\n",
       "      <td>32773</td>\n",
       "    </tr>\n",
       "    <tr>\n",
       "      <th>3</th>\n",
       "      <td>1</td>\n",
       "      <td>0</td>\n",
       "      <td>32773</td>\n",
       "    </tr>\n",
       "    <tr>\n",
       "      <th>4</th>\n",
       "      <td>1</td>\n",
       "      <td>0</td>\n",
       "      <td>32773</td>\n",
       "    </tr>\n",
       "    <tr>\n",
       "      <th>...</th>\n",
       "      <td>...</td>\n",
       "      <td>...</td>\n",
       "      <td>...</td>\n",
       "    </tr>\n",
       "    <tr>\n",
       "      <th>1403</th>\n",
       "      <td>1</td>\n",
       "      <td>0</td>\n",
       "      <td>245864</td>\n",
       "    </tr>\n",
       "    <tr>\n",
       "      <th>1404</th>\n",
       "      <td>1</td>\n",
       "      <td>0</td>\n",
       "      <td>139387</td>\n",
       "    </tr>\n",
       "    <tr>\n",
       "      <th>1405</th>\n",
       "      <td>1</td>\n",
       "      <td>0</td>\n",
       "      <td>278633</td>\n",
       "    </tr>\n",
       "    <tr>\n",
       "      <th>1406</th>\n",
       "      <td>1</td>\n",
       "      <td>0</td>\n",
       "      <td>245864</td>\n",
       "    </tr>\n",
       "    <tr>\n",
       "      <th>1407</th>\n",
       "      <td>1</td>\n",
       "      <td>0</td>\n",
       "      <td>245864</td>\n",
       "    </tr>\n",
       "  </tbody>\n",
       "</table>\n",
       "<p>1408 rows × 3 columns</p>\n",
       "</div>"
      ],
      "text/plain": [
       "      pred  read     uid\n",
       "0        1     0   49154\n",
       "1        1     0   32773\n",
       "2        1     0   32773\n",
       "3        1     0   32773\n",
       "4        1     0   32773\n",
       "...    ...   ...     ...\n",
       "1403     1     0  245864\n",
       "1404     1     0  139387\n",
       "1405     1     0  278633\n",
       "1406     1     0  245864\n",
       "1407     1     0  245864\n",
       "\n",
       "[1408 rows x 3 columns]"
      ]
     },
     "execution_count": 62,
     "metadata": {},
     "output_type": "execute_result"
    }
   ],
   "source": [
    "df_test"
   ]
  },
  {
   "cell_type": "code",
   "execution_count": 63,
   "id": "a26379b8",
   "metadata": {},
   "outputs": [
    {
     "data": {
      "text/plain": [
       "0.06676136363636363"
      ]
     },
     "execution_count": 63,
     "metadata": {},
     "output_type": "execute_result"
    }
   ],
   "source": [
    "get_acc(df_test)"
   ]
  },
  {
   "cell_type": "code",
   "execution_count": null,
   "id": "652a074a",
   "metadata": {},
   "outputs": [],
   "source": []
  },
  {
   "cell_type": "code",
   "execution_count": null,
   "id": "a94009f6",
   "metadata": {},
   "outputs": [],
   "source": []
  },
  {
   "cell_type": "code",
   "execution_count": null,
   "id": "de00eedc",
   "metadata": {},
   "outputs": [],
   "source": [
    "get_acc(df_test)"
   ]
  },
  {
   "cell_type": "code",
   "execution_count": null,
   "id": "97ad27d4",
   "metadata": {},
   "outputs": [],
   "source": []
  },
  {
   "cell_type": "code",
   "execution_count": null,
   "id": "9c6f150d",
   "metadata": {},
   "outputs": [],
   "source": [
    "df_train = eval_model(train_dataset, model)"
   ]
  },
  {
   "cell_type": "code",
   "execution_count": 13,
   "id": "0019b3e8",
   "metadata": {},
   "outputs": [],
   "source": [
    "def get_acc(df: pd.DataFrame)->float:\n",
    "    return (df.pred == df.read).sum() / df.shape[0]"
   ]
  },
  {
   "cell_type": "code",
   "execution_count": null,
   "id": "cae7a63a",
   "metadata": {},
   "outputs": [],
   "source": [
    "train_acc = (df_train.pred == df_train.read).sum() / df_train.shape[0]\n",
    "test_acc = (df_test.pred == df_test.read).sum() / df_test.shape[0]\n",
    "\n",
    "print(train_acc, test_acc)"
   ]
  },
  {
   "cell_type": "code",
   "execution_count": null,
   "id": "92015aff",
   "metadata": {},
   "outputs": [],
   "source": [
    "train_count = df_train.uid.value_counts()\n",
    "test_count = df_test.uid.value_counts()"
   ]
  },
  {
   "cell_type": "code",
   "execution_count": null,
   "id": "e2403248",
   "metadata": {},
   "outputs": [],
   "source": [
    "train_count = train_count[train_count.index.isin(test_count.index)]"
   ]
  },
  {
   "cell_type": "code",
   "execution_count": null,
   "id": "ace9ad24",
   "metadata": {},
   "outputs": [],
   "source": [
    "train_count = train_count.sort_index()\n",
    "test_count = test_count.sort_index()"
   ]
  },
  {
   "cell_type": "code",
   "execution_count": null,
   "id": "1f3b6b4c",
   "metadata": {},
   "outputs": [],
   "source": [
    "all(train_count.index == test_count.index)"
   ]
  },
  {
   "cell_type": "code",
   "execution_count": null,
   "id": "826fd9d2",
   "metadata": {},
   "outputs": [],
   "source": [
    "all_counts = pd.concat([train_count, test_count],1)"
   ]
  },
  {
   "cell_type": "code",
   "execution_count": null,
   "id": "30ddd23e",
   "metadata": {},
   "outputs": [],
   "source": [
    "all_counts = all_counts.set_axis([\"trainCount\", \"testCount\"], axis=1)"
   ]
  },
  {
   "cell_type": "code",
   "execution_count": null,
   "id": "0686a224",
   "metadata": {},
   "outputs": [],
   "source": [
    "all_counts"
   ]
  },
  {
   "cell_type": "code",
   "execution_count": null,
   "id": "b483829e",
   "metadata": {},
   "outputs": [],
   "source": [
    "items = list()\n",
    "for i, row in all_counts.iterrows():\n",
    "    acc = get_acc(df_test[df_test.uid == i])\n",
    "    item = list(row) + [acc, i]\n",
    "    items.append(item)\n"
   ]
  },
  {
   "cell_type": "code",
   "execution_count": null,
   "id": "1ca841ac",
   "metadata": {},
   "outputs": [],
   "source": [
    "result_df = pd.DataFrame(items, columns=[\"trainCount\", \"testCount\", \"acc\", \"uid\"])"
   ]
  },
  {
   "cell_type": "code",
   "execution_count": null,
   "id": "61d43b8d",
   "metadata": {},
   "outputs": [],
   "source": [
    "import matplotlib.pyplot as plt"
   ]
  },
  {
   "cell_type": "code",
   "execution_count": null,
   "id": "6c86386f",
   "metadata": {},
   "outputs": [],
   "source": [
    "plt.style.use('ggplot')\n",
    "sns.set_style(\"whitegrid\", {'axes.grid' : False})\n"
   ]
  },
  {
   "cell_type": "code",
   "execution_count": null,
   "id": "d733c5cb",
   "metadata": {},
   "outputs": [],
   "source": [
    "plt.figure(figsize=(10, 6))\n",
    "\n",
    "ax = sns.histplot(result_df.acc)\n",
    "\n",
    "ax.invert_xaxis()\n",
    "\n",
    "#plt.legend(title='', loc='upper right', labels=['Prosit Transformer', 'Prosit RNN'], prop={\"size\":14})\n",
    "\n",
    "A = ax.get_legend()\n",
    "#A.set_title('')\n",
    "\n",
    "#plt.setp(A.get_texts(), fontsize='14') # for legend text\n",
    "#plt.setp(A.get_title(), fontsize='14') # for legend title\n",
    "\n",
    "plt.xlabel(\"Accuracy\", fontsize=14)\n",
    "plt.xticks(fontsize=14)\n",
    "plt.yticks(fontsize=14)\n",
    "plt.ylabel(\"Number of Users\", fontsize=14)\n",
    "plt.tight_layout()\n",
    "\n",
    "#seaborn.histplot(data=filterDf(datafile), x=\"Angular Similarity\", hue=\"Data Set\", alpha=0.2)\n",
    "#plt.savefig('./plots/spectralAngleDist.png')"
   ]
  },
  {
   "cell_type": "code",
   "execution_count": null,
   "id": "a53782a1",
   "metadata": {},
   "outputs": [],
   "source": [
    "plt.figure(figsize=(10, 6))\n",
    "\n",
    "ax = sns.histplot(result_df[result_df.trainCount>20].acc)\n",
    "\n",
    "ax.invert_xaxis()\n",
    "\n",
    "#plt.legend(title='', loc='upper right', labels=['Prosit Transformer', 'Prosit RNN'], prop={\"size\":14})\n",
    "\n",
    "A = ax.get_legend()\n",
    "#A.set_title('')\n",
    "\n",
    "#plt.setp(A.get_texts(), fontsize='14') # for legend text\n",
    "#plt.setp(A.get_title(), fontsize='14') # for legend title\n",
    "\n",
    "plt.xlabel(\"Accuracy\", fontsize=14)\n",
    "plt.xticks(fontsize=14)\n",
    "plt.yticks(fontsize=14)\n",
    "plt.ylabel(\"Density\", fontsize=14)\n",
    "plt.tight_layout()\n",
    "\n",
    "#seaborn.histplot(data=filterDf(datafile), x=\"Angular Similarity\", hue=\"Data Set\", alpha=0.2)\n",
    "#plt.savefig('./plots/spectralAngleDist.png')"
   ]
  },
  {
   "cell_type": "code",
   "execution_count": null,
   "id": "7b0c9737",
   "metadata": {},
   "outputs": [],
   "source": []
  },
  {
   "cell_type": "code",
   "execution_count": null,
   "id": "15240f29",
   "metadata": {},
   "outputs": [],
   "source": []
  },
  {
   "cell_type": "code",
   "execution_count": null,
   "id": "e47abbdd",
   "metadata": {},
   "outputs": [],
   "source": [
    "plt.figure(figsize=(10, 6))\n",
    "ax = sns.histplot(result_df[(result_df.trainCount>10) & (result_df.testCount>5)].acc)\n",
    "\n",
    "ax.invert_xaxis()\n",
    "\n",
    "#plt.legend(title='', loc='upper right', labels=['Prosit Transformer', 'Prosit RNN'], prop={\"size\":14})\n",
    "\n",
    "A = ax.get_legend()\n",
    "#A.set_title('')\n",
    "\n",
    "#plt.setp(A.get_texts(), fontsize='14') # for legend text\n",
    "#plt.setp(A.get_title(), fontsize='14') # for legend title\n",
    "\n",
    "plt.xlabel(\"Accuracy\", fontsize=14)\n",
    "plt.xticks(fontsize=14)\n",
    "plt.yticks(fontsize=14)\n",
    "plt.ylabel(\"Number of Users\", fontsize=14)\n",
    "plt.tight_layout()\n",
    "\n",
    "#seaborn.histplot(data=filterDf(datafile), x=\"Angular Similarity\", hue=\"Data Set\", alpha=0.2)\n",
    "#plt.savefig('./plots/spectralAngleDist.png')"
   ]
  },
  {
   "cell_type": "code",
   "execution_count": null,
   "id": "30d466d0",
   "metadata": {},
   "outputs": [],
   "source": []
  },
  {
   "cell_type": "code",
   "execution_count": null,
   "id": "d27f9cc5",
   "metadata": {},
   "outputs": [],
   "source": []
  },
  {
   "cell_type": "code",
   "execution_count": null,
   "id": "902e012d",
   "metadata": {},
   "outputs": [],
   "source": []
  },
  {
   "cell_type": "code",
   "execution_count": null,
   "id": "fd6c683c",
   "metadata": {},
   "outputs": [],
   "source": [
    "ax = sns.distplot(result_df.acc, hist=False)"
   ]
  },
  {
   "cell_type": "code",
   "execution_count": null,
   "id": "404c16eb",
   "metadata": {},
   "outputs": [],
   "source": [
    "result_df"
   ]
  },
  {
   "cell_type": "code",
   "execution_count": null,
   "id": "090e45b6",
   "metadata": {},
   "outputs": [],
   "source": []
  },
  {
   "cell_type": "code",
   "execution_count": null,
   "id": "de735d0c",
   "metadata": {},
   "outputs": [],
   "source": [
    "row"
   ]
  },
  {
   "cell_type": "code",
   "execution_count": null,
   "id": "1461470b",
   "metadata": {},
   "outputs": [],
   "source": []
  },
  {
   "cell_type": "code",
   "execution_count": null,
   "id": "b6e9a706",
   "metadata": {},
   "outputs": [],
   "source": []
  },
  {
   "cell_type": "code",
   "execution_count": null,
   "id": "bcc934a6",
   "metadata": {},
   "outputs": [],
   "source": [
    "ixs_1 = train_count[train_count == 1].index"
   ]
  },
  {
   "cell_type": "code",
   "execution_count": null,
   "id": "8635466a",
   "metadata": {},
   "outputs": [],
   "source": [
    "get_acc(df_test[df_test.uid.isin(ixs_1)])"
   ]
  },
  {
   "cell_type": "code",
   "execution_count": null,
   "id": "426737e3",
   "metadata": {},
   "outputs": [],
   "source": [
    "def get_ixs(counts, l, b=None):\n",
    "    if b is not None:\n",
    "        return counts[(l <= counts) & (counts <= b)].index\n",
    "    else:\n",
    "        return counts[counts == l].index\n",
    "    \n",
    "def filerDf(df, train_ix, test_ix):\n",
    "    df = df[df.uid.isin(train_ix)]\n",
    "    df = df[df.uid.isin(test_ix)]\n",
    "    return df\n",
    "    \n",
    "def getUserAcc(df):\n",
    "    acc_list = list()\n",
    "    for uid in df_10.uid:\n",
    "        acc = get_acc(df[df.uid == uid])\n",
    "        acc_list.append(acc)\n",
    "    return acc_list\n",
    "  "
   ]
  },
  {
   "cell_type": "code",
   "execution_count": null,
   "id": "86484413",
   "metadata": {},
   "outputs": [],
   "source": [
    "train_ixs_10 = get_ixs(train_count, 5, 10) \n",
    "test_ixs_10 = get_ixs(test_count, 5, 10) \n",
    "df_10 = filerDf(df, train_ixs_10, test_ixs_10)"
   ]
  },
  {
   "cell_type": "code",
   "execution_count": null,
   "id": "ce117f75",
   "metadata": {},
   "outputs": [],
   "source": [
    "acc_list = getUserAcc(df_10)\n",
    "sns.boxplot(acc_list)"
   ]
  },
  {
   "cell_type": "code",
   "execution_count": null,
   "id": "f1703abb",
   "metadata": {},
   "outputs": [],
   "source": []
  },
  {
   "cell_type": "code",
   "execution_count": null,
   "id": "a59245ad",
   "metadata": {},
   "outputs": [],
   "source": [
    "train_ixs_10 = get_ixs(train_count, 10, 100) \n",
    "test_ixs_10 = get_ixs(test_count, 10, 100) \n",
    "df_10 = filerDf(df, train_ixs_10, test_ixs_10)\n",
    "acc_list = getUserAcc(df_10)\n",
    "sns.boxplot(acc_list)"
   ]
  },
  {
   "cell_type": "code",
   "execution_count": null,
   "id": "36bb6082",
   "metadata": {},
   "outputs": [],
   "source": [
    "train_ixs_10 = get_ixs(train_count, 100, 1000) \n",
    "test_ixs_10 = get_ixs(test_count, 1, 1000) \n",
    "df_10 = filerDf(df, train_ixs_10, test_ixs_10)\n",
    "acc_list = getUserAcc(df_10)\n",
    "sns.boxplot(acc_list)"
   ]
  },
  {
   "cell_type": "code",
   "execution_count": null,
   "id": "0c773013",
   "metadata": {},
   "outputs": [],
   "source": []
  },
  {
   "cell_type": "code",
   "execution_count": null,
   "id": "ef59a7ac",
   "metadata": {},
   "outputs": [],
   "source": []
  },
  {
   "cell_type": "code",
   "execution_count": null,
   "id": "66e9c5e3",
   "metadata": {},
   "outputs": [],
   "source": []
  },
  {
   "cell_type": "code",
   "execution_count": null,
   "id": "fdfb1315",
   "metadata": {},
   "outputs": [],
   "source": [
    "get_acc(df_10[df_10.uid == uid])"
   ]
  },
  {
   "cell_type": "code",
   "execution_count": null,
   "id": "628c570b",
   "metadata": {},
   "outputs": [],
   "source": []
  },
  {
   "cell_type": "code",
   "execution_count": null,
   "id": "0f779b2a",
   "metadata": {},
   "outputs": [],
   "source": []
  },
  {
   "cell_type": "code",
   "execution_count": null,
   "id": "029a5af7",
   "metadata": {},
   "outputs": [],
   "source": [
    "get_acc(df_test[df_test.uid.isin(ixs_10)])"
   ]
  },
  {
   "cell_type": "code",
   "execution_count": null,
   "id": "61fc4c74",
   "metadata": {},
   "outputs": [],
   "source": [
    "ixs_100 = train_count[train_count >= 2000].index"
   ]
  },
  {
   "cell_type": "code",
   "execution_count": null,
   "id": "8c9fd47d",
   "metadata": {},
   "outputs": [],
   "source": [
    "get_acc(df_test[df_test.uid.isin(ixs_100)])"
   ]
  },
  {
   "cell_type": "code",
   "execution_count": null,
   "id": "d7ccc351",
   "metadata": {},
   "outputs": [],
   "source": [
    "df_test.uid.isin(ixs_100).sum()"
   ]
  },
  {
   "cell_type": "code",
   "execution_count": null,
   "id": "b34246a1",
   "metadata": {},
   "outputs": [],
   "source": [
    "ixs_100"
   ]
  },
  {
   "cell_type": "code",
   "execution_count": null,
   "id": "4c842ebf",
   "metadata": {},
   "outputs": [],
   "source": []
  },
  {
   "cell_type": "code",
   "execution_count": null,
   "id": "12adb01f",
   "metadata": {},
   "outputs": [],
   "source": []
  },
  {
   "cell_type": "code",
   "execution_count": null,
   "id": "e18d0065",
   "metadata": {},
   "outputs": [],
   "source": []
  },
  {
   "cell_type": "code",
   "execution_count": null,
   "id": "5f5764e8",
   "metadata": {},
   "outputs": [],
   "source": [
    "val_count = df_train.uid.value_counts()"
   ]
  },
  {
   "cell_type": "code",
   "execution_count": null,
   "id": "05bc0814",
   "metadata": {},
   "outputs": [],
   "source": []
  },
  {
   "cell_type": "code",
   "execution_count": null,
   "id": "6fc7d1b4",
   "metadata": {},
   "outputs": [],
   "source": []
  },
  {
   "cell_type": "code",
   "execution_count": null,
   "id": "32fa3de1",
   "metadata": {},
   "outputs": [],
   "source": [
    "preds = np.concatenate(pred_list)\n",
    "reals = np.concatenate(real_list)\n",
    "uids = np.concatenate(uid_list)"
   ]
  },
  {
   "cell_type": "code",
   "execution_count": null,
   "id": "cf55ef15",
   "metadata": {},
   "outputs": [],
   "source": [
    "data = [[p, r, u] for p, r, u in zip(preds, reals, uids)]\n",
    "\n",
    "df = pd.DataFrame(data, columns = [\"pred\", \"read\", \"uid\"])"
   ]
  },
  {
   "cell_type": "code",
   "execution_count": null,
   "id": "2ce059c3",
   "metadata": {},
   "outputs": [],
   "source": [
    "val_count = df.uid.value_counts()"
   ]
  },
  {
   "cell_type": "code",
   "execution_count": null,
   "id": "02895328",
   "metadata": {},
   "outputs": [],
   "source": [
    "counts = (val_count == 1)\n"
   ]
  },
  {
   "cell_type": "code",
   "execution_count": null,
   "id": "46eef1c1",
   "metadata": {},
   "outputs": [],
   "source": [
    "ix = counts[counts.values].index"
   ]
  },
  {
   "cell_type": "code",
   "execution_count": null,
   "id": "fc4b8f1d",
   "metadata": {},
   "outputs": [],
   "source": []
  },
  {
   "cell_type": "code",
   "execution_count": null,
   "id": "e63db937",
   "metadata": {},
   "outputs": [],
   "source": [
    "df_1_review = df[df.uid.isin(ix)]"
   ]
  },
  {
   "cell_type": "code",
   "execution_count": null,
   "id": "42bc06bc",
   "metadata": {},
   "outputs": [],
   "source": [
    "df_1_review"
   ]
  },
  {
   "cell_type": "code",
   "execution_count": null,
   "id": "cdcd4975",
   "metadata": {},
   "outputs": [],
   "source": [
    "(df_1_review.pred == df_1_review.read).sum() / df_1_review.shape[0]"
   ]
  },
  {
   "cell_type": "code",
   "execution_count": null,
   "id": "63dcc204",
   "metadata": {},
   "outputs": [],
   "source": []
  },
  {
   "cell_type": "code",
   "execution_count": null,
   "id": "3930fbc7",
   "metadata": {},
   "outputs": [],
   "source": [
    "preds = torch.cat(pred_list)\n",
    "reals = torch.cat(real_list)"
   ]
  },
  {
   "cell_type": "code",
   "execution_count": null,
   "id": "ce09adbe",
   "metadata": {},
   "outputs": [],
   "source": [
    "(preds == reals).sum() / reals.shape[0]"
   ]
  }
 ],
 "metadata": {
  "kernelspec": {
   "display_name": "Python (recommomendationRanker)",
   "language": "python",
   "name": "recommomendationranker"
  },
  "language_info": {
   "codemirror_mode": {
    "name": "ipython",
    "version": 3
   },
   "file_extension": ".py",
   "mimetype": "text/x-python",
   "name": "python",
   "nbconvert_exporter": "python",
   "pygments_lexer": "ipython3",
   "version": "3.8.13"
  }
 },
 "nbformat": 4,
 "nbformat_minor": 5
}
